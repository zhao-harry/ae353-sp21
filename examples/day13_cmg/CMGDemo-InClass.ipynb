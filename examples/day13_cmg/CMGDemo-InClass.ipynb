{
 "cells": [
  {
   "cell_type": "markdown",
   "id": "middle-acoustic",
   "metadata": {},
   "source": [
    "# Example of how to \"get started\" with the CMG project"
   ]
  },
  {
   "cell_type": "markdown",
   "id": "working-minority",
   "metadata": {},
   "source": [
    "Import modules and configure the notebook."
   ]
  },
  {
   "cell_type": "code",
   "execution_count": 1,
   "id": "dimensional-contamination",
   "metadata": {},
   "outputs": [
    {
     "data": {
      "text/plain": [
       "<module 'ae353_cmg' from '/Users/timothybretl/Documents/courses/AE353/09 - AE353 (Spring 2021)/Website/examples/day13_cmg/ae353_cmg.py'>"
      ]
     },
     "execution_count": 1,
     "metadata": {},
     "output_type": "execute_result"
    }
   ],
   "source": [
    "# This module is part of the python standard library\n",
    "import time\n",
    "\n",
    "# These modules are part of other existing libraries\n",
    "import numpy as np\n",
    "import matplotlib.pyplot as plt\n",
    "\n",
    "# This is my own script (it is an interface to the pybullet simulator)\n",
    "import ae353_cmg\n",
    "\n",
    "# I often go back and forth between making changes to my scripts and to\n",
    "# the notebook in which they are used. One \"gotcha\" is that notebooks only\n",
    "# import modules or scripts ONCE. Subsequent imports don't do anything, and\n",
    "# in particular won't reflect any changes I've made to my scripts. To make\n",
    "# sure that I'm working with the latest version of my code, I use this bit\n",
    "# of magic, which forces the notebook to \"reload\" my script:\n",
    "import importlib\n",
    "importlib.reload(ae353_cmg)"
   ]
  },
  {
   "cell_type": "markdown",
   "id": "protective-retreat",
   "metadata": {},
   "source": [
    "Create an instance of the robot simulator. This will open a window in which you should see the platform with a single-gimbal control moment gyroscope.\n",
    "\n",
    "There are three optional parameters:\n",
    "\n",
    "* `damping` is the coefficient of viscouse friction at each joint (the default value is `0.`)\n",
    "* `dt` is the length of each time step in the simulator (the default value is `0.001`)\n",
    "* `display` is a flag that says whether or not to open the GUI (the default value is `True`)\n",
    "\n",
    "The `display` parameter, in particular, is likely to be of use to you. If you set `display=True`, then you will run the simulator in real-time with a GUI. If you set `display=False`, then you will run the simulator as fast as possible (faster than real-time) without a GUI. This is convenient when all you want is the data.\n",
    "\n",
    "**NOTE:** it is still necessary to reset the kernel (see the \"Kernel\" menu above) before creating a new instance of the robot simulator, even when running without a GUI - if you don't, then you'll notice that simulation slows way down."
   ]
  },
  {
   "cell_type": "code",
   "execution_count": 2,
   "id": "placed-messenger",
   "metadata": {},
   "outputs": [],
   "source": [
    "robot = ae353_cmg.RobotSimulator(damping=0., dt=0.001, display=True)"
   ]
  },
  {
   "cell_type": "markdown",
   "id": "sharp-sodium",
   "metadata": {},
   "source": [
    "Be inspired by an image of ISS from NASA, the orientation of which is controlled by CMGs:"
   ]
  },
  {
   "cell_type": "markdown",
   "id": "proof-reading",
   "metadata": {},
   "source": [
    "![ISS](https://www.nasa.gov/sites/default/files/thumbnails/image/iss056e201225.jpg)"
   ]
  },
  {
   "cell_type": "markdown",
   "id": "disturbed-overhead",
   "metadata": {},
   "source": [
    "Be inspired, in particular, by an image of one of these CMGs on ISS from Air & Space:"
   ]
  },
  {
   "cell_type": "markdown",
   "id": "attended-portrait",
   "metadata": {},
   "source": [
    "![CMG on ISS](https://public-media.si-cdn.com/filer/HTW5Main.jpg)"
   ]
  },
  {
   "cell_type": "markdown",
   "id": "rental-authority",
   "metadata": {},
   "source": [
    "Apply PD control to keep the gimbal angle at a desired value:"
   ]
  },
  {
   "cell_type": "code",
   "execution_count": 11,
   "id": "fabulous-paraguay",
   "metadata": {},
   "outputs": [],
   "source": [
    "class RobotController:\n",
    "    def __init__(self, dt=0.001, q_2_des=0.):\n",
    "        self.dt = dt\n",
    "        \n",
    "        # desired gimbal angle\n",
    "        self.q_2_des = q_2_des\n",
    "        \n",
    "        # PD gains\n",
    "        self.kp = 5.\n",
    "        self.kd = 1.\n",
    "    \n",
    "    def run(self, q_1, v_1, q_2, v_2, q_3, v_3):\n",
    "        tau_2 = - self.kp * (q_2 - self.q_2_des) - self.kd * (v_2 - 0.)\n",
    "#         tau_2 = 1.\n",
    "        tau_3 = 0.\n",
    "        return tau_2, tau_3\n",
    "\n",
    "controller = RobotController(dt=robot.dt, q_2_des=1.)"
   ]
  },
  {
   "cell_type": "markdown",
   "id": "relative-aquarium",
   "metadata": {},
   "source": [
    "Run the simulation. It is a loop. At each iteration, we:\n",
    "* get sensor measurements\n",
    "* choose actuator commands\n",
    "* go forward one time step\n",
    "\n",
    "We also log data so that we can plot it later, if we want."
   ]
  },
  {
   "cell_type": "code",
   "execution_count": 12,
   "id": "professional-dayton",
   "metadata": {},
   "outputs": [],
   "source": [
    "# Restore the simulation to its initial state\n",
    "robot.reset(rotor_rpm=100.)\n",
    "\n",
    "# Choose how long we want to run the simulation, and\n",
    "# compute the corresponding number of time steps\n",
    "run_time = 10.\n",
    "num_steps = int(run_time/robot.dt)\n",
    "\n",
    "# Create a dictionary in which to store results\n",
    "data = {\n",
    "    't': np.empty(num_steps, dtype=float),\n",
    "    'q_1': np.empty(num_steps, dtype=float),\n",
    "    'v_1': np.empty(num_steps, dtype=float),\n",
    "    'q_2': np.empty(num_steps, dtype=float),\n",
    "    'v_2': np.empty(num_steps, dtype=float),\n",
    "    'q_3': np.empty(num_steps, dtype=float),\n",
    "    'v_3': np.empty(num_steps, dtype=float),\n",
    "    'tau_2': np.empty(num_steps, dtype=float),\n",
    "    'tau_3': np.empty(num_steps, dtype=float),\n",
    "}\n",
    "\n",
    "# Run the simulation loop\n",
    "start_time = time.time()\n",
    "for step in range(num_steps):\n",
    "    # Get the current time\n",
    "    t = robot.dt * step\n",
    "    \n",
    "    # Get the sensor measurements\n",
    "    q_1, v_1, q_2, v_2, q_3, v_3 = robot.get_sensor_measurements()\n",
    "    \n",
    "    # Choose the actuator command (by running the controller)\n",
    "    tau_2, tau_3 = controller.run(q_1, v_1, q_2, v_2, q_3, v_3)\n",
    "    \n",
    "    # Log the data from this time step\n",
    "    data['t'][step] = t\n",
    "    data['q_1'][step] = q_1\n",
    "    data['v_1'][step] = v_1\n",
    "    data['q_2'][step] = q_2\n",
    "    data['v_2'][step] = v_2\n",
    "    data['q_3'][step] = q_3\n",
    "    data['v_3'][step] = v_3\n",
    "    data['tau_2'][step] = tau_2\n",
    "    data['tau_3'][step] = tau_3\n",
    "    \n",
    "    # Send the actuator commands to robot and go forward one time\n",
    "    # step (this is where the actual simulation happens)\n",
    "    robot.set_actuator_commands(tau_2, tau_3)\n",
    "    robot.step(t=(start_time + (robot.dt * (step + 1))))"
   ]
  },
  {
   "cell_type": "markdown",
   "id": "alternate-pregnancy",
   "metadata": {},
   "source": [
    "An example of how to plot results. This is just an example!"
   ]
  },
  {
   "cell_type": "code",
   "execution_count": 13,
   "id": "christian-pontiac",
   "metadata": {},
   "outputs": [
    {
     "data": {
      "text/plain": [
       "Text(0.5, 0, 'time (s)')"
      ]
     },
     "execution_count": 13,
     "metadata": {},
     "output_type": "execute_result"
    },
    {
     "data": {
      "image/png": "[encoded data removed]",
      "text/plain": [
       "<Figure size 576x432 with 1 Axes>"
      ]
     },
     "metadata": {
      "needs_background": "light"
     },
     "output_type": "display_data"
    }
   ],
   "source": [
    "fig = plt.figure(figsize=(8, 6))\n",
    "plt.plot(data['t'], data['q_2'], label='gimbal angle (rad)', linewidth=4)\n",
    "plt.plot(data['t'], np.ones_like(data['t']) * controller.q_2_des, '--', label='desired gimbal angle (rad)', linewidth=4)\n",
    "plt.plot(data['t'], data['v_2'], ':', label='gimbal angular velocity (rad/s)', linewidth=3)\n",
    "plt.legend(fontsize=18)\n",
    "plt.grid()\n",
    "plt.tick_params(labelsize=16)\n",
    "plt.xlabel('time (s)', fontsize=16)"
   ]
  },
  {
   "cell_type": "code",
   "execution_count": null,
   "id": "ruled-toronto",
   "metadata": {},
   "outputs": [],
   "source": []
  }
 ],
 "metadata": {
  "kernelspec": {
   "display_name": "Python 3",
   "language": "python",
   "name": "python3"
  },
  "language_info": {
   "codemirror_mode": {
    "name": "ipython",
    "version": 3
   },
   "file_extension": ".py",
   "mimetype": "text/x-python",
   "name": "python",
   "nbconvert_exporter": "python",
   "pygments_lexer": "ipython3",
   "version": "3.9.1"
  }
 },
 "nbformat": 4,
 "nbformat_minor": 5
}
