{
 "cells": [
  {
   "cell_type": "markdown",
   "id": "middle-acoustic",
   "metadata": {},
   "source": [
    "# Example of how to make a movie of the CMG system"
   ]
  },
  {
   "cell_type": "markdown",
   "id": "working-minority",
   "metadata": {},
   "source": [
    "Import modules and configure the notebook."
   ]
  },
  {
   "cell_type": "code",
   "execution_count": 1,
   "id": "dimensional-contamination",
   "metadata": {},
   "outputs": [
    {
     "data": {
      "text/plain": [
       "<module 'ae353_cmg' from '/Users/timothybretl/Documents/courses/AE353/09 - AE353 (Spring 2021)/Website/examples/day13_cmg/ae353_cmg.py'>"
      ]
     },
     "execution_count": 1,
     "metadata": {},
     "output_type": "execute_result"
    }
   ],
   "source": [
    "# These modules are part of the python standard library\n",
    "import time\n",
    "import os # <--- important for making a movie\n",
    "\n",
    "# These modules are part of other existing libraries\n",
    "import numpy as np\n",
    "import matplotlib.pyplot as plt\n",
    "\n",
    "# This is my own script (it is an interface to the pybullet simulator)\n",
    "import ae353_cmg\n",
    "\n",
    "# I often go back and forth between making changes to my scripts and to\n",
    "# the notebook in which they are used. One \"gotcha\" is that notebooks only\n",
    "# import modules or scripts ONCE. Subsequent imports don't do anything, and\n",
    "# in particular won't reflect any changes I've made to my scripts. To make\n",
    "# sure that I'm working with the latest version of my code, I use this bit\n",
    "# of magic, which forces the notebook to \"reload\" my script:\n",
    "import importlib\n",
    "importlib.reload(ae353_cmg)"
   ]
  },
  {
   "cell_type": "markdown",
   "id": "protective-retreat",
   "metadata": {},
   "source": [
    "Create an instance of the robot simulator. If you want to make a movie, it is important that `display=True`."
   ]
  },
  {
   "cell_type": "code",
   "execution_count": 2,
   "id": "placed-messenger",
   "metadata": {},
   "outputs": [],
   "source": [
    "robot = ae353_cmg.RobotSimulator(damping=0., dt=0.001, display=True)"
   ]
  },
  {
   "cell_type": "markdown",
   "id": "rental-authority",
   "metadata": {},
   "source": [
    "Apply PD control to keep the gimbal angle at a desired value:"
   ]
  },
  {
   "cell_type": "code",
   "execution_count": 3,
   "id": "fabulous-paraguay",
   "metadata": {},
   "outputs": [],
   "source": [
    "class RobotController:\n",
    "    def __init__(self, dt=0.001, q_2_des=0.):\n",
    "        self.dt = dt\n",
    "        \n",
    "        # desired gimbal angle\n",
    "        self.q_2_des = q_2_des\n",
    "        \n",
    "        # PD gains\n",
    "        self.kp = 5.\n",
    "        self.kd = 1.\n",
    "    \n",
    "    def run(self, q_1, v_1, q_2, v_2, q_3, v_3):\n",
    "        tau_2 = - self.kp * (q_2 - self.q_2_des) - self.kd * (v_2 - 0.)\n",
    "        tau_3 = 0.\n",
    "        return tau_2, tau_3\n",
    "\n",
    "controller = RobotController(dt=robot.dt, q_2_des=1.)"
   ]
  },
  {
   "cell_type": "markdown",
   "id": "relative-aquarium",
   "metadata": {},
   "source": [
    "Run the simulation. It is a loop. At each iteration, we:\n",
    "* get sensor measurements\n",
    "* choose actuator commands\n",
    "* go forward one time step\n",
    "\n",
    "We also log data so that we can plot it later, if we want.\n",
    "\n",
    "Since we are making a movie, we save an image at each time step. **This takes a long time!**"
   ]
  },
  {
   "cell_type": "code",
   "execution_count": 4,
   "id": "professional-dayton",
   "metadata": {},
   "outputs": [],
   "source": [
    "# Restore the simulation to its initial state\n",
    "robot.reset(rotor_rpm=100.)\n",
    "\n",
    "# Choose how long we want to run the simulation, and\n",
    "# compute the corresponding number of time steps\n",
    "run_time = 0.5\n",
    "num_steps = int(run_time/robot.dt)\n",
    "\n",
    "# Create a dictionary in which to store results\n",
    "data = {\n",
    "    't': np.empty(num_steps, dtype=float),\n",
    "    'q_1': np.empty(num_steps, dtype=float),\n",
    "    'v_1': np.empty(num_steps, dtype=float),\n",
    "    'q_2': np.empty(num_steps, dtype=float),\n",
    "    'v_2': np.empty(num_steps, dtype=float),\n",
    "    'q_3': np.empty(num_steps, dtype=float),\n",
    "    'v_3': np.empty(num_steps, dtype=float),\n",
    "    'tau_2': np.empty(num_steps, dtype=float),\n",
    "    'tau_3': np.empty(num_steps, dtype=float),\n",
    "}\n",
    "\n",
    "# Create directory to store images\n",
    "os.mkdir('images')\n",
    "\n",
    "# Save first image\n",
    "robot.snapshot(os.path.join('images', f'image{0:06d}.png'))\n",
    "\n",
    "# Run the simulation loop\n",
    "start_time = time.time()\n",
    "for step in range(num_steps):\n",
    "    # Get the current time\n",
    "    t = robot.dt * step\n",
    "    \n",
    "    # Get the sensor measurements\n",
    "    q_1, v_1, q_2, v_2, q_3, v_3 = robot.get_sensor_measurements()\n",
    "    \n",
    "    # Choose the actuator command (by running the controller)\n",
    "    tau_2, tau_3 = controller.run(q_1, v_1, q_2, v_2, q_3, v_3)\n",
    "    \n",
    "    # Log the data from this time step\n",
    "    data['t'][step] = t\n",
    "    data['q_1'][step] = q_1\n",
    "    data['v_1'][step] = v_1\n",
    "    data['q_2'][step] = q_2\n",
    "    data['v_2'][step] = v_2\n",
    "    data['q_3'][step] = q_3\n",
    "    data['v_3'][step] = v_3\n",
    "    data['tau_2'][step] = tau_2\n",
    "    data['tau_3'][step] = tau_3\n",
    "    \n",
    "    # Send the actuator commands to robot and go forward one time\n",
    "    # step (this is where the actual simulation happens)\n",
    "    robot.set_actuator_commands(tau_2, tau_3)\n",
    "    robot.step(t=(start_time + (robot.dt * (step + 1))))\n",
    "    \n",
    "    # Save image\n",
    "    robot.snapshot(os.path.join('images', f'image{step:06d}.png'))"
   ]
  },
  {
   "cell_type": "markdown",
   "id": "protective-tennessee",
   "metadata": {},
   "source": [
    "At this point, you will have saved a sequence of images:\n",
    "\n",
    "* `images/image000000.png`\n",
    "* `images/image000001.png`\n",
    "* `images/image000002.png`\n",
    "* ...\n",
    "\n",
    "You can convert these images to an `mp4` from the command-line as follows, if you have [ffmpeg](https://ffmpeg.org) installed:\n",
    "\n",
    "```\n",
    "ffmpeg -framerate 1000 -i images/image%06d.png -vcodec libx264 -pix_fmt yuv420p video_of_results.mp4\n",
    "```\n",
    "\n",
    "Note that this must be called from the directory that contains `images`, and if you are on windows you may have to use a backslash instead of a fowardslash as `images\\image%06d.png`."
   ]
  },
  {
   "cell_type": "code",
   "execution_count": null,
   "id": "tested-covering",
   "metadata": {},
   "outputs": [],
   "source": []
  }
 ],
 "metadata": {
  "kernelspec": {
   "display_name": "Python 3",
   "language": "python",
   "name": "python3"
  },
  "language_info": {
   "codemirror_mode": {
    "name": "ipython",
    "version": 3
   },
   "file_extension": ".py",
   "mimetype": "text/x-python",
   "name": "python",
   "nbconvert_exporter": "python",
   "pygments_lexer": "ipython3",
   "version": "3.9.1"
  }
 },
 "nbformat": 4,
 "nbformat_minor": 5
}
