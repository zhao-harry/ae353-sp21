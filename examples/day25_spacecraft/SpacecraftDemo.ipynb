{
 "cells": [
  {
   "cell_type": "markdown",
   "id": "middle-acoustic",
   "metadata": {},
   "source": [
    "# Spacecraft with reaction wheels and star tracker"
   ]
  },
  {
   "cell_type": "markdown",
   "id": "working-minority",
   "metadata": {},
   "source": [
    "Import modules and configure the notebook."
   ]
  },
  {
   "cell_type": "code",
   "execution_count": 1,
   "id": "informed-qatar",
   "metadata": {},
   "outputs": [
    {
     "data": {
      "text/plain": [
       "<module 'ae353_spacecraft' from '/Users/timothybretl/Documents/courses/AE353/09 - AE353 (Spring 2021)/Sandbox/03_spacecraft_class/ae353_spacecraft.py'>"
      ]
     },
     "execution_count": 1,
     "metadata": {},
     "output_type": "execute_result"
    }
   ],
   "source": [
    "# This module is part of the python standard library\n",
    "import time\n",
    "\n",
    "# These modules are part of other existing libraries\n",
    "import numpy as np\n",
    "import matplotlib.pyplot as plt\n",
    "\n",
    "# This is my own script (it is an interface to the pybullet simulator)\n",
    "import ae353_spacecraft\n",
    "\n",
    "# I often go back and forth between making changes to my scripts and to\n",
    "# the notebook in which they are used. One \"gotcha\" is that notebooks only\n",
    "# import modules or scripts ONCE. Subsequent imports don't do anything, and\n",
    "# in particular won't reflect any changes I've made to my scripts. To make\n",
    "# sure that I'm working with the latest version of my code, I use this bit\n",
    "# of magic, which forces the notebook to \"reload\" my script:\n",
    "import importlib\n",
    "importlib.reload(ae353_spacecraft)"
   ]
  },
  {
   "cell_type": "markdown",
   "id": "intense-sphere",
   "metadata": {},
   "source": [
    "Define and create an instance of the robot controller. By default, it applies zero torque to all wheels. Modify the `run` function - or anything else in the class definition - to make the controller behave differently."
   ]
  },
  {
   "cell_type": "code",
   "execution_count": 2,
   "id": "mature-headset",
   "metadata": {},
   "outputs": [],
   "source": [
    "class RobotController:\n",
    "    def __init__(self):\n",
    "        self.dt = 0.04\n",
    "        self.reset()\n",
    "    \n",
    "    def reset(self):\n",
    "        self.xhat = np.zeros((6, 1))\n",
    "    \n",
    "    def run(self, p, v):\n",
    "        tau = np.zeros(4)\n",
    "        return tau\n",
    "\n",
    "controller = RobotController()"
   ]
  },
  {
   "cell_type": "markdown",
   "id": "editorial-supervision",
   "metadata": {},
   "source": [
    "## Do simulation with the GUI"
   ]
  },
  {
   "cell_type": "markdown",
   "id": "helpful-poultry",
   "metadata": {},
   "source": [
    "Create an instance of the robot simulator."
   ]
  },
  {
   "cell_type": "code",
   "execution_count": null,
   "id": "supported-oasis",
   "metadata": {},
   "outputs": [],
   "source": [
    "stars = np.array([[0., 0.],\n",
    "                  [0.5, 0.25],\n",
    "                  [0.75, 0.5],\n",
    "                  [-0.1, -0.3]])\n",
    "\n",
    "robot = ae353_spacecraft.RobotSimulator(display=True, stars=stars, scope_noise=0.)"
   ]
  },
  {
   "cell_type": "markdown",
   "id": "specific-romantic",
   "metadata": {},
   "source": [
    "Display a snapshot."
   ]
  },
  {
   "cell_type": "code",
   "execution_count": null,
   "id": "aggregate-topic",
   "metadata": {},
   "outputs": [],
   "source": [
    "# Get snapshot as 480 x 480 x 4 numpy array of RGBA values\n",
    "rgba = robot.snapshot()\n",
    "\n",
    "# Display snapshot\n",
    "plt.figure(figsize=(9, 9))\n",
    "plt.imshow(rgba)"
   ]
  },
  {
   "cell_type": "code",
   "execution_count": null,
   "id": "invisible-retention",
   "metadata": {},
   "outputs": [],
   "source": [
    "p, v = robot.get_sensor_measurements()\n",
    "print(p)\n",
    "print(v)"
   ]
  },
  {
   "cell_type": "code",
   "execution_count": null,
   "id": "historic-enough",
   "metadata": {},
   "outputs": [],
   "source": [
    "np.nan"
   ]
  },
  {
   "cell_type": "code",
   "execution_count": null,
   "id": "aggregate-irish",
   "metadata": {},
   "outputs": [],
   "source": [
    "np.isnan(p)"
   ]
  },
  {
   "cell_type": "markdown",
   "id": "resistant-generic",
   "metadata": {},
   "source": [
    "Save the snapshot."
   ]
  },
  {
   "cell_type": "code",
   "execution_count": null,
   "id": "altered-weekend",
   "metadata": {},
   "outputs": [],
   "source": [
    "plt.imsave('my_snapshot.png', rgba)"
   ]
  },
  {
   "cell_type": "markdown",
   "id": "welcome-princeton",
   "metadata": {},
   "source": [
    "Run the simulation."
   ]
  },
  {
   "cell_type": "code",
   "execution_count": null,
   "id": "verbal-happiness",
   "metadata": {},
   "outputs": [],
   "source": [
    "# Restore the simulation to its initial state\n",
    "robot.reset()\n",
    "\n",
    "# Restore the controller to its initial state\n",
    "controller.reset()\n",
    "\n",
    "# Choose how long we want to run the simulation, and\n",
    "# compute the corresponding number of time steps\n",
    "run_time = 20.0\n",
    "num_steps = int(run_time/robot.dt)\n",
    "\n",
    "# Create a dictionary in which to store results\n",
    "data = {\n",
    "    't': np.empty(num_steps, dtype=float),\n",
    "    'v': np.empty((4, num_steps), dtype=float),\n",
    "    'p': np.empty((2 * len(robot.stars), num_steps), dtype=float),\n",
    "    'tau': np.empty((4, num_steps), dtype=float),\n",
    "    'rpy': np.empty((3, num_steps), dtype=float),\n",
    "    'angvel': np.empty((3, num_steps), dtype=float),\n",
    "    'xhat': np.empty((6, num_steps), dtype=float),\n",
    "}\n",
    "\n",
    "# Run the simulation loop\n",
    "start_time = time.time()\n",
    "for step in range(num_steps):\n",
    "    # Get the current time\n",
    "    t = robot.dt * step\n",
    "    \n",
    "    # Get the sensor measurements\n",
    "    p, v = robot.get_sensor_measurements()\n",
    "    \n",
    "    # Choose the actuator command (by running the controller)\n",
    "    tau = controller.run(p, v)\n",
    "    if tau.shape != (4, ):\n",
    "        raise Exception(f'invalid desired torques: {tau}')\n",
    "    \n",
    "    # Get orientation and angular velocity as ground truth\n",
    "    rpy, angvel = robot.get_rpy_and_angvel()\n",
    "        \n",
    "    # Log the data from this time step\n",
    "    data['t'][step] = t\n",
    "    data['v'][:, step] = v\n",
    "    data['p'][:, step] = p\n",
    "    data['tau'][:, step] = tau\n",
    "    data['rpy'][:, step] = rpy\n",
    "    data['angvel'][:, step] = angvel\n",
    "    data['xhat'][:, step] = controller.xhat.flatten()\n",
    "    \n",
    "    # Send the actuator commands to robot and go forward one time step\n",
    "    robot.set_actuator_commands(tau)\n",
    "    robot.step(t=(start_time + (robot.dt * (step + 1))))\n",
    "    \n",
    "print(f'elapsed time: {time.time() - start_time:.1f} (should be {run_time})')"
   ]
  },
  {
   "cell_type": "markdown",
   "id": "inside-joining",
   "metadata": {},
   "source": [
    "Plot the results."
   ]
  },
  {
   "cell_type": "code",
   "execution_count": null,
   "id": "extended-advertising",
   "metadata": {},
   "outputs": [],
   "source": [
    "# Create a figure with subplots that all share the same x-axis\n",
    "fig, (ax_rpy, ax_tau, ax_v) = plt.subplots(3, 1, figsize=(9, 12), sharex=True)\n",
    "\n",
    "# Roll, pitch, and yaw angles\n",
    "ax_rpy.plot(data['t'], data['rpy'][0, :], label='roll (rad)', linewidth=4)\n",
    "ax_rpy.plot(data['t'], data['rpy'][1, :], label='pitch (rad)', linewidth=4)\n",
    "ax_rpy.plot(data['t'], data['rpy'][2, :], label='yaw (rad)', linewidth=4)\n",
    "ax_rpy.grid()\n",
    "ax_rpy.legend(fontsize=16)\n",
    "ax_rpy.tick_params(labelsize=14)\n",
    "\n",
    "# Wheel torques\n",
    "for i in range(4):\n",
    "    ax_tau.plot(data['t'], data['tau'][i, :], label=f'torque {i} command (N-m)', linewidth=4)\n",
    "ax_tau.plot(data['t'], np.ones_like(data['t']) * robot.tau_max, '--', label='max joint torque', linewidth=4, color='C2')\n",
    "ax_tau.plot(data['t'], -np.ones_like(data['t']) * robot.tau_max, '--', linewidth=4, color='C2')\n",
    "ax_tau.grid()\n",
    "ax_tau.legend(fontsize=16)\n",
    "ax_tau.tick_params(labelsize=14)\n",
    "ax_tau.set_ylim(-1.2 * robot.tau_max, 1.2 * robot.tau_max)\n",
    "\n",
    "# Wheel speeds\n",
    "for i in range(4):\n",
    "    ax_v.plot(data['t'], data['v'][i, :], label=f'wheel {i} speed (rad/s)', linewidth=4)\n",
    "ax_v.plot(data['t'], np.ones_like(data['t']) * robot.v_max, '--', label='max wheel speed', linewidth=4, color='C2')\n",
    "ax_v.plot(data['t'], -np.ones_like(data['t']) * robot.v_max, '--', linewidth=4, color='C2')\n",
    "ax_v.grid()\n",
    "ax_v.legend(fontsize=16)\n",
    "ax_v.tick_params(labelsize=14)\n",
    "ax_v.set_ylim(-1.2 * robot.v_max, 1.2 * robot.v_max)\n",
    "\n",
    "# Set shared x-axis properties\n",
    "ax_v.set_xlabel('time (s)', fontsize=20)\n",
    "ax_v.set_xlim([data['t'][0], data['t'][-1]])\n",
    "\n",
    "# Make the arrangement of subplots look nice\n",
    "fig.tight_layout()"
   ]
  },
  {
   "cell_type": "markdown",
   "id": "social-robinson",
   "metadata": {},
   "source": [
    "Plot star positions in image."
   ]
  },
  {
   "cell_type": "code",
   "execution_count": null,
   "id": "structural-accessory",
   "metadata": {},
   "outputs": [],
   "source": [
    "fig, ax = plt.subplots(1, 1, figsize=(9, 9))\n",
    "for i in range(len(robot.stars)):\n",
    "    y = data['p'][2 * i, :]\n",
    "    z = data['p'][2 * i + 1, :]\n",
    "    ax.plot(-y, z, label=f'star {i}', linewidth=0.5, marker='.', markersize=10)\n",
    "ax.grid()\n",
    "ax.legend(fontsize=16)\n",
    "ax.tick_params(labelsize=14)\n",
    "ax.set_xlim(-1., 1.)\n",
    "ax.set_ylim(-1., 1.)"
   ]
  },
  {
   "cell_type": "markdown",
   "id": "timely-cardiff",
   "metadata": {},
   "source": [
    "## Do simulation without the GUI and create a video"
   ]
  },
  {
   "cell_type": "markdown",
   "id": "allied-microphone",
   "metadata": {},
   "source": [
    "Import what we need to create a video. You must install both [imageio](https://github.com/imageio/imageio) and [imageio-ffmpeg](https://github.com/imageio/imageio-ffmpeg) in order for this to work. You can do this from a terminal (in your `ae353-bullet` environment, for example) as follows:\n",
    "\n",
    "```\n",
    "pip install imageio\n",
    "pip install imageio-ffmpeg\n",
    "```"
   ]
  },
  {
   "cell_type": "code",
   "execution_count": 3,
   "id": "numerical-amount",
   "metadata": {},
   "outputs": [],
   "source": [
    "import imageio"
   ]
  },
  {
   "cell_type": "markdown",
   "id": "equipped-electron",
   "metadata": {},
   "source": [
    "Create an instance of the robot simulator."
   ]
  },
  {
   "cell_type": "code",
   "execution_count": 4,
   "id": "blank-milton",
   "metadata": {},
   "outputs": [],
   "source": [
    "robot = ae353_spacecraft.RobotSimulator(display=False)"
   ]
  },
  {
   "cell_type": "markdown",
   "id": "further-livestock",
   "metadata": {},
   "source": [
    "Display a snapshot."
   ]
  },
  {
   "cell_type": "code",
   "execution_count": 5,
   "id": "smart-emission",
   "metadata": {},
   "outputs": [
    {
     "data": {
      "text/plain": [
       "<matplotlib.image.AxesImage at 0x7fdc04b1e580>"
      ]
     },
     "execution_count": 5,
     "metadata": {},
     "output_type": "execute_result"
    },
    {
     "data": {
      "image/png": "[encoded data removed]",
      "text/plain": [
       "<Figure size 648x648 with 1 Axes>"
      ]
     },
     "metadata": {
      "needs_background": "light"
     },
     "output_type": "display_data"
    }
   ],
   "source": [
    "# Get snapshot as 480 x 480 x 4 numpy array of RGBA values\n",
    "rgba = robot.snapshot()\n",
    "\n",
    "# Display snapshot\n",
    "plt.figure(figsize=(9, 9))\n",
    "plt.imshow(rgba)"
   ]
  },
  {
   "cell_type": "markdown",
   "id": "eligible-result",
   "metadata": {},
   "source": [
    "Save the snapshot."
   ]
  },
  {
   "cell_type": "code",
   "execution_count": 6,
   "id": "specified-victoria",
   "metadata": {},
   "outputs": [],
   "source": [
    "plt.imsave('my_snapshot.png', rgba)"
   ]
  },
  {
   "cell_type": "markdown",
   "id": "happy-wagner",
   "metadata": {},
   "source": [
    "Run the simulation."
   ]
  },
  {
   "cell_type": "code",
   "execution_count": 7,
   "id": "right-majority",
   "metadata": {},
   "outputs": [
    {
     "name": "stdout",
     "output_type": "stream",
     "text": [
      "Creating a video with name my_video.mp4 and fps 25\n",
      " step 0000 / 0025\n",
      " step 0025 / 0025\n",
      "elapsed time: 9.8 (should be 1.0)\n"
     ]
    }
   ],
   "source": [
    "# Restore the simulation to its initial state\n",
    "robot.reset()\n",
    "\n",
    "# Restore the controller to its initial state\n",
    "controller.reset()\n",
    "\n",
    "# Choose how long we want to run the simulation, and\n",
    "# compute the corresponding number of time steps\n",
    "run_time = 1.0\n",
    "num_steps = int(run_time/robot.dt)\n",
    "\n",
    "# Create a dictionary in which to store results\n",
    "data = {\n",
    "    't': np.empty(num_steps, dtype=float),\n",
    "    'v': np.empty((4, num_steps), dtype=float),\n",
    "    'p': np.empty((2 * len(robot.stars), num_steps), dtype=float),\n",
    "    'tau': np.empty((4, num_steps), dtype=float),\n",
    "    'rpy': np.empty((3, num_steps), dtype=float),\n",
    "    'angvel': np.empty((3, num_steps), dtype=float),\n",
    "    'xhat': np.empty((6, num_steps), dtype=float),\n",
    "}\n",
    "\n",
    "# Open video\n",
    "filename = 'my_video.mp4'\n",
    "fps = int(1 / robot.dt)\n",
    "print(f'Creating a video with name {filename} and fps {fps}')\n",
    "w = imageio.get_writer(filename,\n",
    "                       format='FFMPEG',\n",
    "                       mode='I',\n",
    "                       fps=fps)\n",
    "\n",
    "# Add first frame to video\n",
    "rgba = robot.snapshot()\n",
    "w.append_data(rgba)\n",
    "\n",
    "# Run the simulation loop\n",
    "print(f' step {0:04d} / {num_steps:04d}')\n",
    "start_time = time.time()\n",
    "for step in range(num_steps):\n",
    "    if ((step + 1) % fps) == 0:\n",
    "        print(f' step {step + 1:04d} / {num_steps:04d}')\n",
    "    \n",
    "    # Get the current time\n",
    "    t = robot.dt * step\n",
    "    \n",
    "    # Get the sensor measurements\n",
    "    p, v = robot.get_sensor_measurements()\n",
    "    \n",
    "    # Choose the actuator command (by running the controller)\n",
    "    tau = controller.run(p, v)\n",
    "    if tau.shape != (4, ):\n",
    "        raise Exception(f'invalid desired torques: {tau}')\n",
    "    \n",
    "    # Get orientation and angular velocity as ground truth\n",
    "    rpy, angvel = robot.get_rpy_and_angvel()\n",
    "        \n",
    "    # Log the data from this time step\n",
    "    data['t'][step] = t\n",
    "    data['v'][:, step] = v\n",
    "    data['p'][:, step] = p\n",
    "    data['tau'][:, step] = tau\n",
    "    data['rpy'][:, step] = rpy\n",
    "    data['angvel'][:, step] = angvel\n",
    "    data['xhat'][:, step] = controller.xhat.flatten()\n",
    "    \n",
    "    # Send the actuator commands to robot and go forward one time step\n",
    "    robot.set_actuator_commands(tau)\n",
    "    robot.step(t=(start_time + (robot.dt * (step + 1))))\n",
    "    \n",
    "    # Add frame to video\n",
    "    rgba = robot.snapshot()\n",
    "    w.append_data(rgba)\n",
    "\n",
    "# Close video\n",
    "w.close()\n",
    "print(f'elapsed time: {time.time() - start_time:.1f} (should be {run_time})')"
   ]
  },
  {
   "cell_type": "markdown",
   "id": "recovered-edition",
   "metadata": {},
   "source": [
    "Plot the results."
   ]
  },
  {
   "cell_type": "code",
   "execution_count": null,
   "id": "overhead-national",
   "metadata": {},
   "outputs": [],
   "source": [
    "# Create a figure with subplots that all share the same x-axis\n",
    "fig, (ax_rpy, ax_tau, ax_v) = plt.subplots(3, 1, figsize=(9, 12), sharex=True)\n",
    "\n",
    "# Roll, pitch, and yaw angles\n",
    "ax_rpy.plot(data['t'], data['rpy'][0, :], label='roll (rad)', linewidth=4)\n",
    "ax_rpy.plot(data['t'], data['rpy'][1, :], label='pitch (rad)', linewidth=4)\n",
    "ax_rpy.plot(data['t'], data['rpy'][2, :], label='yaw (rad)', linewidth=4)\n",
    "ax_rpy.grid()\n",
    "ax_rpy.legend(fontsize=16)\n",
    "ax_rpy.tick_params(labelsize=14)\n",
    "\n",
    "# Wheel torques\n",
    "for i in range(4):\n",
    "    ax_tau.plot(data['t'], data['tau'][i, :], label=f'torque {i} command (N-m)', linewidth=4)\n",
    "ax_tau.plot(data['t'], np.ones_like(data['t']) * robot.tau_max, '--', label='max joint torque', linewidth=4, color='C2')\n",
    "ax_tau.plot(data['t'], -np.ones_like(data['t']) * robot.tau_max, '--', linewidth=4, color='C2')\n",
    "ax_tau.grid()\n",
    "ax_tau.legend(fontsize=16)\n",
    "ax_tau.tick_params(labelsize=14)\n",
    "ax_tau.set_ylim(-1.2 * robot.tau_max, 1.2 * robot.tau_max)\n",
    "\n",
    "# Wheel speeds\n",
    "for i in range(4):\n",
    "    ax_v.plot(data['t'], data['v'][i, :], label=f'wheel {i} speed (rad/s)', linewidth=4)\n",
    "ax_v.plot(data['t'], np.ones_like(data['t']) * robot.v_max, '--', label='max wheel speed', linewidth=4, color='C2')\n",
    "ax_v.plot(data['t'], -np.ones_like(data['t']) * robot.v_max, '--', linewidth=4, color='C2')\n",
    "ax_v.grid()\n",
    "ax_v.legend(fontsize=16)\n",
    "ax_v.tick_params(labelsize=14)\n",
    "ax_v.set_ylim(-1.2 * robot.v_max, 1.2 * robot.v_max)\n",
    "\n",
    "# Set shared x-axis properties\n",
    "ax_v.set_xlabel('time (s)', fontsize=20)\n",
    "ax_v.set_xlim([data['t'][0], data['t'][-1]])\n",
    "\n",
    "# Make the arrangement of subplots look nice\n",
    "fig.tight_layout()"
   ]
  },
  {
   "cell_type": "markdown",
   "id": "normal-chocolate",
   "metadata": {},
   "source": [
    "Plot star positions in image."
   ]
  },
  {
   "cell_type": "code",
   "execution_count": null,
   "id": "forty-realtor",
   "metadata": {},
   "outputs": [],
   "source": [
    "fig, ax = plt.subplots(1, 1, figsize=(9, 9))\n",
    "for i in range(len(robot.stars)):\n",
    "    y = data['p'][2 * i, :]\n",
    "    z = data['p'][2 * i + 1, :]\n",
    "    ax.plot(-y, z, label=f'star {i}', linewidth=0.5, marker='.', markersize=10)\n",
    "ax.grid()\n",
    "ax.legend(fontsize=16)\n",
    "ax.tick_params(labelsize=14)\n",
    "ax.set_xlim(-1., 1.)\n",
    "ax.set_ylim(-1., 1.)"
   ]
  },
  {
   "cell_type": "code",
   "execution_count": null,
   "id": "different-community",
   "metadata": {},
   "outputs": [],
   "source": []
  }
 ],
 "metadata": {
  "kernelspec": {
   "display_name": "Python 3",
   "language": "python",
   "name": "python3"
  },
  "language_info": {
   "codemirror_mode": {
    "name": "ipython",
    "version": 3
   },
   "file_extension": ".py",
   "mimetype": "text/x-python",
   "name": "python",
   "nbconvert_exporter": "python",
   "pygments_lexer": "ipython3",
   "version": "3.9.1"
  }
 },
 "nbformat": 4,
 "nbformat_minor": 5
}
