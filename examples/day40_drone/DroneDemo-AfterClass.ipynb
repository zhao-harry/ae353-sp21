{
 "cells": [
  {
   "cell_type": "markdown",
   "id": "middle-acoustic",
   "metadata": {},
   "source": [
    "# Quadrotor (aka \"the drone\")"
   ]
  },
  {
   "cell_type": "markdown",
   "id": "future-divide",
   "metadata": {},
   "source": [
    "## Set everything up"
   ]
  },
  {
   "cell_type": "markdown",
   "id": "faced-least",
   "metadata": {},
   "source": [
    "Import modules and configure the notebook."
   ]
  },
  {
   "cell_type": "code",
   "execution_count": 1,
   "id": "informed-qatar",
   "metadata": {},
   "outputs": [
    {
     "data": {
      "text/plain": [
       "<module 'ae353_drone' from '/Users/timothybretl/Documents/courses/AE353/09 - AE353 (Spring 2021)/Website/examples/day40_drone/ae353_drone.py'>"
      ]
     },
     "execution_count": 1,
     "metadata": {},
     "output_type": "execute_result"
    }
   ],
   "source": [
    "import os\n",
    "\n",
    "# This module is part of the python standard library\n",
    "import time\n",
    "\n",
    "# These modules are part of other existing libraries\n",
    "import numpy as np\n",
    "from scipy import linalg\n",
    "import matplotlib.pyplot as plt\n",
    "\n",
    "# This is my own script (it is an interface to the pybullet simulator)\n",
    "import ae353_drone\n",
    "\n",
    "# I often go back and forth between making changes to my scripts and to\n",
    "# the notebook in which they are used. One \"gotcha\" is that notebooks only\n",
    "# import modules or scripts ONCE. Subsequent imports don't do anything, and\n",
    "# in particular won't reflect any changes I've made to my scripts. To make\n",
    "# sure that I'm working with the latest version of my code, I use this bit\n",
    "# of magic, which forces the notebook to \"reload\" my script:\n",
    "import importlib\n",
    "importlib.reload(ae353_drone)"
   ]
  },
  {
   "cell_type": "markdown",
   "id": "environmental-refrigerator",
   "metadata": {},
   "source": [
    "Create simulator."
   ]
  },
  {
   "cell_type": "code",
   "execution_count": 2,
   "id": "needed-motion",
   "metadata": {},
   "outputs": [],
   "source": [
    "simulator = ae353_drone.Simulator(display=False)"
   ]
  },
  {
   "cell_type": "markdown",
   "id": "strategic-moore",
   "metadata": {},
   "source": [
    "## Create a controller"
   ]
  },
  {
   "cell_type": "markdown",
   "id": "electronic-repository",
   "metadata": {},
   "source": [
    "Define a controller."
   ]
  },
  {
   "cell_type": "code",
   "execution_count": 3,
   "id": "mathematical-emphasis",
   "metadata": {},
   "outputs": [],
   "source": [
    "class RobotController:\n",
    "    def __init__(self, limiter=None):\n",
    "        self.dt = 0.01\n",
    "        self.limiter = limiter\n",
    "        \n",
    "        # Initialize record of old measurements\n",
    "        self.r_old = 0.\n",
    "        self.p_old = 0.\n",
    "        self.y_old = 0.\n",
    "        \n",
    "        self.A = np.array([[0., 1.], [0., 0.]])\n",
    "        self.B = np.array([[0.], [2.]])\n",
    "        self.C = np.array([[1., 0.]])\n",
    "        self.K = np.array([[9.999999999999996, 3.316624790355398]])\n",
    "        self.L = np.array([[1.732050807568877], [0.9999999999999993]])\n",
    "        \n",
    "        self.f_z_e = 0.5 * 9.81\n",
    "        self.z_e = 0.\n",
    "\n",
    "    def get_color(self):\n",
    "        return [0., 1., 0.]\n",
    "\n",
    "    def reset(self, pos):\n",
    "        self.xhat = np.zeros(2)\n",
    "\n",
    "    def run(self, pos, rpy, pos_ring, is_last_ring, pos_others):\n",
    "        \n",
    "        ##################\n",
    "        # PD Control\n",
    "        #\n",
    "        #  This is easy to implement and allows us to isolate the\n",
    "        #  \"z position and velocity\" subsystem, for the purpose of\n",
    "        #  example.\n",
    "        #\n",
    "        \n",
    "        # Get current measurements of roll, pitch, and yaw\n",
    "        r = rpy[0]\n",
    "        p = rpy[1]\n",
    "        y = rpy[2]\n",
    "        \n",
    "        # Estimate roll, pitch, and yaw derivatives by finite difference\n",
    "        rdot = (r - self.r_old) / self.dt\n",
    "        pdot = (p - self.p_old) / self.dt\n",
    "        ydot = (y - self.y_old) / self.dt\n",
    "        \n",
    "        # Update record of old measurements\n",
    "        self.r_old = r\n",
    "        self.p_old = p\n",
    "        self.y_old = y\n",
    "        \n",
    "        # Choose net torques to drive roll, pitch, and yaw to zero\n",
    "        tau_x = - 1. * (r - 0) - 0.1 * (rdot - 0)\n",
    "        tau_y = - 1. * (p - 0) - 0.1 * (pdot - 0)\n",
    "        tau_z = - 1. * (y - 0) - 0.1 * (ydot - 0)\n",
    "        \n",
    "        #\n",
    "        ##################\n",
    "        \n",
    "        zdes = pos_ring[2]\n",
    "        zest = self.xhat[0] + self.z_e\n",
    "        max_error = 0.25\n",
    "        if np.abs(zdes - zest) > max_error:\n",
    "            zdes = zest + max_error * ((zdes - zest) / linalg.norm(zdes - zest))\n",
    "        \n",
    "        \n",
    "        xdes = np.array([zdes - self.z_e, 0.])\n",
    "        u = -self.K @ (self.xhat - xdes)\n",
    "        f_z = u[0] + self.f_z_e\n",
    "        if self.limiter is not None:\n",
    "            tau_x, tau_y, tau_z, f_z = self.limiter(tau_x, tau_y, tau_z, f_z)\n",
    "        u[0] = f_z - self.f_z_e\n",
    "        \n",
    "        y = np.array([pos[2] - self.z_e])\n",
    "        self.xhat += self.dt * (self.A @ self.xhat + self.B @ u - self.L @ (self.C @ self.xhat - y))\n",
    "\n",
    "        return tau_x, tau_y, tau_z, f_z"
   ]
  },
  {
   "cell_type": "markdown",
   "id": "pacific-evolution",
   "metadata": {},
   "source": [
    "Define a variant of this controller as a subclass. This variant has a different $K$ matrix (just an example)."
   ]
  },
  {
   "cell_type": "code",
   "execution_count": 4,
   "id": "brilliant-juvenile",
   "metadata": {},
   "outputs": [],
   "source": [
    "class MyOtherController(RobotController):\n",
    "    def __init__(self, limiter=None):\n",
    "        super().__init__(limiter)\n",
    "        self.K = np.array([[5., 1.]])"
   ]
  },
  {
   "cell_type": "markdown",
   "id": "christian-citation",
   "metadata": {},
   "source": [
    "Run the simulator with the first controller."
   ]
  },
  {
   "cell_type": "code",
   "execution_count": 5,
   "id": "exceptional-aspect",
   "metadata": {},
   "outputs": [],
   "source": [
    "simulator.clear_drones()\n",
    "simulator.add_drone(RobotController, 'my_netid', 'my_image.png')\n",
    "simulator.reset()\n",
    "simulator.run(max_time=5.0)"
   ]
  },
  {
   "cell_type": "code",
   "execution_count": 6,
   "id": "diagnostic-brunei",
   "metadata": {},
   "outputs": [
    {
     "name": "stdout",
     "output_type": "stream",
     "text": [
      "[[10.          3.31662479]]\n"
     ]
    }
   ],
   "source": [
    "print(simulator.drones[0]['controller'].K)"
   ]
  },
  {
   "cell_type": "markdown",
   "id": "controversial-appraisal",
   "metadata": {},
   "source": [
    "Run the simulator with the second controller."
   ]
  },
  {
   "cell_type": "code",
   "execution_count": 7,
   "id": "expected-ordinary",
   "metadata": {},
   "outputs": [],
   "source": [
    "simulator.clear_drones()\n",
    "simulator.add_drone(MyOtherController, 'my_netid', 'my_image.png')\n",
    "simulator.reset()\n",
    "simulator.run(max_time=5.0)"
   ]
  },
  {
   "cell_type": "code",
   "execution_count": 8,
   "id": "private-communications",
   "metadata": {},
   "outputs": [
    {
     "name": "stdout",
     "output_type": "stream",
     "text": [
      "[[5. 1.]]\n"
     ]
    }
   ],
   "source": [
    "print(simulator.drones[0]['controller'].K)"
   ]
  },
  {
   "cell_type": "code",
   "execution_count": null,
   "id": "coastal-recommendation",
   "metadata": {},
   "outputs": [],
   "source": []
  }
 ],
 "metadata": {
  "kernelspec": {
   "display_name": "Python 3",
   "language": "python",
   "name": "python3"
  },
  "language_info": {
   "codemirror_mode": {
    "name": "ipython",
    "version": 3
   },
   "file_extension": ".py",
   "mimetype": "text/x-python",
   "name": "python",
   "nbconvert_exporter": "python",
   "pygments_lexer": "ipython3",
   "version": "3.9.1"
  }
 },
 "nbformat": 4,
 "nbformat_minor": 5
}
