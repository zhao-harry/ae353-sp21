{
 "cells": [
  {
   "cell_type": "markdown",
   "id": "middle-acoustic",
   "metadata": {},
   "source": [
    "# Quadrotor (aka \"the drone\")"
   ]
  },
  {
   "cell_type": "markdown",
   "id": "future-divide",
   "metadata": {},
   "source": [
    "## Example of how to set everything up (do this only once)"
   ]
  },
  {
   "cell_type": "markdown",
   "id": "faced-least",
   "metadata": {},
   "source": [
    "Import modules and configure the notebook."
   ]
  },
  {
   "cell_type": "code",
   "execution_count": 1,
   "id": "informed-qatar",
   "metadata": {},
   "outputs": [
    {
     "data": {
      "text/plain": [
       "<module 'ae353_drone' from '/Users/timothybretl/Documents/courses/AE353/09 - AE353 (Spring 2021)/Website/examples/day40_drone/ae353_drone.py'>"
      ]
     },
     "execution_count": 1,
     "metadata": {},
     "output_type": "execute_result"
    }
   ],
   "source": [
    "import os\n",
    "\n",
    "# This module is part of the python standard library\n",
    "import time\n",
    "\n",
    "# These modules are part of other existing libraries\n",
    "import numpy as np\n",
    "import matplotlib.pyplot as plt\n",
    "\n",
    "# This is my own script (it is an interface to the pybullet simulator)\n",
    "import ae353_drone\n",
    "\n",
    "# I often go back and forth between making changes to my scripts and to\n",
    "# the notebook in which they are used. One \"gotcha\" is that notebooks only\n",
    "# import modules or scripts ONCE. Subsequent imports don't do anything, and\n",
    "# in particular won't reflect any changes I've made to my scripts. To make\n",
    "# sure that I'm working with the latest version of my code, I use this bit\n",
    "# of magic, which forces the notebook to \"reload\" my script:\n",
    "import importlib\n",
    "importlib.reload(ae353_drone)"
   ]
  },
  {
   "cell_type": "code",
   "execution_count": null,
   "id": "supported-matrix",
   "metadata": {},
   "outputs": [],
   "source": [
    "rng = np.random.default_rng(0)"
   ]
  },
  {
   "cell_type": "code",
   "execution_count": null,
   "id": "prepared-chain",
   "metadata": {},
   "outputs": [],
   "source": [
    "rng.standard_normal()"
   ]
  },
  {
   "cell_type": "code",
   "execution_count": null,
   "id": "drawn-brass",
   "metadata": {},
   "outputs": [],
   "source": [
    "rng.standard_normal()"
   ]
  },
  {
   "cell_type": "code",
   "execution_count": null,
   "id": "protected-tampa",
   "metadata": {},
   "outputs": [],
   "source": [
    "rng.standard_normal()"
   ]
  },
  {
   "cell_type": "code",
   "execution_count": null,
   "id": "distinct-antenna",
   "metadata": {},
   "outputs": [],
   "source": [
    "rng.uniform()"
   ]
  },
  {
   "cell_type": "code",
   "execution_count": null,
   "id": "opposed-chest",
   "metadata": {},
   "outputs": [],
   "source": []
  },
  {
   "cell_type": "code",
   "execution_count": null,
   "id": "hollywood-brake",
   "metadata": {},
   "outputs": [],
   "source": []
  },
  {
   "cell_type": "markdown",
   "id": "environmental-refrigerator",
   "metadata": {},
   "source": [
    "Create simulator."
   ]
  },
  {
   "cell_type": "code",
   "execution_count": 2,
   "id": "needed-motion",
   "metadata": {},
   "outputs": [],
   "source": [
    "# simulator = ae353_drone.Simulator(display=False, pos_noise=0., rpy_noise=0., seed=0)\n",
    "# simulator.disconnect()\n",
    "simulator = ae353_drone.Simulator(display=True, pos_noise=0., rpy_noise=0., seed=0)\n",
    "# simulator = ae353_drone.Simulator(display=False, pos_noise=0., rpy_noise=0.)"
   ]
  },
  {
   "cell_type": "markdown",
   "id": "strategic-moore",
   "metadata": {},
   "source": [
    "## Example of how to add a drone and run a simulation"
   ]
  },
  {
   "cell_type": "markdown",
   "id": "electronic-repository",
   "metadata": {},
   "source": [
    "Define a controller for the drone.\n",
    "\n",
    "**NOTE:** This is an example of how to implement three separate PD loops to control roll, pitch, and yaw angles. As we discussed in class, it's unlikely you will take this approach. You will almost certainly choose to implement a controller and observer, for all the reasons we have talked about over the course of the semester. One reason I decided to do an example of PD was because it was an easy thing to design and implement, and so allowed us to look at things like `self.limiter(...)` quickly."
   ]
  },
  {
   "cell_type": "code",
   "execution_count": 3,
   "id": "neutral-toolbox",
   "metadata": {},
   "outputs": [
    {
     "name": "stdout",
     "output_type": "stream",
     "text": [
      "Gain matrix of controller:\n",
      " K = np.array([[9.999999999999996, 3.316624790355398]])\n",
      "\n",
      "Closed-loop eigenvalues of controller:\n",
      " [-3.31662479+3.j -3.31662479-3.j]\n",
      "Gain matrix of observer:\n",
      " L = np.array([[1.732050807568877], [0.9999999999999993]])\n",
      "\n",
      "Closed-loop eigenvalues of observer:\n",
      " [-0.8660254+0.5j -0.8660254-0.5j]\n"
     ]
    }
   ],
   "source": [
    "from scipy import linalg\n",
    "\n",
    "def lqr(A, B, Q, R):\n",
    "    P = linalg.solve_continuous_are(A, B, Q, R)\n",
    "    K = linalg.inv(R) @  B.T @ P\n",
    "    return K\n",
    "\n",
    "A = np.array([[0., 1.], [0., 0.]])\n",
    "B = np.array([[0.], [2.]])\n",
    "C = np.array([[1., 0.]])\n",
    "\n",
    "# Choose gains\n",
    "Qc = np.diag([100., 1.])\n",
    "Rc = np.diag([1.])\n",
    "\n",
    "# Find optimal gain matrix\n",
    "K = lqr(A, B, Qc, Rc)\n",
    "\n",
    "print(f'Gain matrix of controller:\\n K = np.array({K.tolist()})\\n')\n",
    "\n",
    "# Find the closed-loop eigenvalues\n",
    "print(f'Closed-loop eigenvalues of controller:\\n {linalg.eigvals(A - B @ K)}')\n",
    "\n",
    "# Choose gains\n",
    "Qo = np.diag([1.])\n",
    "Ro = np.diag([1., 1.])\n",
    "\n",
    "# Find optimal gain matrix\n",
    "L = lqr(A.T, C.T, linalg.inv(Ro), linalg.inv(Qo)).T\n",
    "\n",
    "print(f'Gain matrix of observer:\\n L = np.array({L.tolist()})\\n')\n",
    "\n",
    "# Find the closed-loop eigenvalues\n",
    "print(f'Closed-loop eigenvalues of observer:\\n {linalg.eigvals(A - L @ C)}')"
   ]
  },
  {
   "cell_type": "code",
   "execution_count": 4,
   "id": "mathematical-emphasis",
   "metadata": {},
   "outputs": [],
   "source": [
    "class RobotController:\n",
    "    def __init__(self, limiter=None):\n",
    "        self.dt = 0.01\n",
    "        self.limiter = limiter\n",
    "        \n",
    "        # Initialize record of old measurements\n",
    "        self.r_old = 0.\n",
    "        self.p_old = 0.\n",
    "        self.y_old = 0.\n",
    "        \n",
    "        self.A = np.array([[0., 1.], [0., 0.]])\n",
    "        self.B = np.array([[0.], [2.]])\n",
    "        self.C = np.array([[1., 0.]])\n",
    "        self.K = np.array([[9.999999999999996, 3.316624790355398]])\n",
    "        self.L = np.array([[1.732050807568877], [0.9999999999999993]])\n",
    "        \n",
    "        self.f_z_e = 0.5 * 9.81\n",
    "        self.z_e = 0.\n",
    "\n",
    "    def get_color(self):\n",
    "        return [0., 1., 0.]\n",
    "\n",
    "    def reset(self, pos):\n",
    "        self.xhat = np.zeros(2)\n",
    "\n",
    "    def run(self, pos, rpy, pos_ring, is_last_ring, pos_others):\n",
    "        \n",
    "        ##################\n",
    "        # PD Control\n",
    "        #\n",
    "        #  This is easy to implement and allows us to isolate the\n",
    "        #  \"z position and velocity\" subsystem, for the purpose of\n",
    "        #  example.\n",
    "        #\n",
    "        \n",
    "        # Get current measurements of roll, pitch, and yaw\n",
    "        r = rpy[0]\n",
    "        p = rpy[1]\n",
    "        y = rpy[2]\n",
    "        \n",
    "        # Estimate roll, pitch, and yaw derivatives by finite difference\n",
    "        rdot = (r - self.r_old) / self.dt\n",
    "        pdot = (p - self.p_old) / self.dt\n",
    "        ydot = (y - self.y_old) / self.dt\n",
    "        \n",
    "        # Update record of old measurements\n",
    "        self.r_old = r\n",
    "        self.p_old = p\n",
    "        self.y_old = y\n",
    "        \n",
    "        # Choose net torques to drive roll, pitch, and yaw to zero\n",
    "        tau_x = - 1. * (r - 0) - 0.1 * (rdot - 0)\n",
    "        tau_y = - 1. * (p - 0) - 0.1 * (pdot - 0)\n",
    "        tau_z = - 1. * (y - 0) - 0.1 * (ydot - 0)\n",
    "        \n",
    "        #\n",
    "        ##################\n",
    "        \n",
    "        zdes = pos_ring[2]\n",
    "        zest = self.xhat[0] + self.z_e\n",
    "        max_error = 0.25\n",
    "        if np.abs(zdes - zest) > max_error:\n",
    "            zdes = zest + max_error * ((zdes - zest) / linalg.norm(zdes - zest))\n",
    "        \n",
    "        \n",
    "        xdes = np.array([zdes - self.z_e, 0.])\n",
    "        u = -self.K @ (self.xhat - xdes)\n",
    "        f_z = u[0] + self.f_z_e\n",
    "        if self.limiter is not None:\n",
    "            tau_x, tau_y, tau_z, f_z = self.limiter(tau_x, tau_y, tau_z, f_z)\n",
    "        u[0] = f_z - self.f_z_e\n",
    "        \n",
    "        y = np.array([pos[2] - self.z_e])\n",
    "        self.xhat += self.dt * (self.A @ self.xhat + self.B @ u - self.L @ (self.C @ self.xhat - y))\n",
    "        \n",
    "\n",
    "        \n",
    "        \n",
    "#         print(f'{tau_x}, {tau_y}, {tau_z}, {f_z}')\n",
    "#         raise Exception('stop')\n",
    "\n",
    "        return tau_x, tau_y, tau_z, f_z"
   ]
  },
  {
   "cell_type": "markdown",
   "id": "christian-citation",
   "metadata": {},
   "source": [
    "Add the drone to the simulator. There are three arguments:\n",
    "\n",
    "* `RobotController` is the class definition\n",
    "* `'my_netid'` is the name of the drone\n",
    "* `'my_image.png'` is the name of an image to use as a label (can be `None`, can be a file path)\n",
    "\n",
    "You can call this function more than once, so long as you call it with a different drone name each time. An exception will be raised if you try to add two drones of the same name to the simulator."
   ]
  },
  {
   "cell_type": "code",
   "execution_count": 5,
   "id": "exceptional-aspect",
   "metadata": {},
   "outputs": [],
   "source": [
    "simulator.clear_drones()\n",
    "simulator.add_drone(RobotController, 'my_netid', 'my_image.png')\n",
    "# simulator.load_drones()"
   ]
  },
  {
   "cell_type": "markdown",
   "id": "basic-variance",
   "metadata": {},
   "source": [
    "Reset the drone (i.e., place it at a random location in the start ring)."
   ]
  },
  {
   "cell_type": "code",
   "execution_count": 6,
   "id": "expected-ordinary",
   "metadata": {},
   "outputs": [],
   "source": [
    "simulator.move_rings()"
   ]
  },
  {
   "cell_type": "code",
   "execution_count": 7,
   "id": "scientific-friendly",
   "metadata": {},
   "outputs": [],
   "source": [
    "simulator.reset(rpy_noise=0.1, linvel_noise=0.1, angvel_noise=0.1)"
   ]
  },
  {
   "cell_type": "markdown",
   "id": "dress-product",
   "metadata": {},
   "source": [
    "Run simulation until `max_time` is reached or until the drone reaches the finish ring."
   ]
  },
  {
   "cell_type": "code",
   "execution_count": 8,
   "id": "streaming-narrative",
   "metadata": {},
   "outputs": [],
   "source": [
    "simulator.run(max_time=5.0)"
   ]
  },
  {
   "cell_type": "markdown",
   "id": "registered-faith",
   "metadata": {},
   "source": [
    "## Example of how to get and plot results\n",
    "\n",
    "Assume that we already did two things:\n",
    "\n",
    "* Added a drone with the name `my_netid` to the simulator\n",
    "* Ran the simulation"
   ]
  },
  {
   "cell_type": "markdown",
   "id": "colonial-helicopter",
   "metadata": {},
   "source": [
    "Get drone by name."
   ]
  },
  {
   "cell_type": "code",
   "execution_count": 9,
   "id": "agricultural-coach",
   "metadata": {},
   "outputs": [],
   "source": [
    "drone_name = 'my_netid'\n",
    "drone = simulator.get_drone_by_name(drone_name)\n",
    "\n",
    "if drone is None:\n",
    "    drone_names = '\\n'.join([d['name'] for d in simulator.drones])\n",
    "    msg = f'The simulator has no drone with name \"{drone_name}\".'\n",
    "    if len(drone_names) == 0:\n",
    "        msg += f' The simulator has no drones at all, in fact.'\n",
    "    else:\n",
    "        msg += f' The simulator has these drones:'\n",
    "        msg += f'\\n==========\\n{drone_names}\\n==========\\n'\n",
    "    print(msg)"
   ]
  },
  {
   "cell_type": "markdown",
   "id": "polished-advisory",
   "metadata": {},
   "source": [
    "Extract data."
   ]
  },
  {
   "cell_type": "code",
   "execution_count": 10,
   "id": "liked-handle",
   "metadata": {},
   "outputs": [],
   "source": [
    "data = drone['data'].copy()"
   ]
  },
  {
   "cell_type": "markdown",
   "id": "concrete-combining",
   "metadata": {},
   "source": [
    "Convert all lists in data to numpy arrays."
   ]
  },
  {
   "cell_type": "code",
   "execution_count": 11,
   "id": "alive-capacity",
   "metadata": {},
   "outputs": [],
   "source": [
    "for key in data.keys():\n",
    "    data[key] = np.array(data[key]).T"
   ]
  },
  {
   "cell_type": "code",
   "execution_count": 12,
   "id": "stuffed-walter",
   "metadata": {},
   "outputs": [
    {
     "data": {
      "text/plain": [
       "0.05028751751963577"
      ]
     },
     "execution_count": 12,
     "metadata": {},
     "output_type": "execute_result"
    }
   ],
   "source": [
    "data['pos'][0, 0]"
   ]
  },
  {
   "cell_type": "code",
   "execution_count": 12,
   "id": "comic-carolina",
   "metadata": {},
   "outputs": [
    {
     "data": {
      "text/plain": [
       "0.05028751751963577"
      ]
     },
     "execution_count": 12,
     "metadata": {},
     "output_type": "execute_result"
    }
   ],
   "source": [
    "data['pos'][0, 0]"
   ]
  },
  {
   "cell_type": "code",
   "execution_count": null,
   "id": "mineral-uruguay",
   "metadata": {},
   "outputs": [],
   "source": [
    "data['pos'][0, 0]"
   ]
  },
  {
   "cell_type": "code",
   "execution_count": null,
   "id": "laden-shepherd",
   "metadata": {},
   "outputs": [],
   "source": [
    "data['pos'][0, 0]"
   ]
  },
  {
   "cell_type": "markdown",
   "id": "blond-static",
   "metadata": {},
   "source": [
    "Did the drone finish? If so, what was the time at which it finished? If not, was it still running (or was there likely an error)?"
   ]
  },
  {
   "cell_type": "code",
   "execution_count": null,
   "id": "greenhouse-steering",
   "metadata": {},
   "outputs": [],
   "source": [
    "if drone['finish_time'] is None:\n",
    "    if drone['running']:\n",
    "        print(f'The drone \"{drone[\"name\"]}\" did not finish.')\n",
    "    else:\n",
    "        print(f'The drone \"{drone[\"name\"]}\" did not finish and was no longer running.')\n",
    "else:\n",
    "    print(f'The drone \"{drone[\"name\"]}\" finished with time: {drone[\"finish_time\"]}')"
   ]
  },
  {
   "cell_type": "markdown",
   "id": "cognitive-nomination",
   "metadata": {},
   "source": [
    "Plot results."
   ]
  },
  {
   "cell_type": "code",
   "execution_count": null,
   "id": "provincial-cleveland",
   "metadata": {
    "scrolled": true
   },
   "outputs": [],
   "source": [
    "# Create a figure with subplots that all share the same x-axis\n",
    "fig, (ax_z, ax_v) = plt.subplots(2, 1, figsize=(8, 6), sharex=True)\n",
    "\n",
    "z_tru = data['pos'][2, :]\n",
    "z_est = data['xhat'][0, :]\n",
    "\n",
    "v_tru = data['linvel'][2, :]\n",
    "v_est = data['xhat'][1, :]\n",
    "\n",
    "\n",
    "# Position\n",
    "ax_z.plot(data['t'], z_tru, label='p_z (true)', linewidth=4)\n",
    "ax_z.plot(data['t'], z_est, '--', label='p_z (estimate)', linewidth=4)\n",
    "ax_z.grid()\n",
    "ax_z.legend(fontsize=16)\n",
    "ax_z.tick_params(labelsize=14)\n",
    "ax_z.set_ylim([0., 2.])\n",
    "\n",
    "# Velocity\n",
    "ax_v.plot(data['t'], v_tru, label='v_z (true)', linewidth=4)\n",
    "ax_v.plot(data['t'], v_est, '--', label='v_z (estimate)', linewidth=4)\n",
    "ax_v.grid()\n",
    "ax_v.legend(fontsize=16)\n",
    "ax_v.tick_params(labelsize=14)\n",
    "ax_v.set_ylim([-1., 1.])\n",
    "\n",
    "# Set shared x-axis properties\n",
    "ax_v.set_xlabel('time (s)', fontsize=20)\n",
    "ax_v.set_xlim([data['t'][0], data['t'][-1]])\n",
    "\n",
    "# Make the arrangement of subplots look nice\n",
    "fig.tight_layout()"
   ]
  },
  {
   "cell_type": "code",
   "execution_count": null,
   "id": "baking-pipeline",
   "metadata": {},
   "outputs": [],
   "source": [
    "# Create a figure with subplots that all share the same x-axis\n",
    "fig, (ax_z, ax_v) = plt.subplots(2, 1, figsize=(8, 6), sharex=True)\n",
    "\n",
    "z_tru = data['pos'][2, :]\n",
    "z_est = data['xhat'][0, :]\n",
    "\n",
    "v_tru = data['linvel'][2, :]\n",
    "v_est = data['xhat'][1, :]\n",
    "\n",
    "\n",
    "# Position\n",
    "ax_z.plot(data['t'], z_tru, label='p_z (true)', linewidth=4)\n",
    "ax_z.plot(data['t'], z_est, '--', label='p_z (estimate)', linewidth=4)\n",
    "ax_z.grid()\n",
    "ax_z.legend(fontsize=16)\n",
    "ax_z.tick_params(labelsize=14)\n",
    "ax_z.set_ylim([0., 2.])\n",
    "\n",
    "# Velocity\n",
    "ax_v.plot(data['t'], v_tru, label='v_z (true)', linewidth=4)\n",
    "ax_v.plot(data['t'], v_est, '--', label='v_z (estimate)', linewidth=4)\n",
    "ax_v.grid()\n",
    "ax_v.legend(fontsize=16)\n",
    "ax_v.tick_params(labelsize=14)\n",
    "ax_v.set_ylim([-1., 1.])\n",
    "\n",
    "# Set shared x-axis properties\n",
    "ax_v.set_xlabel('time (s)', fontsize=20)\n",
    "ax_v.set_xlim([data['t'][0], data['t'][-1]])\n",
    "\n",
    "# Make the arrangement of subplots look nice\n",
    "fig.tight_layout()"
   ]
  },
  {
   "cell_type": "code",
   "execution_count": null,
   "id": "applicable-sector",
   "metadata": {},
   "outputs": [],
   "source": [
    "# Create a figure with subplots that all share the same x-axis\n",
    "fig, (ax_z, ax_v) = plt.subplots(2, 1, figsize=(8, 6), sharex=True)\n",
    "\n",
    "z_tru = data['pos'][2, :]\n",
    "z_est = data['xhat'][0, :]\n",
    "\n",
    "v_tru = data['linvel'][2, :]\n",
    "v_est = data['xhat'][1, :]\n",
    "\n",
    "\n",
    "# Position\n",
    "ax_z.plot(data['t'], z_tru, label='p_z (true)', linewidth=4)\n",
    "ax_z.plot(data['t'], z_est, '--', label='p_z (estimate)', linewidth=4)\n",
    "ax_z.grid()\n",
    "ax_z.legend(fontsize=16)\n",
    "ax_z.tick_params(labelsize=14)\n",
    "\n",
    "# Velocity\n",
    "ax_v.plot(data['t'], v_tru, label='v_z (true)', linewidth=4)\n",
    "ax_v.plot(data['t'], v_est, '--', label='v_z (estimate)', linewidth=4)\n",
    "ax_v.grid()\n",
    "ax_v.legend(fontsize=16)\n",
    "ax_v.tick_params(labelsize=14)\n",
    "\n",
    "# Set shared x-axis properties\n",
    "ax_v.set_xlabel('time (s)', fontsize=20)\n",
    "ax_v.set_xlim([data['t'][0], data['t'][-1]])\n",
    "\n",
    "# Make the arrangement of subplots look nice\n",
    "fig.tight_layout()"
   ]
  },
  {
   "cell_type": "code",
   "execution_count": null,
   "id": "informed-watson",
   "metadata": {},
   "outputs": [],
   "source": [
    "# Create a figure with subplots that all share the same x-axis\n",
    "fig, (ax_pos, ax_rpy, ax_act) = plt.subplots(3, 1, figsize=(9, 12), sharex=True)\n",
    "\n",
    "# Position\n",
    "ax_pos.plot(data['t'], data['pos'][0, :], label='x (m)', linewidth=4)\n",
    "ax_pos.plot(data['t'], data['pos'][1, :], label='y (m)', linewidth=4)\n",
    "ax_pos.plot(data['t'], data['pos'][2, :], label='z (m)', linewidth=4)\n",
    "ax_pos.grid()\n",
    "ax_pos.legend(fontsize=16)\n",
    "ax_pos.tick_params(labelsize=14)\n",
    "\n",
    "# Roll, pitch, and yaw angles\n",
    "ax_rpy.plot(data['t'], data['rpy'][0, :], label='roll (rad)', linewidth=4)\n",
    "ax_rpy.plot(data['t'], data['rpy'][1, :], label='pitch (rad)', linewidth=4)\n",
    "ax_rpy.plot(data['t'], data['rpy'][2, :], label='yaw (rad)', linewidth=4)\n",
    "ax_rpy.grid()\n",
    "ax_rpy.legend(fontsize=16)\n",
    "ax_rpy.tick_params(labelsize=14)\n",
    "\n",
    "# Actuator commands\n",
    "ax_act.plot(data['t'], data['tau_x'], label='tau_x (N-m)', linewidth=4)\n",
    "ax_act.plot(data['t'], data['tau_y'], label='tau_y (N-m)', linewidth=4)\n",
    "ax_act.plot(data['t'], data['tau_z'], label='tau_z (N-m)', linewidth=4)\n",
    "ax_act.plot(data['t'], data['f_z'], label='f_z (N)', linewidth=4)\n",
    "ax_act.grid()\n",
    "ax_act.legend(fontsize=16)\n",
    "ax_act.tick_params(labelsize=14)\n",
    "\n",
    "# Set shared x-axis properties\n",
    "ax_act.set_xlabel('time (s)', fontsize=20)\n",
    "ax_act.set_xlim([data['t'][0], data['t'][-1]])\n",
    "\n",
    "# Make the arrangement of subplots look nice\n",
    "fig.tight_layout()"
   ]
  },
  {
   "cell_type": "code",
   "execution_count": null,
   "id": "german-louis",
   "metadata": {},
   "outputs": [],
   "source": [
    "simulator.disconnect()\n",
    "simulator = ae353_drone.Simulator(display=True, pos_noise=0., rpy_noise=0., seed=0)"
   ]
  },
  {
   "cell_type": "code",
   "execution_count": null,
   "id": "lined-cycling",
   "metadata": {},
   "outputs": [],
   "source": []
  }
 ],
 "metadata": {
  "kernelspec": {
   "display_name": "Python 3",
   "language": "python",
   "name": "python3"
  },
  "language_info": {
   "codemirror_mode": {
    "name": "ipython",
    "version": 3
   },
   "file_extension": ".py",
   "mimetype": "text/x-python",
   "name": "python",
   "nbconvert_exporter": "python",
   "pygments_lexer": "ipython3",
   "version": "3.9.1"
  }
 },
 "nbformat": 4,
 "nbformat_minor": 5
}
