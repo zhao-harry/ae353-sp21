{
 "cells": [
  {
   "cell_type": "code",
   "execution_count": 1,
   "id": "spectacular-strap",
   "metadata": {},
   "outputs": [],
   "source": [
    "import numpy as np\n",
    "import sympy as sym\n",
    "from scipy import linalg\n",
    "from scipy import signal\n",
    "\n",
    "# Suppress the use of scientific notation when printing small numbers\n",
    "np.set_printoptions(suppress=True)"
   ]
  },
  {
   "cell_type": "markdown",
   "id": "middle-acoustic",
   "metadata": {},
   "source": [
    "# Is the reaction wheel controllable?"
   ]
  },
  {
   "cell_type": "markdown",
   "id": "concrete-nevada",
   "metadata": {},
   "source": [
    "Parameters:"
   ]
  },
  {
   "cell_type": "code",
   "execution_count": 2,
   "id": "governmental-static",
   "metadata": {},
   "outputs": [],
   "source": [
    "# radius of wheel\n",
    "rw = 0.5\n",
    "\n",
    "# mass of wheel\n",
    "mw = 0.25\n",
    "\n",
    "# moi of wheel\n",
    "Jw = 0.5 * mw * rw**2"
   ]
  },
  {
   "cell_type": "markdown",
   "id": "whole-provincial",
   "metadata": {},
   "source": [
    "Equations of motion:\n",
    "\n",
    "$$ J_w \\dot{v} = \\tau $$"
   ]
  },
  {
   "cell_type": "code",
   "execution_count": 3,
   "id": "employed-mounting",
   "metadata": {},
   "outputs": [
    {
     "data": {
      "text/latex": [
       "$\\displaystyle \\left[\\begin{matrix}32 \\tau\\end{matrix}\\right]$"
      ],
      "text/plain": [
       "Matrix([[32*tau]])"
      ]
     },
     "execution_count": 3,
     "metadata": {},
     "output_type": "execute_result"
    }
   ],
   "source": [
    "# Convert floats to rationals\n",
    "Jw_sym = sym.nsimplify(Jw)\n",
    "\n",
    "# Create symbolic variables\n",
    "v, tau = sym.symbols('v, tau', real=True)\n",
    "\n",
    "# Define equations of motion\n",
    "f = sym.Matrix([[(1 / Jw_sym) * tau]])\n",
    "\n",
    "# Show the result\n",
    "f"
   ]
  },
  {
   "cell_type": "markdown",
   "id": "damaged-forest",
   "metadata": {},
   "source": [
    "Linearization:"
   ]
  },
  {
   "cell_type": "code",
   "execution_count": 4,
   "id": "fancy-nickel",
   "metadata": {},
   "outputs": [],
   "source": [
    "ve = 1. * (2 * np.pi) # <-- 1 rpm\n",
    "taue = 0.\n",
    "\n",
    "A_num = sym.lambdify((v, tau), f.jacobian([v]))\n",
    "B_num = sym.lambdify((v, tau), f.jacobian([tau]))\n",
    "A = A_num(ve, taue).astype(float)\n",
    "B = B_num(ve, taue).astype(float)"
   ]
  },
  {
   "cell_type": "code",
   "execution_count": 5,
   "id": "spectacular-percentage",
   "metadata": {},
   "outputs": [
    {
     "name": "stdout",
     "output_type": "stream",
     "text": [
      "[[0.]]\n"
     ]
    }
   ],
   "source": [
    "print(A)"
   ]
  },
  {
   "cell_type": "code",
   "execution_count": 6,
   "id": "young-lingerie",
   "metadata": {},
   "outputs": [
    {
     "name": "stdout",
     "output_type": "stream",
     "text": [
      "[[32.]]\n"
     ]
    }
   ],
   "source": [
    "print(B)"
   ]
  },
  {
   "cell_type": "markdown",
   "id": "national-keyboard",
   "metadata": {},
   "source": [
    "Controllability matrix:"
   ]
  },
  {
   "cell_type": "code",
   "execution_count": 7,
   "id": "guided-dispatch",
   "metadata": {},
   "outputs": [],
   "source": [
    "W = np.block([[B]])"
   ]
  },
  {
   "cell_type": "code",
   "execution_count": 8,
   "id": "restricted-moscow",
   "metadata": {},
   "outputs": [
    {
     "name": "stdout",
     "output_type": "stream",
     "text": [
      "[[32.]]\n"
     ]
    }
   ],
   "source": [
    "print(W)"
   ]
  },
  {
   "cell_type": "markdown",
   "id": "valid-hearts",
   "metadata": {},
   "source": [
    "Rank of controllability matrix:"
   ]
  },
  {
   "cell_type": "code",
   "execution_count": 9,
   "id": "australian-holmes",
   "metadata": {},
   "outputs": [
    {
     "data": {
      "text/plain": [
       "1"
      ]
     },
     "execution_count": 9,
     "metadata": {},
     "output_type": "execute_result"
    }
   ],
   "source": [
    "np.linalg.matrix_rank(W)"
   ]
  },
  {
   "cell_type": "markdown",
   "id": "floral-password",
   "metadata": {},
   "source": [
    "Number of states:"
   ]
  },
  {
   "cell_type": "code",
   "execution_count": 10,
   "id": "casual-music",
   "metadata": {},
   "outputs": [
    {
     "data": {
      "text/plain": [
       "1"
      ]
     },
     "execution_count": 10,
     "metadata": {},
     "output_type": "execute_result"
    }
   ],
   "source": [
    "A.shape[0]"
   ]
  },
  {
   "cell_type": "markdown",
   "id": "extended-ghost",
   "metadata": {},
   "source": [
    "What happens if you try to do eigenvalue placement?"
   ]
  },
  {
   "cell_type": "code",
   "execution_count": 11,
   "id": "alpine-shoot",
   "metadata": {},
   "outputs": [],
   "source": [
    "fbk = signal.place_poles(A, B, [-1.])\n",
    "K = fbk.gain_matrix"
   ]
  },
  {
   "cell_type": "markdown",
   "id": "fewer-runner",
   "metadata": {},
   "source": [
    "Did it work?"
   ]
  },
  {
   "cell_type": "code",
   "execution_count": 12,
   "id": "lyric-asbestos",
   "metadata": {},
   "outputs": [
    {
     "name": "stdout",
     "output_type": "stream",
     "text": [
      "[-1.+0.j]\n"
     ]
    }
   ],
   "source": [
    "print(linalg.eigvals(A - B @ K))"
   ]
  },
  {
   "cell_type": "markdown",
   "id": "neutral-organ",
   "metadata": {},
   "source": [
    "# Is the platform controllable, ignoring the reaction wheel?"
   ]
  },
  {
   "cell_type": "markdown",
   "id": "danish-madison",
   "metadata": {},
   "source": [
    "Parameters:"
   ]
  },
  {
   "cell_type": "code",
   "execution_count": 14,
   "id": "composite-cocktail",
   "metadata": {},
   "outputs": [],
   "source": [
    "# distance from platform axis to wheel axis\n",
    "l = 1.\n",
    "\n",
    "# radius of wheel\n",
    "rw = 0.5\n",
    "\n",
    "# mass of wheel\n",
    "mw = 0.25\n",
    "\n",
    "# moi of wheel\n",
    "Jw = 0.5 * mw * rw**2\n",
    "\n",
    "# mass of platform\n",
    "mp = 12. * (1. - mw * l**2) / (3.**2 + 2.**2)\n",
    "\n",
    "# moment of inertia of platform\n",
    "Jp = (1. / 12.) * mp * (3.**2 + 2.**2)"
   ]
  },
  {
   "cell_type": "markdown",
   "id": "normal-grammar",
   "metadata": {},
   "source": [
    "Equations of motion:\n",
    "\n",
    "$$ (J_p + ml^2) \\ddot{q} = \\tau $$"
   ]
  },
  {
   "cell_type": "code",
   "execution_count": 15,
   "id": "obvious-channels",
   "metadata": {},
   "outputs": [
    {
     "data": {
      "text/latex": [
       "$\\displaystyle \\left[\\begin{matrix}v\\\\\\tau\\end{matrix}\\right]$"
      ],
      "text/plain": [
       "Matrix([\n",
       "[  v],\n",
       "[tau]])"
      ]
     },
     "execution_count": 15,
     "metadata": {},
     "output_type": "execute_result"
    }
   ],
   "source": [
    "# Convert floats to rationals\n",
    "l_sym = sym.nsimplify(l)\n",
    "mw_sym = sym.nsimplify(mw)\n",
    "Jp_sym = sym.nsimplify(Jp)\n",
    "\n",
    "# Create symbolic variables\n",
    "q, v, tau = sym.symbols('q, v, tau', real=True)\n",
    "\n",
    "# Define equations of motion\n",
    "f = sym.Matrix([[v], [(1 / (Jp_sym + mw_sym * l_sym**2)) * tau]])\n",
    "\n",
    "# Show the result\n",
    "f"
   ]
  },
  {
   "cell_type": "markdown",
   "id": "convertible-reputation",
   "metadata": {},
   "source": [
    "Linearization:"
   ]
  },
  {
   "cell_type": "code",
   "execution_count": 16,
   "id": "civic-painting",
   "metadata": {},
   "outputs": [],
   "source": [
    "qe = 0.\n",
    "ve = 0.\n",
    "taue = 0.\n",
    "\n",
    "A_num = sym.lambdify((q, v, tau), f.jacobian([q, v]))\n",
    "B_num = sym.lambdify((q, v, tau), f.jacobian([tau]))\n",
    "A = A_num(qe, ve, taue).astype(float)\n",
    "B = B_num(qe, ve, taue).astype(float)"
   ]
  },
  {
   "cell_type": "code",
   "execution_count": 17,
   "id": "talented-milan",
   "metadata": {},
   "outputs": [
    {
     "name": "stdout",
     "output_type": "stream",
     "text": [
      "[[0. 1.]\n",
      " [0. 0.]]\n"
     ]
    }
   ],
   "source": [
    "print(A)"
   ]
  },
  {
   "cell_type": "code",
   "execution_count": 18,
   "id": "final-southeast",
   "metadata": {},
   "outputs": [
    {
     "name": "stdout",
     "output_type": "stream",
     "text": [
      "[[0.]\n",
      " [1.]]\n"
     ]
    }
   ],
   "source": [
    "print(B)"
   ]
  },
  {
   "cell_type": "markdown",
   "id": "persistent-portfolio",
   "metadata": {},
   "source": [
    "Controllability matrix:"
   ]
  },
  {
   "cell_type": "code",
   "execution_count": 19,
   "id": "formed-strip",
   "metadata": {},
   "outputs": [],
   "source": [
    "W = np.block([[B, A @ B]])"
   ]
  },
  {
   "cell_type": "code",
   "execution_count": 20,
   "id": "synthetic-denver",
   "metadata": {},
   "outputs": [
    {
     "name": "stdout",
     "output_type": "stream",
     "text": [
      "[[0. 1.]\n",
      " [1. 0.]]\n"
     ]
    }
   ],
   "source": [
    "print(W)"
   ]
  },
  {
   "cell_type": "markdown",
   "id": "played-bidding",
   "metadata": {},
   "source": [
    "Rank of controllability matrix:"
   ]
  },
  {
   "cell_type": "code",
   "execution_count": 21,
   "id": "willing-failure",
   "metadata": {},
   "outputs": [
    {
     "data": {
      "text/plain": [
       "2"
      ]
     },
     "execution_count": 21,
     "metadata": {},
     "output_type": "execute_result"
    }
   ],
   "source": [
    "np.linalg.matrix_rank(W)"
   ]
  },
  {
   "cell_type": "markdown",
   "id": "satellite-poultry",
   "metadata": {},
   "source": [
    "Number of states:"
   ]
  },
  {
   "cell_type": "code",
   "execution_count": 22,
   "id": "knowing-water",
   "metadata": {},
   "outputs": [
    {
     "data": {
      "text/plain": [
       "2"
      ]
     },
     "execution_count": 22,
     "metadata": {},
     "output_type": "execute_result"
    }
   ],
   "source": [
    "A.shape[0]"
   ]
  },
  {
   "cell_type": "markdown",
   "id": "metallic-newman",
   "metadata": {},
   "source": [
    "What happens if you try to do eigenvalue placement?"
   ]
  },
  {
   "cell_type": "code",
   "execution_count": 27,
   "id": "enabling-passing",
   "metadata": {},
   "outputs": [],
   "source": [
    "fbk = signal.place_poles(A, B, [-1., -2.])\n",
    "K = fbk.gain_matrix"
   ]
  },
  {
   "cell_type": "markdown",
   "id": "acknowledged-packing",
   "metadata": {},
   "source": [
    "Did it work?"
   ]
  },
  {
   "cell_type": "code",
   "execution_count": 28,
   "id": "false-crossing",
   "metadata": {},
   "outputs": [
    {
     "name": "stdout",
     "output_type": "stream",
     "text": [
      "[-1.+0.j -2.+0.j]\n"
     ]
    }
   ],
   "source": [
    "print(linalg.eigvals(A - B @ K))"
   ]
  },
  {
   "cell_type": "code",
   "execution_count": 29,
   "id": "national-magnet",
   "metadata": {},
   "outputs": [
    {
     "name": "stdout",
     "output_type": "stream",
     "text": [
      "[[2.0000000000000004, 3.0]]\n"
     ]
    }
   ],
   "source": [
    "print(K.tolist())"
   ]
  },
  {
   "cell_type": "markdown",
   "id": "capable-satin",
   "metadata": {},
   "source": [
    "# Is the platform controllable, *not* ignoring the reaction wheel?"
   ]
  },
  {
   "cell_type": "markdown",
   "id": "furnished-racing",
   "metadata": {},
   "source": [
    "Parameters:"
   ]
  },
  {
   "cell_type": "code",
   "execution_count": 30,
   "id": "greenhouse-hobby",
   "metadata": {},
   "outputs": [],
   "source": [
    "# distance from platform axis to wheel axis\n",
    "l = 1.\n",
    "\n",
    "# radius of wheel\n",
    "rw = 0.5\n",
    "\n",
    "# mass of wheel\n",
    "mw = 0.25\n",
    "\n",
    "# moi of wheel\n",
    "Jw = 0.5 * mw * rw**2\n",
    "\n",
    "# mass of platform\n",
    "mp = 12. * (1. - mw * l**2) / (3.**2 + 2.**2)\n",
    "\n",
    "# moment of inertia of platform\n",
    "Jp = (1. / 12.) * mp * (3.**2 + 2.**2)"
   ]
  },
  {
   "cell_type": "markdown",
   "id": "light-consolidation",
   "metadata": {},
   "source": [
    "Equations of motion:\n",
    "\n",
    "$$\n",
    "\\begin{aligned}\n",
    "J_1 \\ddot{q}_1 &= \\tau \\\\\n",
    "J_2 \\dot{v}_2 &= - \\left( \\dfrac{J_1 + J_2}{J_1} \\right) \\tau\n",
    "\\end{aligned}\n",
    "$$\n",
    "\n",
    "where\n",
    "\n",
    "$$\n",
    "J_1 = J_p + m_wl^2\n",
    "\\qquad\n",
    "\\qquad\n",
    "J_2 = J_w\n",
    "$$"
   ]
  },
  {
   "cell_type": "code",
   "execution_count": 31,
   "id": "rapid-average",
   "metadata": {},
   "outputs": [
    {
     "data": {
      "text/latex": [
       "$\\displaystyle \\left[\\begin{matrix}v_{1}\\\\\\tau\\\\- 33 \\tau\\end{matrix}\\right]$"
      ],
      "text/plain": [
       "Matrix([\n",
       "[     v1],\n",
       "[    tau],\n",
       "[-33*tau]])"
      ]
     },
     "execution_count": 31,
     "metadata": {},
     "output_type": "execute_result"
    }
   ],
   "source": [
    "# Convert floats to rationals\n",
    "J1 = sym.nsimplify(Jp + mw * l**2)\n",
    "J2 = sym.nsimplify(Jw)\n",
    "\n",
    "# Create symbolic variables\n",
    "q1, v1, v2, tau = sym.symbols('q1, v1, v2, tau', real=True)\n",
    "\n",
    "# Define equations of motion\n",
    "f = sym.Matrix([[v1], [(1 / J1) * tau], [(1 / J2) * (- ((J1 + J2) / J1) * tau)]])\n",
    "\n",
    "# Show the result\n",
    "f"
   ]
  },
  {
   "cell_type": "markdown",
   "id": "local-recovery",
   "metadata": {},
   "source": [
    "Linearization:"
   ]
  },
  {
   "cell_type": "code",
   "execution_count": 32,
   "id": "indonesian-strike",
   "metadata": {},
   "outputs": [],
   "source": [
    "q1e = 0.\n",
    "v1e = 0.\n",
    "v2e = 0.\n",
    "taue = 0.\n",
    "\n",
    "A_num = sym.lambdify((q1, v1, v2, tau), f.jacobian([q1, v1, v2]))\n",
    "B_num = sym.lambdify((q1, v1, v2, tau), f.jacobian([tau]))\n",
    "A = A_num(q1e, v1e, v2e, taue).astype(float)\n",
    "B = B_num(q1e, v1e, v2e, taue).astype(float)"
   ]
  },
  {
   "cell_type": "code",
   "execution_count": 33,
   "id": "interracial-storm",
   "metadata": {},
   "outputs": [
    {
     "name": "stdout",
     "output_type": "stream",
     "text": [
      "[[0. 1. 0.]\n",
      " [0. 0. 0.]\n",
      " [0. 0. 0.]]\n"
     ]
    }
   ],
   "source": [
    "print(A)"
   ]
  },
  {
   "cell_type": "code",
   "execution_count": 34,
   "id": "periodic-batman",
   "metadata": {},
   "outputs": [
    {
     "name": "stdout",
     "output_type": "stream",
     "text": [
      "[[  0.]\n",
      " [  1.]\n",
      " [-33.]]\n"
     ]
    }
   ],
   "source": [
    "print(B)"
   ]
  },
  {
   "cell_type": "markdown",
   "id": "stainless-inside",
   "metadata": {},
   "source": [
    "Controllability matrix:"
   ]
  },
  {
   "cell_type": "code",
   "execution_count": 35,
   "id": "regulation-processor",
   "metadata": {},
   "outputs": [],
   "source": [
    "W = np.block([[B, A @ B, A @ A @ B]])"
   ]
  },
  {
   "cell_type": "code",
   "execution_count": 36,
   "id": "postal-harvest",
   "metadata": {},
   "outputs": [
    {
     "name": "stdout",
     "output_type": "stream",
     "text": [
      "[[  0.   1.   0.]\n",
      " [  1.   0.   0.]\n",
      " [-33.   0.   0.]]\n"
     ]
    }
   ],
   "source": [
    "print(W)"
   ]
  },
  {
   "cell_type": "markdown",
   "id": "technological-rabbit",
   "metadata": {},
   "source": [
    "Rank of controllability matrix:"
   ]
  },
  {
   "cell_type": "code",
   "execution_count": 37,
   "id": "arctic-norway",
   "metadata": {},
   "outputs": [
    {
     "data": {
      "text/plain": [
       "2"
      ]
     },
     "execution_count": 37,
     "metadata": {},
     "output_type": "execute_result"
    }
   ],
   "source": [
    "np.linalg.matrix_rank(W)"
   ]
  },
  {
   "cell_type": "markdown",
   "id": "historical-stress",
   "metadata": {},
   "source": [
    "Number of states:"
   ]
  },
  {
   "cell_type": "code",
   "execution_count": 38,
   "id": "prescription-mixer",
   "metadata": {},
   "outputs": [
    {
     "data": {
      "text/plain": [
       "3"
      ]
     },
     "execution_count": 38,
     "metadata": {},
     "output_type": "execute_result"
    }
   ],
   "source": [
    "A.shape[0]"
   ]
  },
  {
   "cell_type": "code",
   "execution_count": 39,
   "id": "growing-insulin",
   "metadata": {},
   "outputs": [
    {
     "ename": "LinAlgError",
     "evalue": "singular matrix",
     "output_type": "error",
     "traceback": [
      "\u001b[0;31m---------------------------------------------------------------------------\u001b[0m",
      "\u001b[0;31mLinAlgError\u001b[0m                               Traceback (most recent call last)",
      "\u001b[0;32m<ipython-input-39-b2542c681e76>\u001b[0m in \u001b[0;36m<module>\u001b[0;34m\u001b[0m\n\u001b[0;32m----> 1\u001b[0;31m \u001b[0mlinalg\u001b[0m\u001b[0;34m.\u001b[0m\u001b[0minv\u001b[0m\u001b[0;34m(\u001b[0m\u001b[0mW\u001b[0m\u001b[0;34m)\u001b[0m\u001b[0;34m\u001b[0m\u001b[0;34m\u001b[0m\u001b[0m\n\u001b[0m",
      "\u001b[0;32m~/Applications/miniconda3/envs/ae353-bullet/lib/python3.9/site-packages/scipy/linalg/basic.py\u001b[0m in \u001b[0;36minv\u001b[0;34m(a, overwrite_a, check_finite)\u001b[0m\n\u001b[1;32m    975\u001b[0m         \u001b[0minv_a\u001b[0m\u001b[0;34m,\u001b[0m \u001b[0minfo\u001b[0m \u001b[0;34m=\u001b[0m \u001b[0mgetri\u001b[0m\u001b[0;34m(\u001b[0m\u001b[0mlu\u001b[0m\u001b[0;34m,\u001b[0m \u001b[0mpiv\u001b[0m\u001b[0;34m,\u001b[0m \u001b[0mlwork\u001b[0m\u001b[0;34m=\u001b[0m\u001b[0mlwork\u001b[0m\u001b[0;34m,\u001b[0m \u001b[0moverwrite_lu\u001b[0m\u001b[0;34m=\u001b[0m\u001b[0;36m1\u001b[0m\u001b[0;34m)\u001b[0m\u001b[0;34m\u001b[0m\u001b[0;34m\u001b[0m\u001b[0m\n\u001b[1;32m    976\u001b[0m     \u001b[0;32mif\u001b[0m \u001b[0minfo\u001b[0m \u001b[0;34m>\u001b[0m \u001b[0;36m0\u001b[0m\u001b[0;34m:\u001b[0m\u001b[0;34m\u001b[0m\u001b[0;34m\u001b[0m\u001b[0m\n\u001b[0;32m--> 977\u001b[0;31m         \u001b[0;32mraise\u001b[0m \u001b[0mLinAlgError\u001b[0m\u001b[0;34m(\u001b[0m\u001b[0;34m\"singular matrix\"\u001b[0m\u001b[0;34m)\u001b[0m\u001b[0;34m\u001b[0m\u001b[0;34m\u001b[0m\u001b[0m\n\u001b[0m\u001b[1;32m    978\u001b[0m     \u001b[0;32mif\u001b[0m \u001b[0minfo\u001b[0m \u001b[0;34m<\u001b[0m \u001b[0;36m0\u001b[0m\u001b[0;34m:\u001b[0m\u001b[0;34m\u001b[0m\u001b[0;34m\u001b[0m\u001b[0m\n\u001b[1;32m    979\u001b[0m         raise ValueError('illegal value in %d-th argument of internal '\n",
      "\u001b[0;31mLinAlgError\u001b[0m: singular matrix"
     ]
    }
   ],
   "source": [
    "linalg.inv(W)"
   ]
  },
  {
   "cell_type": "markdown",
   "id": "subtle-knock",
   "metadata": {},
   "source": [
    "What happens if you try to do eigenvalue placement?"
   ]
  },
  {
   "cell_type": "code",
   "execution_count": 41,
   "id": "tribal-technique",
   "metadata": {},
   "outputs": [],
   "source": [
    "fbk = signal.place_poles(A, B, [-1., -2., -10.])\n",
    "K = fbk.gain_matrix"
   ]
  },
  {
   "cell_type": "markdown",
   "id": "current-strengthening",
   "metadata": {},
   "source": [
    "Did it work?"
   ]
  },
  {
   "cell_type": "code",
   "execution_count": 42,
   "id": "spread-consideration",
   "metadata": {},
   "outputs": [
    {
     "name": "stdout",
     "output_type": "stream",
     "text": [
      "[ 0.00000000e+00+0.j -3.85400528e+08+0.j  3.85400528e+08+0.j]\n"
     ]
    }
   ],
   "source": [
    "print(linalg.eigvals(A - B @ K))"
   ]
  },
  {
   "cell_type": "markdown",
   "id": "appointed-relations",
   "metadata": {},
   "source": [
    "# What if there is damping?"
   ]
  },
  {
   "cell_type": "markdown",
   "id": "appreciated-stylus",
   "metadata": {},
   "source": [
    "Parameters:"
   ]
  },
  {
   "cell_type": "code",
   "execution_count": 43,
   "id": "realistic-baker",
   "metadata": {},
   "outputs": [],
   "source": [
    "# distance from platform axis to wheel axis\n",
    "l = 1.\n",
    "\n",
    "# radius of wheel\n",
    "rw = 0.5\n",
    "\n",
    "# mass of wheel\n",
    "mw = 0.25\n",
    "\n",
    "# moi of wheel\n",
    "Jw = 0.5 * mw * rw**2\n",
    "\n",
    "# mass of platform\n",
    "mp = 12. * (1. - mw * l**2) / (3.**2 + 2.**2)\n",
    "\n",
    "# moment of inertia of platform\n",
    "Jp = (1. / 12.) * mp * (3.**2 + 2.**2)\n",
    "\n",
    "# coefficient of viscous friction\n",
    "c1 = 0.1\n",
    "c2 = 0.1"
   ]
  },
  {
   "cell_type": "markdown",
   "id": "forward-arctic",
   "metadata": {},
   "source": [
    "Equations of motion:\n",
    "\n",
    "$$\n",
    "\\begin{aligned}\n",
    "J_1 \\ddot{q}_1 &= \\tau - c_1 v_1 + c_2 v_2 \\\\\n",
    "J_2 \\dot{v}_2 &= - \\left( \\dfrac{J_1 + J_2}{J_1} \\right) \\tau + c_1 \\left(\\dfrac{J_2}{J_1}\\right) v_1 - c_2 \\left( \\dfrac{J_1 + J_2}{J_1} \\right) v_2\n",
    "\\end{aligned}\n",
    "$$\n",
    "\n",
    "where\n",
    "\n",
    "$$\n",
    "J_1 = J_p + m_wl^2\n",
    "\\qquad\n",
    "\\qquad\n",
    "J_2 = J_w\n",
    "$$"
   ]
  },
  {
   "cell_type": "code",
   "execution_count": 44,
   "id": "stunning-manhattan",
   "metadata": {},
   "outputs": [
    {
     "data": {
      "text/latex": [
       "$\\displaystyle \\left[\\begin{matrix}v_{1}\\\\\\tau - \\frac{v_{1}}{10} + \\frac{v_{2}}{10}\\\\- 33 \\tau + \\frac{v_{1}}{10} - \\frac{33 v_{2}}{10}\\end{matrix}\\right]$"
      ],
      "text/plain": [
       "Matrix([\n",
       "[                        v1],\n",
       "[       tau - v1/10 + v2/10],\n",
       "[-33*tau + v1/10 - 33*v2/10]])"
      ]
     },
     "execution_count": 44,
     "metadata": {},
     "output_type": "execute_result"
    }
   ],
   "source": [
    "# Convert floats to rationals\n",
    "J1 = sym.nsimplify(Jp + mw * l**2)\n",
    "J2 = sym.nsimplify(Jw)\n",
    "c1 = sym.nsimplify(c1)\n",
    "c2 = sym.nsimplify(c2)\n",
    "\n",
    "# Create symbolic variables\n",
    "q1, v1, v2, tau = sym.symbols('q1, v1, v2, tau', real=True)\n",
    "\n",
    "# Define equations of motion\n",
    "f = sym.Matrix([[v1],\n",
    "                [(1 / J1) * (tau - c1 * v1 + c2 * v2)],\n",
    "                [(1 / J2) * (- ((J1 + J2) / J1) * tau + c1 * (J2 / J1) * v1 - c2 * ((J1 + J2) / J1) * v2)]])\n",
    "\n",
    "# Show the result\n",
    "f"
   ]
  },
  {
   "cell_type": "markdown",
   "id": "portuguese-barbados",
   "metadata": {},
   "source": [
    "Linearization:"
   ]
  },
  {
   "cell_type": "code",
   "execution_count": 45,
   "id": "fantastic-implement",
   "metadata": {},
   "outputs": [],
   "source": [
    "q1e = 0.\n",
    "v1e = 0.\n",
    "v2e = 0.\n",
    "taue = 0.\n",
    "\n",
    "A_num = sym.lambdify((q1, v1, v2, tau), f.jacobian([q1, v1, v2]))\n",
    "B_num = sym.lambdify((q1, v1, v2, tau), f.jacobian([tau]))\n",
    "A = A_num(q1e, v1e, v2e, taue).astype(float)\n",
    "B = B_num(q1e, v1e, v2e, taue).astype(float)"
   ]
  },
  {
   "cell_type": "code",
   "execution_count": 46,
   "id": "acknowledged-holiday",
   "metadata": {},
   "outputs": [
    {
     "name": "stdout",
     "output_type": "stream",
     "text": [
      "[[ 0.   1.   0. ]\n",
      " [ 0.  -0.1  0.1]\n",
      " [ 0.   0.1 -3.3]]\n"
     ]
    }
   ],
   "source": [
    "print(A)"
   ]
  },
  {
   "cell_type": "code",
   "execution_count": 47,
   "id": "functioning-medicaid",
   "metadata": {},
   "outputs": [
    {
     "name": "stdout",
     "output_type": "stream",
     "text": [
      "[[  0.]\n",
      " [  1.]\n",
      " [-33.]]\n"
     ]
    }
   ],
   "source": [
    "print(B)"
   ]
  },
  {
   "cell_type": "markdown",
   "id": "honey-assist",
   "metadata": {},
   "source": [
    "Controllability matrix:"
   ]
  },
  {
   "cell_type": "code",
   "execution_count": 48,
   "id": "covered-dryer",
   "metadata": {},
   "outputs": [],
   "source": [
    "W = np.block([[B, A @ B, A @ A @ B]])"
   ]
  },
  {
   "cell_type": "code",
   "execution_count": 49,
   "id": "continental-nancy",
   "metadata": {},
   "outputs": [
    {
     "name": "stdout",
     "output_type": "stream",
     "text": [
      "[[   0.      1.     -3.4 ]\n",
      " [   1.     -3.4    11.24]\n",
      " [ -33.    109.   -360.04]]\n"
     ]
    }
   ],
   "source": [
    "print(W)"
   ]
  },
  {
   "cell_type": "markdown",
   "id": "changing-resort",
   "metadata": {},
   "source": [
    "Rank of controllability matrix:"
   ]
  },
  {
   "cell_type": "code",
   "execution_count": 50,
   "id": "marked-laser",
   "metadata": {},
   "outputs": [
    {
     "data": {
      "text/plain": [
       "2"
      ]
     },
     "execution_count": 50,
     "metadata": {},
     "output_type": "execute_result"
    }
   ],
   "source": [
    "np.linalg.matrix_rank(W)"
   ]
  },
  {
   "cell_type": "markdown",
   "id": "original-excellence",
   "metadata": {},
   "source": [
    "Number of states:"
   ]
  },
  {
   "cell_type": "code",
   "execution_count": 51,
   "id": "rocky-rebel",
   "metadata": {},
   "outputs": [
    {
     "data": {
      "text/plain": [
       "3"
      ]
     },
     "execution_count": 51,
     "metadata": {},
     "output_type": "execute_result"
    }
   ],
   "source": [
    "A.shape[0]"
   ]
  },
  {
   "cell_type": "markdown",
   "id": "deadly-repository",
   "metadata": {},
   "source": [
    "What happens if you try to do eigenvalue placement?"
   ]
  },
  {
   "cell_type": "code",
   "execution_count": 52,
   "id": "cognitive-biodiversity",
   "metadata": {},
   "outputs": [],
   "source": [
    "fbk = signal.place_poles(A, B, [-1., -2., -3.])\n",
    "K = fbk.gain_matrix"
   ]
  },
  {
   "cell_type": "markdown",
   "id": "modular-movie",
   "metadata": {},
   "source": [
    "Did it work?"
   ]
  },
  {
   "cell_type": "code",
   "execution_count": 53,
   "id": "opposed-latin",
   "metadata": {},
   "outputs": [
    {
     "name": "stdout",
     "output_type": "stream",
     "text": [
      "[-2921643.813426  +0.j       -7.84997703+0.j  2921648.80955044+0.j]\n"
     ]
    }
   ],
   "source": [
    "print(linalg.eigvals(A - B @ K))"
   ]
  },
  {
   "cell_type": "markdown",
   "id": "plastic-finder",
   "metadata": {},
   "source": [
    "# What if there is gravity (i.e., non-zero ground pitch)?"
   ]
  },
  {
   "cell_type": "markdown",
   "id": "conceptual-chancellor",
   "metadata": {},
   "source": [
    "Parameters:"
   ]
  },
  {
   "cell_type": "code",
   "execution_count": 54,
   "id": "spanish-rouge",
   "metadata": {},
   "outputs": [],
   "source": [
    "# distance from platform axis to wheel axis\n",
    "l = 1.\n",
    "\n",
    "# radius of wheel\n",
    "rw = 0.5\n",
    "\n",
    "# mass of wheel\n",
    "mw = 0.25\n",
    "\n",
    "# moi of wheel\n",
    "Jw = 0.5 * mw * rw**2\n",
    "\n",
    "# mass of platform\n",
    "mp = 12. * (1. - mw * l**2) / (3.**2 + 2.**2)\n",
    "\n",
    "# moment of inertia of platform\n",
    "Jp = (1. / 12.) * mp * (3.**2 + 2.**2)\n",
    "\n",
    "# gravity\n",
    "g = 9.81"
   ]
  },
  {
   "cell_type": "markdown",
   "id": "attended-actor",
   "metadata": {},
   "source": [
    "Equations of motion:\n",
    "\n",
    "$$\n",
    "\\begin{aligned}\n",
    "J_1 \\ddot{q}_1 &= \\tau - m_wgl\\sin(q_1) \\\\\n",
    "J_2 \\dot{v}_2 &= - \\left( \\dfrac{J_1 + J_2}{J_1} \\right) \\tau + \\left( \\dfrac{J_2}{J_1} \\right) m_wgl\\sin(q_1)\n",
    "\\end{aligned}\n",
    "$$\n",
    "\n",
    "where\n",
    "\n",
    "$$\n",
    "J_1 = J_p + m_wl^2\n",
    "\\qquad\n",
    "\\qquad\n",
    "J_2 = J_w\n",
    "$$"
   ]
  },
  {
   "cell_type": "code",
   "execution_count": 55,
   "id": "placed-controversy",
   "metadata": {},
   "outputs": [
    {
     "data": {
      "text/latex": [
       "$\\displaystyle \\left[\\begin{matrix}v_{1}\\\\\\tau - \\frac{981 \\sin{\\left(q_{1} \\right)}}{400}\\\\- 33 \\tau + \\frac{981 \\sin{\\left(q_{1} \\right)}}{400}\\end{matrix}\\right]$"
      ],
      "text/plain": [
       "Matrix([\n",
       "[                       v1],\n",
       "[    tau - 981*sin(q1)/400],\n",
       "[-33*tau + 981*sin(q1)/400]])"
      ]
     },
     "execution_count": 55,
     "metadata": {},
     "output_type": "execute_result"
    }
   ],
   "source": [
    "# Convert floats to rationals\n",
    "J1 = sym.nsimplify(Jp + mw * l**2)\n",
    "J2 = sym.nsimplify(Jw)\n",
    "mw = sym.nsimplify(mw)\n",
    "g = sym.nsimplify(g)\n",
    "l = sym.nsimplify(l)\n",
    "\n",
    "# Create symbolic variables\n",
    "q1, v1, v2, tau = sym.symbols('q1, v1, v2, tau', real=True)\n",
    "\n",
    "# Define equations of motion\n",
    "f = sym.Matrix([[v1], [(1 / J1) * (tau - mw * g * l * sym.sin(q1))], [(1 / J2) * (- ((J1 + J2) / J1) * tau + (J2 / J1) * mw * g * l * sym.sin(q1))]])\n",
    "\n",
    "# Show the result\n",
    "f"
   ]
  },
  {
   "cell_type": "markdown",
   "id": "pressed-elizabeth",
   "metadata": {},
   "source": [
    "Linearization:\n",
    "\n",
    "Nnote that $\\tau=0$ at any equilibrium point — check this yourself! — and so there are exact two choices for $q_1$:\n",
    "\n",
    "$$q_1 = 0 \\qquad\\text{or}\\qquad q_1 = \\pi$$"
   ]
  },
  {
   "cell_type": "code",
   "execution_count": 56,
   "id": "convinced-concord",
   "metadata": {},
   "outputs": [],
   "source": [
    "q1e = np.pi\n",
    "v1e = 0.\n",
    "v2e = 0.\n",
    "taue = 0.\n",
    "\n",
    "A_num = sym.lambdify((q1, v1, v2, tau), f.jacobian([q1, v1, v2]))\n",
    "B_num = sym.lambdify((q1, v1, v2, tau), f.jacobian([tau]))\n",
    "A = A_num(q1e, v1e, v2e, taue).astype(float)\n",
    "B = B_num(q1e, v1e, v2e, taue).astype(float)"
   ]
  },
  {
   "cell_type": "code",
   "execution_count": 57,
   "id": "unlimited-jimmy",
   "metadata": {},
   "outputs": [
    {
     "name": "stdout",
     "output_type": "stream",
     "text": [
      "[[ 0.      1.      0.    ]\n",
      " [ 2.4525  0.      0.    ]\n",
      " [-2.4525  0.      0.    ]]\n"
     ]
    }
   ],
   "source": [
    "print(A)"
   ]
  },
  {
   "cell_type": "code",
   "execution_count": 58,
   "id": "viral-albania",
   "metadata": {},
   "outputs": [
    {
     "name": "stdout",
     "output_type": "stream",
     "text": [
      "[[  0.]\n",
      " [  1.]\n",
      " [-33.]]\n"
     ]
    }
   ],
   "source": [
    "print(B)"
   ]
  },
  {
   "cell_type": "markdown",
   "id": "mature-portable",
   "metadata": {},
   "source": [
    "Controllability matrix:"
   ]
  },
  {
   "cell_type": "code",
   "execution_count": 59,
   "id": "registered-violin",
   "metadata": {},
   "outputs": [],
   "source": [
    "W = np.block([[B, A @ B, A @ A @ B]])"
   ]
  },
  {
   "cell_type": "code",
   "execution_count": 60,
   "id": "ceramic-inclusion",
   "metadata": {},
   "outputs": [
    {
     "name": "stdout",
     "output_type": "stream",
     "text": [
      "[[  0.       1.       0.    ]\n",
      " [  1.       0.       2.4525]\n",
      " [-33.       0.      -2.4525]]\n"
     ]
    }
   ],
   "source": [
    "print(W)"
   ]
  },
  {
   "cell_type": "markdown",
   "id": "robust-nigeria",
   "metadata": {},
   "source": [
    "Rank of controllability matrix:"
   ]
  },
  {
   "cell_type": "code",
   "execution_count": 61,
   "id": "controlling-pendant",
   "metadata": {},
   "outputs": [
    {
     "data": {
      "text/plain": [
       "3"
      ]
     },
     "execution_count": 61,
     "metadata": {},
     "output_type": "execute_result"
    }
   ],
   "source": [
    "np.linalg.matrix_rank(W)"
   ]
  },
  {
   "cell_type": "markdown",
   "id": "quarterly-symphony",
   "metadata": {},
   "source": [
    "Number of states:"
   ]
  },
  {
   "cell_type": "code",
   "execution_count": 62,
   "id": "minute-firmware",
   "metadata": {},
   "outputs": [
    {
     "data": {
      "text/plain": [
       "3"
      ]
     },
     "execution_count": 62,
     "metadata": {},
     "output_type": "execute_result"
    }
   ],
   "source": [
    "A.shape[0]"
   ]
  },
  {
   "cell_type": "markdown",
   "id": "canadian-hardwood",
   "metadata": {},
   "source": [
    "What happens if you try to do eigenvalue placement?"
   ]
  },
  {
   "cell_type": "code",
   "execution_count": 63,
   "id": "corrected-budapest",
   "metadata": {},
   "outputs": [],
   "source": [
    "fbk = signal.place_poles(A, B, [-1., -2., -3.])\n",
    "K = fbk.gain_matrix"
   ]
  },
  {
   "cell_type": "markdown",
   "id": "bronze-generator",
   "metadata": {},
   "source": [
    "Did it work?"
   ]
  },
  {
   "cell_type": "code",
   "execution_count": 64,
   "id": "molecular-reply",
   "metadata": {},
   "outputs": [
    {
     "name": "stdout",
     "output_type": "stream",
     "text": [
      "[-3.+0.j -2.+0.j -1.+0.j]\n"
     ]
    }
   ],
   "source": [
    "print(linalg.eigvals(A - B @ K))"
   ]
  },
  {
   "cell_type": "markdown",
   "id": "english-bridge",
   "metadata": {},
   "source": [
    "Print $K$ for copy/paste into a controller:"
   ]
  },
  {
   "cell_type": "code",
   "execution_count": 65,
   "id": "french-patient",
   "metadata": {},
   "outputs": [
    {
     "name": "stdout",
     "output_type": "stream",
     "text": [
      "[[13.452500000000049, 8.522935779816546, 0.07645259938837953]]\n"
     ]
    }
   ],
   "source": [
    "print(K.tolist())"
   ]
  },
  {
   "cell_type": "markdown",
   "id": "specialized-context",
   "metadata": {},
   "source": [
    "Do you think all those significant digits really matter?"
   ]
  },
  {
   "cell_type": "code",
   "execution_count": 67,
   "id": "empirical-yahoo",
   "metadata": {},
   "outputs": [
    {
     "name": "stdout",
     "output_type": "stream",
     "text": [
      "[[13.4525, 8.5229, 0.0765]]\n"
     ]
    }
   ],
   "source": [
    "K = K.round(decimals=4)\n",
    "print(K.tolist())"
   ]
  },
  {
   "cell_type": "markdown",
   "id": "incredible-approval",
   "metadata": {},
   "source": [
    "What happened to the eigenvalues?"
   ]
  },
  {
   "cell_type": "code",
   "execution_count": 68,
   "id": "directed-institution",
   "metadata": {},
   "outputs": [
    {
     "name": "stdout",
     "output_type": "stream",
     "text": [
      "[-2.99464272+0.j -2.00269729+0.j -1.00105999+0.j]\n"
     ]
    }
   ],
   "source": [
    "print(linalg.eigvals(A - B @ K))"
   ]
  },
  {
   "cell_type": "markdown",
   "id": "realistic-therapy",
   "metadata": {},
   "source": [
    "# Questions to consider"
   ]
  },
  {
   "cell_type": "markdown",
   "id": "christian-carroll",
   "metadata": {},
   "source": [
    "* What if you want to control the *angle* of the wheel and not just the angular velocity, with gravity?\n",
    "* What if there is only damping at one joint and not the other?\n",
    "* What if there is both gravity and damping?\n",
    "* What if you change the physical parameters (masses, moments of inertia, etc.)?\n",
    "* Etc."
   ]
  },
  {
   "cell_type": "code",
   "execution_count": null,
   "id": "blessed-hamburg",
   "metadata": {},
   "outputs": [],
   "source": []
  }
 ],
 "metadata": {
  "kernelspec": {
   "display_name": "Python 3",
   "language": "python",
   "name": "python3"
  },
  "language_info": {
   "codemirror_mode": {
    "name": "ipython",
    "version": 3
   },
   "file_extension": ".py",
   "mimetype": "text/x-python",
   "name": "python",
   "nbconvert_exporter": "python",
   "pygments_lexer": "ipython3",
   "version": "3.9.1"
  }
 },
 "nbformat": 4,
 "nbformat_minor": 5
}
