{
 "cells": [
  {
   "cell_type": "code",
   "execution_count": null,
   "id": "spectacular-strap",
   "metadata": {},
   "outputs": [],
   "source": [
    "import numpy as np\n",
    "import sympy as sym\n",
    "from scipy import linalg\n",
    "from scipy import signal\n",
    "\n",
    "# Suppress the use of scientific notation when printing small numbers\n",
    "np.set_printoptions(suppress=True)"
   ]
  },
  {
   "cell_type": "markdown",
   "id": "middle-acoustic",
   "metadata": {},
   "source": [
    "# Is the reaction wheel controllable?"
   ]
  },
  {
   "cell_type": "markdown",
   "id": "concrete-nevada",
   "metadata": {},
   "source": [
    "Parameters:"
   ]
  },
  {
   "cell_type": "code",
   "execution_count": null,
   "id": "governmental-static",
   "metadata": {},
   "outputs": [],
   "source": [
    "# radius of wheel\n",
    "rw = 0.5\n",
    "\n",
    "# mass of wheel\n",
    "mw = 0.25\n",
    "\n",
    "# moi of wheel\n",
    "Jw = 0.5 * mw * rw**2"
   ]
  },
  {
   "cell_type": "markdown",
   "id": "whole-provincial",
   "metadata": {},
   "source": [
    "Equations of motion:\n",
    "\n",
    "$$ J_w \\dot{v} = \\tau $$"
   ]
  },
  {
   "cell_type": "code",
   "execution_count": null,
   "id": "employed-mounting",
   "metadata": {},
   "outputs": [],
   "source": [
    "# Convert floats to rationals\n",
    "Jw_sym = sym.nsimplify(Jw)\n",
    "\n",
    "# Create symbolic variables\n",
    "v, tau = sym.symbols('v, tau', real=True)\n",
    "\n",
    "# Define equations of motion\n",
    "f = sym.Matrix([[(1 / Jw_sym) * tau]])\n",
    "\n",
    "# Show the result\n",
    "f"
   ]
  },
  {
   "cell_type": "markdown",
   "id": "damaged-forest",
   "metadata": {},
   "source": [
    "Linearization:"
   ]
  },
  {
   "cell_type": "code",
   "execution_count": null,
   "id": "fancy-nickel",
   "metadata": {},
   "outputs": [],
   "source": [
    "ve = 1. * (2 * np.pi) # <-- 1 rpm\n",
    "taue = 0.\n",
    "\n",
    "A_num = sym.lambdify((v, tau), f.jacobian([v]))\n",
    "B_num = sym.lambdify((v, tau), f.jacobian([tau]))\n",
    "A = A_num(ve, taue).astype(float)\n",
    "B = B_num(ve, taue).astype(float)"
   ]
  },
  {
   "cell_type": "code",
   "execution_count": null,
   "id": "spectacular-percentage",
   "metadata": {},
   "outputs": [],
   "source": [
    "print(A)"
   ]
  },
  {
   "cell_type": "code",
   "execution_count": null,
   "id": "young-lingerie",
   "metadata": {},
   "outputs": [],
   "source": [
    "print(B)"
   ]
  },
  {
   "cell_type": "markdown",
   "id": "national-keyboard",
   "metadata": {},
   "source": [
    "Controllability matrix:"
   ]
  },
  {
   "cell_type": "code",
   "execution_count": null,
   "id": "guided-dispatch",
   "metadata": {},
   "outputs": [],
   "source": [
    "W = np.block([[B]])"
   ]
  },
  {
   "cell_type": "code",
   "execution_count": null,
   "id": "restricted-moscow",
   "metadata": {},
   "outputs": [],
   "source": [
    "print(W)"
   ]
  },
  {
   "cell_type": "markdown",
   "id": "valid-hearts",
   "metadata": {},
   "source": [
    "Rank of controllability matrix:"
   ]
  },
  {
   "cell_type": "code",
   "execution_count": null,
   "id": "australian-holmes",
   "metadata": {},
   "outputs": [],
   "source": [
    "np.linalg.matrix_rank(W)"
   ]
  },
  {
   "cell_type": "markdown",
   "id": "floral-password",
   "metadata": {},
   "source": [
    "Number of states:"
   ]
  },
  {
   "cell_type": "code",
   "execution_count": null,
   "id": "casual-music",
   "metadata": {},
   "outputs": [],
   "source": [
    "A.shape[0]"
   ]
  },
  {
   "cell_type": "markdown",
   "id": "extended-ghost",
   "metadata": {},
   "source": [
    "What happens if you try to do eigenvalue placement?"
   ]
  },
  {
   "cell_type": "code",
   "execution_count": null,
   "id": "alpine-shoot",
   "metadata": {},
   "outputs": [],
   "source": [
    "fbk = signal.place_poles(A, B, [-1.])\n",
    "K = fbk.gain_matrix"
   ]
  },
  {
   "cell_type": "markdown",
   "id": "fewer-runner",
   "metadata": {},
   "source": [
    "Did it work?"
   ]
  },
  {
   "cell_type": "code",
   "execution_count": null,
   "id": "lyric-asbestos",
   "metadata": {},
   "outputs": [],
   "source": [
    "print(linalg.eigvals(A - B @ K))"
   ]
  },
  {
   "cell_type": "markdown",
   "id": "neutral-organ",
   "metadata": {},
   "source": [
    "# Is the platform controllable, ignoring the reaction wheel?"
   ]
  },
  {
   "cell_type": "markdown",
   "id": "danish-madison",
   "metadata": {},
   "source": [
    "Parameters:"
   ]
  },
  {
   "cell_type": "code",
   "execution_count": null,
   "id": "composite-cocktail",
   "metadata": {},
   "outputs": [],
   "source": [
    "# distance from platform axis to wheel axis\n",
    "l = 1.\n",
    "\n",
    "# radius of wheel\n",
    "rw = 0.5\n",
    "\n",
    "# mass of wheel\n",
    "mw = 0.25\n",
    "\n",
    "# moi of wheel\n",
    "Jw = 0.5 * mw * rw**2\n",
    "\n",
    "# mass of platform\n",
    "mp = 12. * (1. - mw * l**2) / (3.**2 + 2.**2)\n",
    "\n",
    "# moment of inertia of platform\n",
    "Jp = (1. / 12.) * mp * (3.**2 + 2.**2)"
   ]
  },
  {
   "cell_type": "markdown",
   "id": "normal-grammar",
   "metadata": {},
   "source": [
    "Equations of motion:\n",
    "\n",
    "$$ (J_p + ml^2) \\ddot{q} = \\tau $$"
   ]
  },
  {
   "cell_type": "code",
   "execution_count": null,
   "id": "obvious-channels",
   "metadata": {},
   "outputs": [],
   "source": [
    "# Convert floats to rationals\n",
    "l_sym = sym.nsimplify(l)\n",
    "mw_sym = sym.nsimplify(mw)\n",
    "Jp_sym = sym.nsimplify(Jp)\n",
    "\n",
    "# Create symbolic variables\n",
    "q, v, tau = sym.symbols('q, v, tau', real=True)\n",
    "\n",
    "# Define equations of motion\n",
    "f = sym.Matrix([[v], [(1 / (Jp_sym + mw_sym * l_sym**2)) * tau]])\n",
    "\n",
    "# Show the result\n",
    "f"
   ]
  },
  {
   "cell_type": "markdown",
   "id": "convertible-reputation",
   "metadata": {},
   "source": [
    "Linearization:"
   ]
  },
  {
   "cell_type": "code",
   "execution_count": null,
   "id": "civic-painting",
   "metadata": {},
   "outputs": [],
   "source": [
    "qe = 0.\n",
    "ve = 0.\n",
    "taue = 0.\n",
    "\n",
    "A_num = sym.lambdify((q, v, tau), f.jacobian([q, v]))\n",
    "B_num = sym.lambdify((q, v, tau), f.jacobian([tau]))\n",
    "A = A_num(qe, ve, taue).astype(float)\n",
    "B = B_num(qe, ve, taue).astype(float)"
   ]
  },
  {
   "cell_type": "code",
   "execution_count": null,
   "id": "talented-milan",
   "metadata": {},
   "outputs": [],
   "source": [
    "print(A)"
   ]
  },
  {
   "cell_type": "code",
   "execution_count": null,
   "id": "final-southeast",
   "metadata": {},
   "outputs": [],
   "source": [
    "print(B)"
   ]
  },
  {
   "cell_type": "markdown",
   "id": "persistent-portfolio",
   "metadata": {},
   "source": [
    "Controllability matrix:"
   ]
  },
  {
   "cell_type": "code",
   "execution_count": null,
   "id": "formed-strip",
   "metadata": {},
   "outputs": [],
   "source": [
    "W = np.block([[B, A @ B]])"
   ]
  },
  {
   "cell_type": "code",
   "execution_count": null,
   "id": "synthetic-denver",
   "metadata": {},
   "outputs": [],
   "source": [
    "print(W)"
   ]
  },
  {
   "cell_type": "markdown",
   "id": "played-bidding",
   "metadata": {},
   "source": [
    "Rank of controllability matrix:"
   ]
  },
  {
   "cell_type": "code",
   "execution_count": null,
   "id": "willing-failure",
   "metadata": {},
   "outputs": [],
   "source": [
    "np.linalg.matrix_rank(W)"
   ]
  },
  {
   "cell_type": "markdown",
   "id": "satellite-poultry",
   "metadata": {},
   "source": [
    "Number of states:"
   ]
  },
  {
   "cell_type": "code",
   "execution_count": null,
   "id": "knowing-water",
   "metadata": {},
   "outputs": [],
   "source": [
    "A.shape[0]"
   ]
  },
  {
   "cell_type": "markdown",
   "id": "metallic-newman",
   "metadata": {},
   "source": [
    "What happens if you try to do eigenvalue placement?"
   ]
  },
  {
   "cell_type": "code",
   "execution_count": null,
   "id": "enabling-passing",
   "metadata": {},
   "outputs": [],
   "source": [
    "fbk = signal.place_poles(A, B, [-1., -2.])\n",
    "K = fbk.gain_matrix"
   ]
  },
  {
   "cell_type": "markdown",
   "id": "acknowledged-packing",
   "metadata": {},
   "source": [
    "Did it work?"
   ]
  },
  {
   "cell_type": "code",
   "execution_count": null,
   "id": "false-crossing",
   "metadata": {},
   "outputs": [],
   "source": [
    "print(linalg.eigvals(A - B @ K))"
   ]
  },
  {
   "cell_type": "markdown",
   "id": "capable-satin",
   "metadata": {},
   "source": [
    "# Is the platform controllable, *not* ignoring the reaction wheel?"
   ]
  },
  {
   "cell_type": "markdown",
   "id": "furnished-racing",
   "metadata": {},
   "source": [
    "Parameters:"
   ]
  },
  {
   "cell_type": "code",
   "execution_count": null,
   "id": "greenhouse-hobby",
   "metadata": {},
   "outputs": [],
   "source": [
    "# distance from platform axis to wheel axis\n",
    "l = 1.\n",
    "\n",
    "# radius of wheel\n",
    "rw = 0.5\n",
    "\n",
    "# mass of wheel\n",
    "mw = 0.25\n",
    "\n",
    "# moi of wheel\n",
    "Jw = 0.5 * mw * rw**2\n",
    "\n",
    "# mass of platform\n",
    "mp = 12. * (1. - mw * l**2) / (3.**2 + 2.**2)\n",
    "\n",
    "# moment of inertia of platform\n",
    "Jp = (1. / 12.) * mp * (3.**2 + 2.**2)"
   ]
  },
  {
   "cell_type": "markdown",
   "id": "light-consolidation",
   "metadata": {},
   "source": [
    "Equations of motion:\n",
    "\n",
    "$$\n",
    "\\begin{aligned}\n",
    "J_1 \\ddot{q}_1 &= \\tau \\\\\n",
    "J_2 \\dot{v}_2 &= - \\left( \\dfrac{J_1 + J_2}{J_1} \\right) \\tau\n",
    "\\end{aligned}\n",
    "$$\n",
    "\n",
    "where\n",
    "\n",
    "$$\n",
    "J_1 = J_p + m_wl^2\n",
    "\\qquad\n",
    "\\qquad\n",
    "J_2 = J_w\n",
    "$$"
   ]
  },
  {
   "cell_type": "code",
   "execution_count": null,
   "id": "rapid-average",
   "metadata": {},
   "outputs": [],
   "source": [
    "# Convert floats to rationals\n",
    "J1 = sym.nsimplify(Jp + mw * l**2)\n",
    "J2 = sym.nsimplify(Jw)\n",
    "\n",
    "# Create symbolic variables\n",
    "q1, v1, v2, tau = sym.symbols('q1, v1, v2, tau', real=True)\n",
    "\n",
    "# Define equations of motion\n",
    "f = sym.Matrix([[v1], [(1 / J1) * tau], [(1 / J2) * (- ((J1 + J2) / J1) * tau)]])\n",
    "\n",
    "# Show the result\n",
    "f"
   ]
  },
  {
   "cell_type": "markdown",
   "id": "local-recovery",
   "metadata": {},
   "source": [
    "Linearization:"
   ]
  },
  {
   "cell_type": "code",
   "execution_count": null,
   "id": "indonesian-strike",
   "metadata": {},
   "outputs": [],
   "source": [
    "q1e = 0.\n",
    "v1e = 0.\n",
    "v2e = 0.\n",
    "taue = 0.\n",
    "\n",
    "A_num = sym.lambdify((q1, v1, v2, tau), f.jacobian([q1, v1, v2]))\n",
    "B_num = sym.lambdify((q1, v1, v2, tau), f.jacobian([tau]))\n",
    "A = A_num(q1e, v1e, v2e, taue).astype(float)\n",
    "B = B_num(q1e, v1e, v2e, taue).astype(float)"
   ]
  },
  {
   "cell_type": "code",
   "execution_count": null,
   "id": "interracial-storm",
   "metadata": {},
   "outputs": [],
   "source": [
    "print(A)"
   ]
  },
  {
   "cell_type": "code",
   "execution_count": null,
   "id": "periodic-batman",
   "metadata": {},
   "outputs": [],
   "source": [
    "print(B)"
   ]
  },
  {
   "cell_type": "markdown",
   "id": "stainless-inside",
   "metadata": {},
   "source": [
    "Controllability matrix:"
   ]
  },
  {
   "cell_type": "code",
   "execution_count": null,
   "id": "regulation-processor",
   "metadata": {},
   "outputs": [],
   "source": [
    "W = np.block([[B, A @ B, A @ A @ B]])"
   ]
  },
  {
   "cell_type": "code",
   "execution_count": null,
   "id": "postal-harvest",
   "metadata": {},
   "outputs": [],
   "source": [
    "print(W)"
   ]
  },
  {
   "cell_type": "markdown",
   "id": "technological-rabbit",
   "metadata": {},
   "source": [
    "Rank of controllability matrix:"
   ]
  },
  {
   "cell_type": "code",
   "execution_count": null,
   "id": "arctic-norway",
   "metadata": {},
   "outputs": [],
   "source": [
    "np.linalg.matrix_rank(W)"
   ]
  },
  {
   "cell_type": "markdown",
   "id": "historical-stress",
   "metadata": {},
   "source": [
    "Number of states:"
   ]
  },
  {
   "cell_type": "code",
   "execution_count": null,
   "id": "prescription-mixer",
   "metadata": {},
   "outputs": [],
   "source": [
    "A.shape[0]"
   ]
  },
  {
   "cell_type": "markdown",
   "id": "subtle-knock",
   "metadata": {},
   "source": [
    "What happens if you try to do eigenvalue placement?"
   ]
  },
  {
   "cell_type": "code",
   "execution_count": null,
   "id": "tribal-technique",
   "metadata": {},
   "outputs": [],
   "source": [
    "fbk = signal.place_poles(A, B, [-1., -2., -3.])\n",
    "K = fbk.gain_matrix"
   ]
  },
  {
   "cell_type": "markdown",
   "id": "current-strengthening",
   "metadata": {},
   "source": [
    "Did it work?"
   ]
  },
  {
   "cell_type": "code",
   "execution_count": null,
   "id": "spread-consideration",
   "metadata": {},
   "outputs": [],
   "source": [
    "print(linalg.eigvals(A - B @ K))"
   ]
  },
  {
   "cell_type": "markdown",
   "id": "appointed-relations",
   "metadata": {},
   "source": [
    "# What if there is damping?"
   ]
  },
  {
   "cell_type": "markdown",
   "id": "appreciated-stylus",
   "metadata": {},
   "source": [
    "Parameters:"
   ]
  },
  {
   "cell_type": "code",
   "execution_count": null,
   "id": "realistic-baker",
   "metadata": {},
   "outputs": [],
   "source": [
    "# distance from platform axis to wheel axis\n",
    "l = 1.\n",
    "\n",
    "# radius of wheel\n",
    "rw = 0.5\n",
    "\n",
    "# mass of wheel\n",
    "mw = 0.25\n",
    "\n",
    "# moi of wheel\n",
    "Jw = 0.5 * mw * rw**2\n",
    "\n",
    "# mass of platform\n",
    "mp = 12. * (1. - mw * l**2) / (3.**2 + 2.**2)\n",
    "\n",
    "# moment of inertia of platform\n",
    "Jp = (1. / 12.) * mp * (3.**2 + 2.**2)\n",
    "\n",
    "# coefficient of viscous friction\n",
    "c1 = 0.1\n",
    "c2 = 0.1"
   ]
  },
  {
   "cell_type": "markdown",
   "id": "forward-arctic",
   "metadata": {},
   "source": [
    "Equations of motion:\n",
    "\n",
    "$$\n",
    "\\begin{aligned}\n",
    "J_1 \\ddot{q}_1 &= \\tau - c_1 v_1 + c_2 v_2 \\\\\n",
    "J_2 \\dot{v}_2 &= - \\left( \\dfrac{J_1 + J_2}{J_1} \\right) \\tau + c_1 \\left(\\dfrac{J_2}{J_1}\\right) v_1 - c_2 \\left( \\dfrac{J_1 + J_2}{J_1} \\right) v_2\n",
    "\\end{aligned}\n",
    "$$\n",
    "\n",
    "where\n",
    "\n",
    "$$\n",
    "J_1 = J_p + m_wl^2\n",
    "\\qquad\n",
    "\\qquad\n",
    "J_2 = J_w\n",
    "$$"
   ]
  },
  {
   "cell_type": "code",
   "execution_count": null,
   "id": "stunning-manhattan",
   "metadata": {},
   "outputs": [],
   "source": [
    "# Convert floats to rationals\n",
    "J1 = sym.nsimplify(Jp + mw * l**2)\n",
    "J2 = sym.nsimplify(Jw)\n",
    "c1 = sym.nsimplify(c1)\n",
    "c2 = sym.nsimplify(c2)\n",
    "\n",
    "# Create symbolic variables\n",
    "q1, v1, v2, tau = sym.symbols('q1, v1, v2, tau', real=True)\n",
    "\n",
    "# Define equations of motion\n",
    "f = sym.Matrix([[v1],\n",
    "                [(1 / J1) * (tau - c1 * v1 + c2 * v2)],\n",
    "                [(1 / J2) * (- ((J1 + J2) / J1) * tau + c1 * (J2 / J1) * v1 - c2 * ((J1 + J2) / J1) * v2)]])\n",
    "\n",
    "# Show the result\n",
    "f"
   ]
  },
  {
   "cell_type": "markdown",
   "id": "portuguese-barbados",
   "metadata": {},
   "source": [
    "Linearization:"
   ]
  },
  {
   "cell_type": "code",
   "execution_count": null,
   "id": "fantastic-implement",
   "metadata": {},
   "outputs": [],
   "source": [
    "q1e = 0.\n",
    "v1e = 0.\n",
    "v2e = 0.\n",
    "taue = 0.\n",
    "\n",
    "A_num = sym.lambdify((q1, v1, v2, tau), f.jacobian([q1, v1, v2]))\n",
    "B_num = sym.lambdify((q1, v1, v2, tau), f.jacobian([tau]))\n",
    "A = A_num(q1e, v1e, v2e, taue).astype(float)\n",
    "B = B_num(q1e, v1e, v2e, taue).astype(float)"
   ]
  },
  {
   "cell_type": "code",
   "execution_count": null,
   "id": "acknowledged-holiday",
   "metadata": {},
   "outputs": [],
   "source": [
    "print(A)"
   ]
  },
  {
   "cell_type": "code",
   "execution_count": null,
   "id": "functioning-medicaid",
   "metadata": {},
   "outputs": [],
   "source": [
    "print(B)"
   ]
  },
  {
   "cell_type": "markdown",
   "id": "honey-assist",
   "metadata": {},
   "source": [
    "Controllability matrix:"
   ]
  },
  {
   "cell_type": "code",
   "execution_count": null,
   "id": "covered-dryer",
   "metadata": {},
   "outputs": [],
   "source": [
    "W = np.block([[B, A @ B, A @ A @ B]])"
   ]
  },
  {
   "cell_type": "code",
   "execution_count": null,
   "id": "continental-nancy",
   "metadata": {},
   "outputs": [],
   "source": [
    "print(W)"
   ]
  },
  {
   "cell_type": "markdown",
   "id": "changing-resort",
   "metadata": {},
   "source": [
    "Rank of controllability matrix:"
   ]
  },
  {
   "cell_type": "code",
   "execution_count": null,
   "id": "marked-laser",
   "metadata": {},
   "outputs": [],
   "source": [
    "np.linalg.matrix_rank(W)"
   ]
  },
  {
   "cell_type": "markdown",
   "id": "original-excellence",
   "metadata": {},
   "source": [
    "Number of states:"
   ]
  },
  {
   "cell_type": "code",
   "execution_count": null,
   "id": "rocky-rebel",
   "metadata": {},
   "outputs": [],
   "source": [
    "A.shape[0]"
   ]
  },
  {
   "cell_type": "markdown",
   "id": "deadly-repository",
   "metadata": {},
   "source": [
    "What happens if you try to do eigenvalue placement?"
   ]
  },
  {
   "cell_type": "code",
   "execution_count": null,
   "id": "cognitive-biodiversity",
   "metadata": {},
   "outputs": [],
   "source": [
    "fbk = signal.place_poles(A, B, [-1., -2., -3.])\n",
    "K = fbk.gain_matrix"
   ]
  },
  {
   "cell_type": "markdown",
   "id": "modular-movie",
   "metadata": {},
   "source": [
    "Did it work?"
   ]
  },
  {
   "cell_type": "code",
   "execution_count": null,
   "id": "opposed-latin",
   "metadata": {},
   "outputs": [],
   "source": [
    "print(linalg.eigvals(A - B @ K))"
   ]
  },
  {
   "cell_type": "markdown",
   "id": "plastic-finder",
   "metadata": {},
   "source": [
    "# What if there is gravity (i.e., non-zero ground pitch)?"
   ]
  },
  {
   "cell_type": "markdown",
   "id": "conceptual-chancellor",
   "metadata": {},
   "source": [
    "Parameters:"
   ]
  },
  {
   "cell_type": "code",
   "execution_count": null,
   "id": "spanish-rouge",
   "metadata": {},
   "outputs": [],
   "source": [
    "# distance from platform axis to wheel axis\n",
    "l = 1.\n",
    "\n",
    "# radius of wheel\n",
    "rw = 0.5\n",
    "\n",
    "# mass of wheel\n",
    "mw = 0.25\n",
    "\n",
    "# moi of wheel\n",
    "Jw = 0.5 * mw * rw**2\n",
    "\n",
    "# mass of platform\n",
    "mp = 12. * (1. - mw * l**2) / (3.**2 + 2.**2)\n",
    "\n",
    "# moment of inertia of platform\n",
    "Jp = (1. / 12.) * mp * (3.**2 + 2.**2)\n",
    "\n",
    "# gravity\n",
    "g = 9.81"
   ]
  },
  {
   "cell_type": "markdown",
   "id": "attended-actor",
   "metadata": {},
   "source": [
    "Equations of motion:\n",
    "\n",
    "$$\n",
    "\\begin{aligned}\n",
    "J_1 \\ddot{q}_1 &= \\tau - m_wgl\\sin(q_1) \\\\\n",
    "J_2 \\dot{v}_2 &= - \\left( \\dfrac{J_1 + J_2}{J_1} \\right) \\tau + \\left( \\dfrac{J_2}{J_1} \\right) m_wgl\\sin(q_1)\n",
    "\\end{aligned}\n",
    "$$\n",
    "\n",
    "where\n",
    "\n",
    "$$\n",
    "J_1 = J_p + m_wl^2\n",
    "\\qquad\n",
    "\\qquad\n",
    "J_2 = J_w\n",
    "$$"
   ]
  },
  {
   "cell_type": "code",
   "execution_count": null,
   "id": "placed-controversy",
   "metadata": {},
   "outputs": [],
   "source": [
    "# Convert floats to rationals\n",
    "J1 = sym.nsimplify(Jp + mw * l**2)\n",
    "J2 = sym.nsimplify(Jw)\n",
    "mw = sym.nsimplify(mw)\n",
    "g = sym.nsimplify(g)\n",
    "l = sym.nsimplify(l)\n",
    "\n",
    "# Create symbolic variables\n",
    "q1, v1, v2, tau = sym.symbols('q1, v1, v2, tau', real=True)\n",
    "\n",
    "# Define equations of motion\n",
    "f = sym.Matrix([[v1], [(1 / J1) * (tau - mw * g * l * sym.sin(q1))], [(1 / J2) * (- ((J1 + J2) / J1) * tau + (J2 / J1) * mw * g * l * sym.sin(q1))]])\n",
    "\n",
    "# Show the result\n",
    "f"
   ]
  },
  {
   "cell_type": "markdown",
   "id": "pressed-elizabeth",
   "metadata": {},
   "source": [
    "Linearization:\n",
    "\n",
    "Nnote that $\\tau=0$ at any equilibrium point — check this yourself! — and so there are exact two choices for $q_1$:\n",
    "\n",
    "$$q_1 = 0 \\qquad\\text{or}\\qquad q_1 = \\pi$$"
   ]
  },
  {
   "cell_type": "code",
   "execution_count": null,
   "id": "convinced-concord",
   "metadata": {},
   "outputs": [],
   "source": [
    "q1e = np.pi\n",
    "v1e = 0.\n",
    "v2e = 0.\n",
    "taue = 0.\n",
    "\n",
    "A_num = sym.lambdify((q1, v1, v2, tau), f.jacobian([q1, v1, v2]))\n",
    "B_num = sym.lambdify((q1, v1, v2, tau), f.jacobian([tau]))\n",
    "A = A_num(q1e, v1e, v2e, taue).astype(float)\n",
    "B = B_num(q1e, v1e, v2e, taue).astype(float)"
   ]
  },
  {
   "cell_type": "code",
   "execution_count": null,
   "id": "unlimited-jimmy",
   "metadata": {},
   "outputs": [],
   "source": [
    "print(A)"
   ]
  },
  {
   "cell_type": "code",
   "execution_count": null,
   "id": "viral-albania",
   "metadata": {},
   "outputs": [],
   "source": [
    "print(B)"
   ]
  },
  {
   "cell_type": "markdown",
   "id": "mature-portable",
   "metadata": {},
   "source": [
    "Controllability matrix:"
   ]
  },
  {
   "cell_type": "code",
   "execution_count": null,
   "id": "registered-violin",
   "metadata": {},
   "outputs": [],
   "source": [
    "W = np.block([[B, A @ B, A @ A @ B]])"
   ]
  },
  {
   "cell_type": "code",
   "execution_count": null,
   "id": "ceramic-inclusion",
   "metadata": {},
   "outputs": [],
   "source": [
    "print(W)"
   ]
  },
  {
   "cell_type": "markdown",
   "id": "robust-nigeria",
   "metadata": {},
   "source": [
    "Rank of controllability matrix:"
   ]
  },
  {
   "cell_type": "code",
   "execution_count": null,
   "id": "controlling-pendant",
   "metadata": {},
   "outputs": [],
   "source": [
    "np.linalg.matrix_rank(W)"
   ]
  },
  {
   "cell_type": "markdown",
   "id": "quarterly-symphony",
   "metadata": {},
   "source": [
    "Number of states:"
   ]
  },
  {
   "cell_type": "code",
   "execution_count": null,
   "id": "minute-firmware",
   "metadata": {},
   "outputs": [],
   "source": [
    "A.shape[0]"
   ]
  },
  {
   "cell_type": "markdown",
   "id": "canadian-hardwood",
   "metadata": {},
   "source": [
    "What happens if you try to do eigenvalue placement?"
   ]
  },
  {
   "cell_type": "code",
   "execution_count": null,
   "id": "corrected-budapest",
   "metadata": {},
   "outputs": [],
   "source": [
    "fbk = signal.place_poles(A, B, [-1., -2., -3.])\n",
    "K = fbk.gain_matrix"
   ]
  },
  {
   "cell_type": "markdown",
   "id": "bronze-generator",
   "metadata": {},
   "source": [
    "Did it work?"
   ]
  },
  {
   "cell_type": "code",
   "execution_count": null,
   "id": "molecular-reply",
   "metadata": {},
   "outputs": [],
   "source": [
    "print(linalg.eigvals(A - B @ K))"
   ]
  },
  {
   "cell_type": "markdown",
   "id": "english-bridge",
   "metadata": {},
   "source": [
    "Print $K$ for copy/paste into a controller:"
   ]
  },
  {
   "cell_type": "code",
   "execution_count": null,
   "id": "french-patient",
   "metadata": {},
   "outputs": [],
   "source": [
    "print(K.tolist())"
   ]
  },
  {
   "cell_type": "markdown",
   "id": "specialized-context",
   "metadata": {},
   "source": [
    "Do you think all those significant digits really matter?"
   ]
  },
  {
   "cell_type": "code",
   "execution_count": null,
   "id": "empirical-yahoo",
   "metadata": {},
   "outputs": [],
   "source": [
    "K = K.round(decimals=4)\n",
    "print(K.tolist())"
   ]
  },
  {
   "cell_type": "markdown",
   "id": "incredible-approval",
   "metadata": {},
   "source": [
    "What happened to the eigenvalues?"
   ]
  },
  {
   "cell_type": "code",
   "execution_count": null,
   "id": "directed-institution",
   "metadata": {},
   "outputs": [],
   "source": [
    "print(linalg.eigvals(A - B @ K))"
   ]
  },
  {
   "cell_type": "markdown",
   "id": "realistic-therapy",
   "metadata": {},
   "source": [
    "# Questions to consider"
   ]
  },
  {
   "cell_type": "markdown",
   "id": "christian-carroll",
   "metadata": {},
   "source": [
    "* What if you want to control the *angle* of the wheel and not just the angular velocity, with gravity?\n",
    "* What if there is only damping at one joint and not the other?\n",
    "* What if there is both gravity and damping?\n",
    "* What if you change the physical parameters (masses, moments of inertia, etc.)?\n",
    "* Etc."
   ]
  },
  {
   "cell_type": "code",
   "execution_count": null,
   "id": "blessed-hamburg",
   "metadata": {},
   "outputs": [],
   "source": []
  }
 ],
 "metadata": {
  "kernelspec": {
   "display_name": "Python 3",
   "language": "python",
   "name": "python3"
  },
  "language_info": {
   "codemirror_mode": {
    "name": "ipython",
    "version": 3
   },
   "file_extension": ".py",
   "mimetype": "text/x-python",
   "name": "python",
   "nbconvert_exporter": "python",
   "pygments_lexer": "ipython3",
   "version": "3.9.1"
  }
 },
 "nbformat": 4,
 "nbformat_minor": 5
}
