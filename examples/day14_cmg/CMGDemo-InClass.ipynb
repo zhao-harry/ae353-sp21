{
 "cells": [
  {
   "cell_type": "markdown",
   "id": "middle-acoustic",
   "metadata": {},
   "source": [
    "# More CMG project examples"
   ]
  },
  {
   "cell_type": "markdown",
   "id": "working-minority",
   "metadata": {},
   "source": [
    "Import modules and configure the notebook."
   ]
  },
  {
   "cell_type": "code",
   "execution_count": 1,
   "id": "dimensional-contamination",
   "metadata": {},
   "outputs": [
    {
     "data": {
      "text/plain": [
       "<module 'ae353_cmg' from '/Users/timothybretl/Documents/courses/AE353/09 - AE353 (Spring 2021)/Website/examples/day14_cmg/ae353_cmg.py'>"
      ]
     },
     "execution_count": 1,
     "metadata": {},
     "output_type": "execute_result"
    }
   ],
   "source": [
    "# This module is part of the python standard library\n",
    "import time\n",
    "\n",
    "# These modules are part of other existing libraries\n",
    "import numpy as np\n",
    "import matplotlib.pyplot as plt\n",
    "\n",
    "# This is my own script (it is an interface to the pybullet simulator)\n",
    "import ae353_cmg\n",
    "\n",
    "# I often go back and forth between making changes to my scripts and to\n",
    "# the notebook in which they are used. One \"gotcha\" is that notebooks only\n",
    "# import modules or scripts ONCE. Subsequent imports don't do anything, and\n",
    "# in particular won't reflect any changes I've made to my scripts. To make\n",
    "# sure that I'm working with the latest version of my code, I use this bit\n",
    "# of magic, which forces the notebook to \"reload\" my script:\n",
    "import importlib\n",
    "importlib.reload(ae353_cmg)"
   ]
  },
  {
   "cell_type": "markdown",
   "id": "protective-retreat",
   "metadata": {},
   "source": [
    "Create an instance of the robot simulator. This will open a window in which you should see the platform with a single-gimbal control moment gyroscope.\n",
    "\n",
    "There are three optional parameters:\n",
    "\n",
    "* `damping` is the coefficient of viscouse friction at each joint (the default value is `0.`)\n",
    "* `dt` is the length of each time step in the simulator (the default value is `0.001`)\n",
    "* `display` is a flag that says whether or not to open the GUI (the default value is `True`)\n",
    "\n",
    "The `display` parameter, in particular, is likely to be of use to you. If you set `display=True`, then you will run the simulator in real-time with a GUI. If you set `display=False`, then you will run the simulator as fast as possible (faster than real-time) without a GUI. This is convenient when all you want is the data.\n",
    "\n",
    "**NOTE:** it is still necessary to reset the kernel (see the \"Kernel\" menu above) before creating a new instance of the robot simulator, even when running without a GUI - if you don't, then you'll notice that simulation slows way down."
   ]
  },
  {
   "cell_type": "code",
   "execution_count": 2,
   "id": "placed-messenger",
   "metadata": {},
   "outputs": [],
   "source": [
    "robot = ae353_cmg.RobotSimulator(damping=0., dt=0.001, display=True)"
   ]
  },
  {
   "cell_type": "markdown",
   "id": "therapeutic-simon",
   "metadata": {},
   "source": [
    "### Example: take a snapshot"
   ]
  },
  {
   "cell_type": "markdown",
   "id": "divine-staff",
   "metadata": {},
   "source": [
    "The following code will take a snapshot of the simulation window (this requires `display=True` when creating the simulator - see above) and save it to the file `test.png`:"
   ]
  },
  {
   "cell_type": "code",
   "execution_count": 7,
   "id": "unusual-universal",
   "metadata": {},
   "outputs": [],
   "source": [
    "robot.snapshot('test.png')"
   ]
  },
  {
   "cell_type": "markdown",
   "id": "minute-finland",
   "metadata": {},
   "source": [
    "### Example: linear state feedback"
   ]
  },
  {
   "cell_type": "markdown",
   "id": "competent-access",
   "metadata": {},
   "source": [
    "The following code will define a controller that applies linear state feedback (equivalent to PD control) to keep the gimbal angle at a desired value:"
   ]
  },
  {
   "cell_type": "code",
   "execution_count": 3,
   "id": "molecular-detection",
   "metadata": {},
   "outputs": [],
   "source": [
    "class RobotController:\n",
    "    def __init__(self, dt=0.001, q_2_des=0.):\n",
    "        self.dt = dt\n",
    "        \n",
    "        # desired gimbal angle\n",
    "        self.q_2_des = q_2_des\n",
    "        \n",
    "        # state feedback gains\n",
    "        self.K = np.array([[5., 1.]])\n",
    "        \n",
    "        # equilibrium point\n",
    "        self.q_2_e = self.q_2_des\n",
    "        self.v_2_e = 0.\n",
    "        self.tau_2_e = 0.\n",
    "    \n",
    "    def run(self, q_1, v_1, q_2, v_2, q_3, v_3):\n",
    "        # state\n",
    "        x = np.array([[q_2 - self.q_2_e], [v_2 - self.v_2_e]])\n",
    "        \n",
    "        # input\n",
    "        u = - self.K @ x\n",
    "        \n",
    "        # actuator commands\n",
    "        tau_2 = u[0, 0] + self.tau_2_e\n",
    "        tau_3 = 0.\n",
    "        return tau_2, tau_3\n",
    "\n",
    "controller = RobotController(dt=robot.dt, q_2_des=-1.)"
   ]
  },
  {
   "cell_type": "markdown",
   "id": "informed-garage",
   "metadata": {},
   "source": [
    "### Example: non-zero initial conditions"
   ]
  },
  {
   "cell_type": "markdown",
   "id": "right-poison",
   "metadata": {},
   "source": [
    "The following code will set arbitrary initial conditions:"
   ]
  },
  {
   "cell_type": "code",
   "execution_count": 9,
   "id": "revolutionary-valve",
   "metadata": {},
   "outputs": [],
   "source": [
    "# Choose initial angles\n",
    "q_1_0 =  1.25  # <-- initial platform angle\n",
    "q_2_0 =  -1.10  # <-- initial gimbal angle\n",
    "q_3_0 =  0.30  # <-- initial rotor angle (does it matter?)\n",
    "\n",
    "# Choose initial angular velocities\n",
    "v_1_0 =  0.05  # <-- initial platform angular velocity\n",
    "v_2_0 = -0.05  # <-- initial gimbal angular velocity\n",
    "v_3_0 = (100 * 2 * np.pi / 60) # <-- initial rotor angular velocity (100 rpm)\n",
    "\n",
    "# Apply initial conditions\n",
    "#\n",
    "#  The two arguments are 1D numpy arrays of length 3. The first\n",
    "#  array has the initial values of each angle. The second array\n",
    "#  has the initial values of each angular velocity.\n",
    "#\n",
    "robot.set_state(np.array([q_1_0, q_2_0, q_3_0]), np.array([v_1_0, v_2_0, v_3_0]))"
   ]
  },
  {
   "cell_type": "markdown",
   "id": "wireless-christianity",
   "metadata": {},
   "source": [
    "### Example: random initial conditions"
   ]
  },
  {
   "cell_type": "markdown",
   "id": "local-vessel",
   "metadata": {},
   "source": [
    "The following code will set *random* initial conditions (see [documentation about numpy.random](https://numpy.org/doc/stable/reference/random/) for more information):"
   ]
  },
  {
   "cell_type": "code",
   "execution_count": 24,
   "id": "noticed-proportion",
   "metadata": {},
   "outputs": [],
   "source": [
    "robot.set_state(np.random.randn(3), np.random.randn(3))"
   ]
  },
  {
   "cell_type": "markdown",
   "id": "relative-aquarium",
   "metadata": {},
   "source": [
    "Run the simulation. It is a loop. At each iteration, we:\n",
    "* get sensor measurements\n",
    "* choose actuator commands\n",
    "* go forward one time step\n",
    "\n",
    "We also log data so that we can plot it later, if we want."
   ]
  },
  {
   "cell_type": "code",
   "execution_count": 10,
   "id": "professional-dayton",
   "metadata": {},
   "outputs": [],
   "source": [
    "# IMPORTANT\n",
    "#\n",
    "#  The following code will override any initial conditions we have already\n",
    "#  chosen. So if you want to use some other set of initial conditions, you\n",
    "#  must comment out (or delete, or replace) the following lines:\n",
    "#\n",
    "# # Restore the simulation to its initial state\n",
    "# robot.reset(rotor_rpm=100.)\n",
    "\n",
    "# Choose how long we want to run the simulation, and\n",
    "# compute the corresponding number of time steps\n",
    "run_time = 10.\n",
    "num_steps = int(run_time/robot.dt)\n",
    "\n",
    "# Create a dictionary in which to store results\n",
    "data = {\n",
    "    't': np.empty(num_steps, dtype=float),\n",
    "    'q_1': np.empty(num_steps, dtype=float),\n",
    "    'v_1': np.empty(num_steps, dtype=float),\n",
    "    'q_2': np.empty(num_steps, dtype=float),\n",
    "    'v_2': np.empty(num_steps, dtype=float),\n",
    "    'q_3': np.empty(num_steps, dtype=float),\n",
    "    'v_3': np.empty(num_steps, dtype=float),\n",
    "    'tau_2': np.empty(num_steps, dtype=float),\n",
    "    'tau_3': np.empty(num_steps, dtype=float),\n",
    "}\n",
    "\n",
    "# Run the simulation loop\n",
    "start_time = time.time()\n",
    "for step in range(num_steps):\n",
    "    # Get the current time\n",
    "    t = robot.dt * step\n",
    "    \n",
    "    # Get the sensor measurements\n",
    "    q_1, v_1, q_2, v_2, q_3, v_3 = robot.get_sensor_measurements()\n",
    "    \n",
    "    # Choose the actuator command (by running the controller)\n",
    "    tau_2, tau_3 = controller.run(q_1, v_1, q_2, v_2, q_3, v_3)\n",
    "    \n",
    "    # Log the data from this time step\n",
    "    data['t'][step] = t\n",
    "    data['q_1'][step] = q_1\n",
    "    data['v_1'][step] = v_1\n",
    "    data['q_2'][step] = q_2\n",
    "    data['v_2'][step] = v_2\n",
    "    data['q_3'][step] = q_3\n",
    "    data['v_3'][step] = v_3\n",
    "    data['tau_2'][step] = tau_2\n",
    "    data['tau_3'][step] = tau_3\n",
    "    \n",
    "    # Send the actuator commands to robot and go forward one time\n",
    "    # step (this is where the actual simulation happens)\n",
    "    robot.set_actuator_commands(tau_2, tau_3)\n",
    "    robot.step(t=(start_time + (robot.dt * (step + 1))))"
   ]
  },
  {
   "cell_type": "markdown",
   "id": "alternate-pregnancy",
   "metadata": {},
   "source": [
    "An example of how to plot results. This is just an example!"
   ]
  },
  {
   "cell_type": "code",
   "execution_count": 26,
   "id": "christian-pontiac",
   "metadata": {},
   "outputs": [
    {
     "data": {
      "text/plain": [
       "Text(0.5, 0, 'time (s)')"
      ]
     },
     "execution_count": 26,
     "metadata": {},
     "output_type": "execute_result"
    },
    {
     "data": {
      "image/png": "[encoded data removed]",
      "text/plain": [
       "<Figure size 576x432 with 1 Axes>"
      ]
     },
     "metadata": {
      "needs_background": "light"
     },
     "output_type": "display_data"
    }
   ],
   "source": [
    "fig = plt.figure(figsize=(8, 6))\n",
    "plt.plot(data['t'], data['q_2'], label='gimbal angle (rad)', linewidth=4)\n",
    "plt.plot(data['t'], np.ones_like(data['t']) * controller.q_2_des, '--', label='desired gimbal angle (rad)', linewidth=4)\n",
    "plt.plot(data['t'], data['v_2'], ':', label='gimbal angular velocity (rad/s)', linewidth=3)\n",
    "plt.legend(fontsize=18)\n",
    "plt.grid()\n",
    "plt.tick_params(labelsize=16)\n",
    "plt.xlabel('time (s)', fontsize=16)"
   ]
  },
  {
   "cell_type": "code",
   "execution_count": null,
   "id": "ruled-toronto",
   "metadata": {},
   "outputs": [],
   "source": []
  }
 ],
 "metadata": {
  "kernelspec": {
   "display_name": "Python 3",
   "language": "python",
   "name": "python3"
  },
  "language_info": {
   "codemirror_mode": {
    "name": "ipython",
    "version": 3
   },
   "file_extension": ".py",
   "mimetype": "text/x-python",
   "name": "python",
   "nbconvert_exporter": "python",
   "pygments_lexer": "ipython3",
   "version": "3.9.1"
  }
 },
 "nbformat": 4,
 "nbformat_minor": 5
}
