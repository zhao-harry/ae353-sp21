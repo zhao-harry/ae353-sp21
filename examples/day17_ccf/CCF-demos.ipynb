{
 "cells": [
  {
   "cell_type": "markdown",
   "id": "exempt-bennett",
   "metadata": {},
   "source": [
    "# Code from class"
   ]
  },
  {
   "cell_type": "code",
   "execution_count": 1,
   "id": "recognized-vermont",
   "metadata": {},
   "outputs": [],
   "source": [
    "import numpy as np"
   ]
  },
  {
   "cell_type": "code",
   "execution_count": 2,
   "id": "engaged-carry",
   "metadata": {},
   "outputs": [
    {
     "data": {
      "text/plain": [
       "array([[1.],\n",
       "       [0.]])"
      ]
     },
     "execution_count": 2,
     "metadata": {},
     "output_type": "execute_result"
    }
   ],
   "source": [
    "np.array([[1.], [0.]])"
   ]
  },
  {
   "cell_type": "code",
   "execution_count": 3,
   "id": "given-apple",
   "metadata": {},
   "outputs": [
    {
     "data": {
      "text/plain": [
       "array([[1.],\n",
       "       [0.]])"
      ]
     },
     "execution_count": 3,
     "metadata": {},
     "output_type": "execute_result"
    }
   ],
   "source": [
    "np.block([[1.], [0.]])"
   ]
  },
  {
   "cell_type": "code",
   "execution_count": 4,
   "id": "interested-royal",
   "metadata": {},
   "outputs": [
    {
     "data": {
      "text/plain": [
       "array([[0.],\n",
       "       [0.]])"
      ]
     },
     "execution_count": 4,
     "metadata": {},
     "output_type": "execute_result"
    }
   ],
   "source": [
    "np.array([[0.], [0.]])"
   ]
  },
  {
   "cell_type": "code",
   "execution_count": 5,
   "id": "political-convertible",
   "metadata": {},
   "outputs": [
    {
     "data": {
      "text/plain": [
       "array([[1.],\n",
       "       [0.],\n",
       "       [0.]])"
      ]
     },
     "execution_count": 5,
     "metadata": {},
     "output_type": "execute_result"
    }
   ],
   "source": [
    "np.block([[1.], [np.array([[0.], [0.]])]])"
   ]
  },
  {
   "cell_type": "code",
   "execution_count": 6,
   "id": "surface-banks",
   "metadata": {},
   "outputs": [
    {
     "data": {
      "text/plain": [
       "array([[1.],\n",
       "       [0.],\n",
       "       [0.]])"
      ]
     },
     "execution_count": 6,
     "metadata": {},
     "output_type": "execute_result"
    }
   ],
   "source": [
    "np.block([[1.], [np.zeros([2, 1])]])"
   ]
  },
  {
   "cell_type": "code",
   "execution_count": 7,
   "id": "strategic-following",
   "metadata": {},
   "outputs": [
    {
     "data": {
      "text/plain": [
       "array([[1.],\n",
       "       [0.],\n",
       "       [0.],\n",
       "       [0.],\n",
       "       [0.],\n",
       "       [0.],\n",
       "       [0.],\n",
       "       [0.],\n",
       "       [0.],\n",
       "       [0.]])"
      ]
     },
     "execution_count": 7,
     "metadata": {},
     "output_type": "execute_result"
    }
   ],
   "source": [
    "n = 10\n",
    "np.block([[1.], [np.zeros([n - 1, 1])]])"
   ]
  },
  {
   "cell_type": "code",
   "execution_count": 8,
   "id": "cosmetic-punishment",
   "metadata": {},
   "outputs": [
    {
     "data": {
      "text/plain": [
       "array([[1., 0.],\n",
       "       [0., 1.]])"
      ]
     },
     "execution_count": 8,
     "metadata": {},
     "output_type": "execute_result"
    }
   ],
   "source": [
    "np.eye(2)"
   ]
  },
  {
   "cell_type": "code",
   "execution_count": 9,
   "id": "liked-category",
   "metadata": {},
   "outputs": [],
   "source": [
    "import sympy as sym"
   ]
  },
  {
   "cell_type": "code",
   "execution_count": 10,
   "id": "orange-weekend",
   "metadata": {},
   "outputs": [],
   "source": [
    "s = sym.symbols('s')"
   ]
  },
  {
   "cell_type": "code",
   "execution_count": 11,
   "id": "central-queue",
   "metadata": {},
   "outputs": [],
   "source": [
    "A = sym.Matrix([[-3, -5], [1, 0]])"
   ]
  },
  {
   "cell_type": "code",
   "execution_count": 12,
   "id": "polished-vinyl",
   "metadata": {},
   "outputs": [
    {
     "data": {
      "text/latex": [
       "$\\displaystyle \\operatorname{PurePoly}{\\left( s^{2} + 3 s + 5, s, domain=\\mathbb{Z} \\right)}$"
      ],
      "text/plain": [
       "PurePoly(s**2 + 3*s + 5, s, domain='ZZ')"
      ]
     },
     "execution_count": 12,
     "metadata": {},
     "output_type": "execute_result"
    }
   ],
   "source": [
    "A.charpoly(s)"
   ]
  },
  {
   "cell_type": "code",
   "execution_count": 13,
   "id": "automotive-applicant",
   "metadata": {},
   "outputs": [],
   "source": [
    "k1, k2 = sym.symbols('k1, k2')"
   ]
  },
  {
   "cell_type": "code",
   "execution_count": 14,
   "id": "latest-paraguay",
   "metadata": {},
   "outputs": [],
   "source": [
    "K = sym.Matrix([[k1, k2]])\n",
    "B = sym.Matrix([[1], [0]])"
   ]
  },
  {
   "cell_type": "code",
   "execution_count": 15,
   "id": "equal-relations",
   "metadata": {},
   "outputs": [
    {
     "data": {
      "text/latex": [
       "$\\displaystyle \\left[\\begin{matrix}k_{1} & k_{2}\\end{matrix}\\right]$"
      ],
      "text/plain": [
       "Matrix([[k1, k2]])"
      ]
     },
     "execution_count": 15,
     "metadata": {},
     "output_type": "execute_result"
    }
   ],
   "source": [
    "K"
   ]
  },
  {
   "cell_type": "code",
   "execution_count": 16,
   "id": "unlimited-think",
   "metadata": {},
   "outputs": [
    {
     "data": {
      "text/latex": [
       "$\\displaystyle \\left[\\begin{matrix}1\\\\0\\end{matrix}\\right]$"
      ],
      "text/plain": [
       "Matrix([\n",
       "[1],\n",
       "[0]])"
      ]
     },
     "execution_count": 16,
     "metadata": {},
     "output_type": "execute_result"
    }
   ],
   "source": [
    "B"
   ]
  },
  {
   "cell_type": "code",
   "execution_count": 17,
   "id": "broadband-diesel",
   "metadata": {},
   "outputs": [
    {
     "data": {
      "text/latex": [
       "$\\displaystyle \\left[\\begin{matrix}k_{1} & k_{2}\\\\0 & 0\\end{matrix}\\right]$"
      ],
      "text/plain": [
       "Matrix([\n",
       "[k1, k2],\n",
       "[ 0,  0]])"
      ]
     },
     "execution_count": 17,
     "metadata": {},
     "output_type": "execute_result"
    }
   ],
   "source": [
    "B * K"
   ]
  },
  {
   "cell_type": "code",
   "execution_count": 18,
   "id": "diagnostic-sphere",
   "metadata": {},
   "outputs": [
    {
     "data": {
      "text/latex": [
       "$\\displaystyle \\left[\\begin{matrix}- k_{1} - 3 & - k_{2} - 5\\\\1 & 0\\end{matrix}\\right]$"
      ],
      "text/plain": [
       "Matrix([\n",
       "[-k1 - 3, -k2 - 5],\n",
       "[      1,       0]])"
      ]
     },
     "execution_count": 18,
     "metadata": {},
     "output_type": "execute_result"
    }
   ],
   "source": [
    "A - B * K"
   ]
  },
  {
   "cell_type": "code",
   "execution_count": 19,
   "id": "contemporary-sunday",
   "metadata": {},
   "outputs": [
    {
     "data": {
      "text/latex": [
       "$\\displaystyle \\operatorname{PurePoly}{\\left( s^{2} + \\left(k_{1} + 3\\right) s + k_{2} + 5, s, domain=\\mathbb{Z}\\left[k_{1}, k_{2}\\right] \\right)}$"
      ],
      "text/plain": [
       "PurePoly(s**2 + (k1 + 3)*s + k2 + 5, s, domain='ZZ[k1,k2]')"
      ]
     },
     "execution_count": 19,
     "metadata": {},
     "output_type": "execute_result"
    }
   ],
   "source": [
    "(A - B * K).charpoly(s)"
   ]
  },
  {
   "cell_type": "markdown",
   "id": "liked-kruger",
   "metadata": {},
   "source": [
    "# A few extra notes after class"
   ]
  },
  {
   "cell_type": "markdown",
   "id": "naval-level",
   "metadata": {},
   "source": [
    "We know that the characteristic polynomial of $A$ is defined as\n",
    "\n",
    "$$\\det\\left(sI - A\\right).$$\n",
    "\n",
    "So, we could have computed this characteristic polynomial without using `charpoly` as follows:"
   ]
  },
  {
   "cell_type": "code",
   "execution_count": 20,
   "id": "alien-router",
   "metadata": {},
   "outputs": [
    {
     "data": {
      "text/latex": [
       "$\\displaystyle s^{2} + 3 s + 5$"
      ],
      "text/plain": [
       "s**2 + 3*s + 5"
      ]
     },
     "execution_count": 20,
     "metadata": {},
     "output_type": "execute_result"
    }
   ],
   "source": [
    "sym.det(s * sym.eye(2) - A).collect(s)"
   ]
  },
  {
   "cell_type": "markdown",
   "id": "rubber-projector",
   "metadata": {},
   "source": [
    "In hindsight, this is what I should have done — less magic! Similarly, here is the characteristic polynomial of $A - BK$:"
   ]
  },
  {
   "cell_type": "code",
   "execution_count": 21,
   "id": "comprehensive-territory",
   "metadata": {},
   "outputs": [
    {
     "data": {
      "text/latex": [
       "$\\displaystyle k_{2} + s^{2} + s \\left(k_{1} + 3\\right) + 5$"
      ],
      "text/plain": [
       "k2 + s**2 + s*(k1 + 3) + 5"
      ]
     },
     "execution_count": 21,
     "metadata": {},
     "output_type": "execute_result"
    }
   ],
   "source": [
    "sym.det(s * sym.eye(2) - (A - B * K)).collect(s)"
   ]
  }
 ],
 "metadata": {
  "kernelspec": {
   "display_name": "Python 3",
   "language": "python",
   "name": "python3"
  },
  "language_info": {
   "codemirror_mode": {
    "name": "ipython",
    "version": 3
   },
   "file_extension": ".py",
   "mimetype": "text/x-python",
   "name": "python",
   "nbconvert_exporter": "python",
   "pygments_lexer": "ipython3",
   "version": "3.9.1"
  }
 },
 "nbformat": 4,
 "nbformat_minor": 5
}
