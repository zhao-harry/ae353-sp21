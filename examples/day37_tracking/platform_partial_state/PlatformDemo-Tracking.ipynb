{
 "cells": [
  {
   "cell_type": "markdown",
   "id": "middle-acoustic",
   "metadata": {},
   "source": [
    "# Control of a \"spacecraft\" platform with a reaction wheel"
   ]
  },
  {
   "cell_type": "markdown",
   "id": "working-minority",
   "metadata": {},
   "source": [
    "Import modules and configure the notebook."
   ]
  },
  {
   "cell_type": "code",
   "execution_count": 2,
   "id": "dimensional-contamination",
   "metadata": {},
   "outputs": [],
   "source": [
    "# This module is part of the python standard library\n",
    "import time\n",
    "\n",
    "# These modules are part of other existing libraries\n",
    "import numpy as np\n",
    "from scipy import linalg\n",
    "from scipy import signal\n",
    "import sympy as sym\n",
    "import matplotlib.pyplot as plt\n",
    "# %matplotlib notebook\n",
    "%matplotlib inline\n",
    "\n",
    "# This is my own script (it is an interface to the pybullet simulator)\n",
    "import ae353_platform\n",
    "\n",
    "# Forces the notebook to \"reload\" my script to make sure we have the latest version\n",
    "import importlib\n",
    "importlib.reload(ae353_platform)\n",
    "\n",
    "# Suppress the use of scientific notation when printing small numbers\n",
    "np.set_printoptions(suppress=True)"
   ]
  },
  {
   "cell_type": "code",
   "execution_count": 3,
   "id": "together-halloween",
   "metadata": {},
   "outputs": [],
   "source": [
    "rng = np.random.default_rng()"
   ]
  },
  {
   "cell_type": "markdown",
   "id": "protective-retreat",
   "metadata": {},
   "source": [
    "Create an instance of the robot simulator."
   ]
  },
  {
   "cell_type": "code",
   "execution_count": 4,
   "id": "placed-messenger",
   "metadata": {},
   "outputs": [],
   "source": [
    "# # With display\n",
    "# robot = ae353_platform.RobotSimulator(damping=0., pitch=0., dt=0.01, display=True)\n",
    "\n",
    "# Without display\n",
    "robot = ae353_platform.RobotSimulator(damping=0., pitch=0., dt=0.01, display=False)"
   ]
  },
  {
   "cell_type": "markdown",
   "id": "dynamic-beast",
   "metadata": {},
   "source": [
    "Derive the linearized dynamic model."
   ]
  },
  {
   "cell_type": "code",
   "execution_count": 5,
   "id": "unlike-virtue",
   "metadata": {},
   "outputs": [],
   "source": [
    "# distance from platform axis to wheel axis\n",
    "l = 1.\n",
    "\n",
    "# radius of wheel\n",
    "rw = 0.5\n",
    "\n",
    "# mass of wheel\n",
    "mw = 0.25\n",
    "\n",
    "# moi of wheel\n",
    "Jw = 0.5 * mw * rw**2\n",
    "\n",
    "# mass of platform\n",
    "mp = 12. * (1. - mw * l**2) / (3.**2 + 2.**2)\n",
    "\n",
    "# moment of inertia of platform\n",
    "Jp = (1. / 12.) * mp * (3.**2 + 2.**2)\n",
    "\n",
    "# Convert floats to rationals\n",
    "l_sym = sym.nsimplify(l)\n",
    "mw_sym = sym.nsimplify(mw)\n",
    "Jp_sym = sym.nsimplify(Jp)\n",
    "\n",
    "# Create symbolic variables\n",
    "q, v, tau = sym.symbols('q, v, tau', real=True)\n",
    "\n",
    "# Define equations of motion\n",
    "f = sym.Matrix([[v], [(1 / (Jp_sym + mw_sym * l_sym**2)) * tau]])\n",
    "\n",
    "# Equilibrium point\n",
    "q_e = 0.\n",
    "v_e = 0.\n",
    "tau_e = 0.\n",
    "\n",
    "# Linearized state space model\n",
    "A_num = sym.lambdify((q, v, tau), f.jacobian([q, v]))\n",
    "B_num = sym.lambdify((q, v, tau), f.jacobian([tau]))\n",
    "A = A_num(q_e, v_e, tau_e).astype(float)\n",
    "B = B_num(q_e, v_e, tau_e).astype(float)"
   ]
  },
  {
   "cell_type": "markdown",
   "id": "driving-kingston",
   "metadata": {},
   "source": [
    "Derive the linearized sensor model."
   ]
  },
  {
   "cell_type": "code",
   "execution_count": 6,
   "id": "fewer-curve",
   "metadata": {},
   "outputs": [],
   "source": [
    "C = np.array([[1., 0.]])"
   ]
  },
  {
   "cell_type": "markdown",
   "id": "atmospheric-azerbaijan",
   "metadata": {},
   "source": [
    "Helper function to solve LQR problems."
   ]
  },
  {
   "cell_type": "code",
   "execution_count": 7,
   "id": "authorized-investment",
   "metadata": {},
   "outputs": [],
   "source": [
    "def lqr(A, B, Q, R):\n",
    "    P = linalg.solve_continuous_are(A, B, Q, R)\n",
    "    K = linalg.inv(R) @  B.T @ P\n",
    "    return K"
   ]
  },
  {
   "cell_type": "markdown",
   "id": "limited-examination",
   "metadata": {},
   "source": [
    "Design a controller."
   ]
  },
  {
   "cell_type": "code",
   "execution_count": 17,
   "id": "understood-continuity",
   "metadata": {},
   "outputs": [
    {
     "name": "stdout",
     "output_type": "stream",
     "text": [
      "Gain matrix of controller:\n",
      " K = np.array([[9.999999999999995, 4.582575694955839]])\n",
      "\n",
      "Closed-loop eigenvalues of controller:\n",
      " [-2.29128785+2.17944947j -2.29128785-2.17944947j]\n"
     ]
    }
   ],
   "source": [
    "# Choose gains\n",
    "Qc = np.diag([100., 1.])\n",
    "Rc = np.diag([1.])\n",
    "\n",
    "# Find optimal gain matrix\n",
    "K = lqr(A, B, Qc, Rc)\n",
    "\n",
    "print(f'Gain matrix of controller:\\n K = np.array({K.tolist()})\\n')\n",
    "\n",
    "# Find the closed-loop eigenvalues\n",
    "print(f'Closed-loop eigenvalues of controller:\\n {linalg.eigvals(A - B @ K)}')"
   ]
  },
  {
   "cell_type": "markdown",
   "id": "varying-least",
   "metadata": {},
   "source": [
    "Design an observer."
   ]
  },
  {
   "cell_type": "code",
   "execution_count": 18,
   "id": "level-difference",
   "metadata": {},
   "outputs": [
    {
     "name": "stdout",
     "output_type": "stream",
     "text": [
      "Gain matrix of observer:\n",
      " L = np.array([[4.040365740912174], [3.162277660168378]])\n",
      "\n",
      "Closed-loop eigenvalues of observer:\n",
      " [-2.97875534+0.j -1.06161041+0.j]\n"
     ]
    }
   ],
   "source": [
    "# Choose gains\n",
    "Qo = np.diag([10.])\n",
    "Ro = np.diag([1., 1.])\n",
    "\n",
    "# Find optimal gain matrix\n",
    "L = lqr(A.T, C.T, linalg.inv(Ro), linalg.inv(Qo)).T\n",
    "\n",
    "print(f'Gain matrix of observer:\\n L = np.array({L.tolist()})\\n')\n",
    "\n",
    "# Find the closed-loop eigenvalues\n",
    "print(f'Closed-loop eigenvalues of observer:\\n {linalg.eigvals(A - L @ C)}')"
   ]
  },
  {
   "cell_type": "markdown",
   "id": "broad-pocket",
   "metadata": {},
   "source": [
    "Implement controller and observer."
   ]
  },
  {
   "cell_type": "code",
   "execution_count": 19,
   "id": "strong-philosophy",
   "metadata": {},
   "outputs": [],
   "source": [
    "class RobotController:\n",
    "    def __init__(self, dt, q_e, A, B, C, K, L):\n",
    "        self.dt = dt\n",
    "        self.q_e = q_e\n",
    "        self.v_e = 0.\n",
    "        self.tau_e = 0.\n",
    "        self.A = A\n",
    "        self.B = B\n",
    "        self.C = C\n",
    "        self.K = K\n",
    "        self.L = L\n",
    "        \n",
    "        # Run the reset function to initialize the state estimate\n",
    "        self.reset() \n",
    "        \n",
    "    \n",
    "    def reset(self, xhat=None):\n",
    "        # Initialize the state estimate\n",
    "        if xhat is None:\n",
    "            self.xhat = np.array([[0.], [0.]])\n",
    "        else:\n",
    "            self.xhat = xhat\n",
    "        \n",
    "    \n",
    "    def run(self, q, q_des):\n",
    "        # Define the desired state\n",
    "        x_des = np.array([[q_des - self.q_e], [0.]])\n",
    "        \n",
    "        # Apply controller\n",
    "        u = -self.K @ (self.xhat - x_des)\n",
    "        \n",
    "        # Convert input to actuator commands\n",
    "        tau_on_platform = u[0, 0] + self.tau_e\n",
    "        \n",
    "        # Define output\n",
    "        y = np.array([[q - self.q_e]])\n",
    "        \n",
    "        # Apply observer to update state estimate\n",
    "        self.xhat += self.dt * (self.A @ self.xhat + self.B @ u - self.L @ (self.C @ self.xhat - y))\n",
    "        \n",
    "        # Don't forget to convert \"torque on platform\" to \"torque on wheel\"\n",
    "        tau = -tau_on_platform\n",
    "        \n",
    "        return tau"
   ]
  },
  {
   "cell_type": "markdown",
   "id": "polyphonic-minnesota",
   "metadata": {},
   "source": [
    "Create an instance of the RobotController class (i.e., of our implementation) for us to use in simulation."
   ]
  },
  {
   "cell_type": "code",
   "execution_count": 20,
   "id": "elect-traveler",
   "metadata": {},
   "outputs": [],
   "source": [
    "controller = RobotController(dt=robot.dt,\n",
    "                             q_e=q_e,\n",
    "                             A=A,\n",
    "                             B=B,\n",
    "                             C=C,\n",
    "                             K=K,\n",
    "                             L=L)"
   ]
  },
  {
   "cell_type": "markdown",
   "id": "sophisticated-change",
   "metadata": {},
   "source": [
    "Simulate."
   ]
  },
  {
   "cell_type": "code",
   "execution_count": 23,
   "id": "alone-louisville",
   "metadata": {},
   "outputs": [
    {
     "data": {
      "text/plain": [
       "(0.0, 9.99)"
      ]
     },
     "execution_count": 23,
     "metadata": {},
     "output_type": "execute_result"
    },
    {
     "data": {
      "image/png": "[encoded data removed]",
      "text/plain": [
       "<Figure size 648x864 with 3 Axes>"
      ]
     },
     "metadata": {
      "needs_background": "light"
     },
     "output_type": "display_data"
    }
   ],
   "source": [
    "##############################################\n",
    "# Restore the simulation to its initial state\n",
    "#\n",
    "\n",
    "# Choose initial conditions\n",
    "q_platform = 0.1 * rng.standard_normal()\n",
    "q_wheel = 0.1 * rng.standard_normal()\n",
    "v_platform = 0.1 * rng.standard_normal()\n",
    "v_wheel = 0.1 * rng.standard_normal()\n",
    "\n",
    "# Apply initial conditions\n",
    "robot.set_state(np.array([q_platform, q_wheel]), np.array([v_platform, v_wheel]))\n",
    "\n",
    "#\n",
    "##############################################\n",
    "\n",
    "##############################################\n",
    "# Restore the observer to its initial state\n",
    "#\n",
    "\n",
    "controller.reset(xhat=np.array([[0.], [0.]]))\n",
    "\n",
    "#\n",
    "##############################################\n",
    "\n",
    "\n",
    "# Choose how long we want to run the simulation, and\n",
    "# compute the corresponding number of time steps\n",
    "run_time = 10.\n",
    "num_steps = int(run_time/robot.dt)\n",
    "\n",
    "# Create a dictionary in which to store results\n",
    "data = {\n",
    "    't': np.empty(num_steps, dtype=float),\n",
    "    'q': np.empty(num_steps, dtype=float),\n",
    "    'v': np.empty(num_steps, dtype=float),\n",
    "    'q_wheel': np.empty(num_steps, dtype=float),\n",
    "    'v_wheel': np.empty(num_steps, dtype=float),\n",
    "    'q_meas': np.empty(num_steps, dtype=float),\n",
    "    'q_des': np.empty(num_steps, dtype=float),\n",
    "    'xhat': np.empty((2, num_steps), dtype=float),\n",
    "    'tau': np.empty(num_steps, dtype=float),\n",
    "}\n",
    "\n",
    "# Run the simulation loop\n",
    "start_time = time.time()\n",
    "for step in range(num_steps):\n",
    "    # Get the current time\n",
    "    t = robot.dt * step\n",
    "    \n",
    "    # Get desired angle\n",
    "    q_des = 0.\n",
    "#     q_des = 1. if t >= 5. else 0.\n",
    "#     if t <= 2.5:\n",
    "#         q_des = 0.\n",
    "#     elif t <= 7.5:\n",
    "#         q_des = ((t - 2.5) / 5.) * 1.\n",
    "#     else:\n",
    "#         q_des = 1.\n",
    "#     q_des = np.sin((2. * np.pi / 10.) * t)\n",
    "    \n",
    "    # Get the sensor measurements\n",
    "    q_true, v_true, q_wheel_true, v_wheel_true = robot.get_sensor_measurements()\n",
    "    \n",
    "    # Add noise to sensor measurements\n",
    "    q_meas = q_true + 0.1 * np.random.randn()\n",
    "    \n",
    "    # Log the state estimate\n",
    "    data['xhat'][:, step] = controller.xhat.flatten()\n",
    "    \n",
    "    # Choose the actuator command (by running the controller)\n",
    "    tau = controller.run(q_meas, q_des)\n",
    "    \n",
    "    # Log the data from this time step\n",
    "    data['t'][step] = t\n",
    "    data['q'][step] = q_true\n",
    "    data['v'][step] = v_true\n",
    "    data['q_wheel'][step] = q_wheel_true\n",
    "    data['v_wheel'][step] = v_wheel_true\n",
    "    data['q_meas'][step] = q_meas\n",
    "    data['q_des'][step] = q_des\n",
    "    data['tau'][step] = tau\n",
    "    \n",
    "    # Send the actuator commands to robot and go forward one time\n",
    "    # step (this is where the actual simulation happens)\n",
    "    robot.set_actuator_commands(tau)\n",
    "    robot.step(t=(start_time + (robot.dt * (step + 1))))\n",
    "\n",
    "# Extract estimates of q and v\n",
    "q_est = data['xhat'][0, :] + controller.q_e\n",
    "v_est = data['xhat'][1, :] + controller.v_e\n",
    "\n",
    "# Compare estimates to real values\n",
    "fig, (ax_q, ax_v, ax_tau) = plt.subplots(3, 1, figsize=(9, 12), sharex=True)\n",
    "\n",
    "ax_q.plot(data['t'], data['q'], label='q', linewidth=4)\n",
    "ax_q.plot(data['t'], data['q_des'], '--', label='q (desired)', linewidth=3)\n",
    "ax_q.plot(data['t'], q_est, ':', label='q (estimate)', linewidth=5)\n",
    "ax_q.plot(data['t'], data['q_meas'], '.', label='q (measured)', markersize=2)\n",
    "ax_q.grid()\n",
    "ax_q.legend(fontsize=16)\n",
    "ax_q.tick_params(labelsize=14)\n",
    "ax_q.set_ylim(-2., 2.)\n",
    "\n",
    "ax_v.plot(data['t'], data['v'], label='v', linewidth=4)\n",
    "ax_v.plot(data['t'], v_est, '--', label='v (estimate)', linewidth=3)\n",
    "ax_v.grid()\n",
    "ax_v.legend(fontsize=16)\n",
    "ax_v.tick_params(labelsize=14)\n",
    "ax_v.set_ylim(-2., 2.)\n",
    "\n",
    "# take the negative of data['tau'] to plot torque on platform, not wheel\n",
    "ax_tau.plot(data['t'], -data['tau'], label='commanded torque on platform (N-m)', linewidth=4)\n",
    "ax_tau.plot(data['t'], np.ones_like(data['t']) * robot.tau_max, '--', label='max torque', linewidth=4, color='C1')\n",
    "ax_tau.plot(data['t'], -np.ones_like(data['t']) * robot.tau_max, '--', linewidth=4, color='C1')\n",
    "ax_tau.grid()\n",
    "ax_tau.legend(fontsize=16, loc='upper right')\n",
    "ax_tau.tick_params(labelsize=14)\n",
    "ax_tau.set_ylim(-1.2 * robot.tau_max, 1.2 * robot.tau_max)\n",
    "\n",
    "ax_tau.set_xlabel('time (s)', fontsize=20)\n",
    "ax_tau.set_xlim([data['t'][0], data['t'][-1]])"
   ]
  },
  {
   "cell_type": "markdown",
   "id": "rubber-substitute",
   "metadata": {},
   "source": [
    "Compare results in simulation to what is predicted by the state-space model."
   ]
  },
  {
   "cell_type": "code",
   "execution_count": null,
   "id": "seven-chester",
   "metadata": {},
   "outputs": [],
   "source": [
    "t = data['t']\n",
    "nt = len(t)\n",
    "t0 = t[0]\n",
    "t1 = t[-1]\n",
    "xerr0 = np.array([[-1.], [0.]])\n",
    "xerr = np.empty((2, nt), dtype=float)\n",
    "\n",
    "for i in range(len(t)):\n",
    "    xerri = linalg.expm((A - L @ C) * (t[i] - t0)) @ xerr0\n",
    "    xerr[:, i] = xerri.flatten()\n",
    "\n",
    "fig, (ax_xerr1, ax_xerr2) = plt.subplots(2, 1, figsize=(9, 6), sharex=True, tight_layout=True)\n",
    "\n",
    "ax_xerr1.plot(t, xerr[0, :], label='error in $x_1$ (linear)', linewidth=3)\n",
    "ax_xerr1.plot(t, q_est - data['q'], '--', label='error in $x_1$ (nonlinear)', linewidth=4)\n",
    "ax_xerr1.grid()\n",
    "ax_xerr1.legend()\n",
    "ax_xerr1.legend(fontsize=16)\n",
    "ax_xerr1.tick_params(labelsize=14)\n",
    "ax_xerr1.set_ylim(-1., 1.)\n",
    "\n",
    "ax_xerr2.plot(t, xerr[1, :], label='error in $x_2$ (linear)', linewidth=3)\n",
    "ax_xerr2.plot(t, v_est - data['v'], '--', label='error in $x_2$ (nonlinear)', linewidth=4)\n",
    "ax_xerr2.grid()\n",
    "ax_xerr2.legend()\n",
    "ax_xerr2.legend(fontsize=16)\n",
    "ax_xerr2.tick_params(labelsize=14)\n",
    "ax_xerr2.set_ylim(-1., 1.)\n",
    "\n",
    "ax_xerr2.set_xlim(t0, t1)\n",
    "ax_xerr2.set_xlabel('time (s)', fontsize=20)\n",
    "\n",
    "fig.tight_layout()"
   ]
  },
  {
   "cell_type": "markdown",
   "id": "laden-modeling",
   "metadata": {},
   "source": [
    "Plot **only** the results predicted by the state-space model."
   ]
  },
  {
   "cell_type": "code",
   "execution_count": null,
   "id": "broadband-blocking",
   "metadata": {},
   "outputs": [],
   "source": [
    "L = np.array([[100.], [100.]])"
   ]
  },
  {
   "cell_type": "code",
   "execution_count": null,
   "id": "offensive-occurrence",
   "metadata": {},
   "outputs": [],
   "source": [
    "t0 = 0.\n",
    "t1 = 10.\n",
    "nt = 1 + int((t1 - t0) / robot.dt)\n",
    "xerr0 = np.array([[-1.], [0.]])\n",
    "t = np.linspace(t0, t1, nt)\n",
    "xerr = np.empty((2, nt), dtype=float)\n",
    "\n",
    "for i in range(len(t)):\n",
    "    xerri = linalg.expm((A - L @ C) * (t[i] - t0)) @ xerr0\n",
    "    xerr[:, i] = xerri.flatten()\n",
    "\n",
    "fig, (ax_xerr1, ax_xerr2) = plt.subplots(2, 1, figsize=(9, 6), sharex=True, tight_layout=True)\n",
    "\n",
    "ax_xerr1.plot(t, xerr[0, :], label='error in $x_1$ (linear)', linewidth=3)\n",
    "ax_xerr1.grid()\n",
    "ax_xerr1.legend()\n",
    "ax_xerr1.legend(fontsize=16)\n",
    "ax_xerr1.tick_params(labelsize=14)\n",
    "ax_xerr1.set_ylim(-1., 1.)\n",
    "\n",
    "ax_xerr2.plot(t, xerr[1, :], label='error in $x_2$ (linear)', linewidth=3)\n",
    "ax_xerr2.grid()\n",
    "ax_xerr2.legend()\n",
    "ax_xerr2.legend(fontsize=16)\n",
    "ax_xerr2.tick_params(labelsize=14)\n",
    "ax_xerr2.set_ylim(-1., 1.)\n",
    "\n",
    "ax_xerr2.set_xlim(t0, t1)\n",
    "ax_xerr2.set_xlabel('time (s)', fontsize=20)\n",
    "\n",
    "fig.tight_layout()"
   ]
  },
  {
   "cell_type": "code",
   "execution_count": null,
   "id": "canadian-cleveland",
   "metadata": {},
   "outputs": [],
   "source": [
    "settling_times = []\n",
    "num_trials = 100\n",
    "for trial in range(num_trials):\n",
    "    ##############################################\n",
    "    # Restore the simulation to its initial state\n",
    "    #\n",
    "\n",
    "    # Choose initial conditions\n",
    "    q_platform = controller.q_e + 1.\n",
    "    q_wheel = 0.\n",
    "    v_platform = 0.\n",
    "    v_wheel = 0.\n",
    "\n",
    "    # Apply initial conditions\n",
    "    robot.set_state(np.array([q_platform, q_wheel]), np.array([v_platform, v_wheel]))\n",
    "\n",
    "    #\n",
    "    ##############################################\n",
    "\n",
    "    ##############################################\n",
    "    # Restore the observer to its initial state\n",
    "    #\n",
    "\n",
    "    controller.reset(xhat=np.array([[0.], [0.]]))\n",
    "\n",
    "    #\n",
    "    ##############################################\n",
    "\n",
    "\n",
    "    # Choose how long we want to run the simulation, and\n",
    "    # compute the corresponding number of time steps\n",
    "    run_time = 10.\n",
    "    num_steps = int(run_time/robot.dt)\n",
    "\n",
    "    # Create a dictionary in which to store results\n",
    "    data = {\n",
    "        't': np.empty(num_steps, dtype=float),\n",
    "        'q': np.empty(num_steps, dtype=float),\n",
    "        'v': np.empty(num_steps, dtype=float),\n",
    "        'q_wheel': np.empty(num_steps, dtype=float),\n",
    "        'v_wheel': np.empty(num_steps, dtype=float),\n",
    "        'q_meas': np.empty(num_steps, dtype=float),\n",
    "        'xhat': np.empty((2, num_steps), dtype=float),\n",
    "        'tau': np.empty(num_steps, dtype=float),\n",
    "    }\n",
    "\n",
    "    # Run the simulation loop\n",
    "    start_time = time.time()\n",
    "    for step in range(num_steps):\n",
    "        # Get the current time\n",
    "        t = robot.dt * step\n",
    "\n",
    "        # Get the sensor measurements\n",
    "        q_true, v_true, q_wheel_true, v_wheel_true = robot.get_sensor_measurements()\n",
    "\n",
    "        # Add noise to sensor measurements\n",
    "        q_meas = q_true + 0.5 * np.random.randn()\n",
    "\n",
    "        # Log the state estimate\n",
    "        data['xhat'][:, step] = controller.xhat.flatten()\n",
    "\n",
    "        # Choose the actuator command (by running the controller)\n",
    "        tau = controller.run(q_meas)\n",
    "\n",
    "        # Log the data from this time step\n",
    "        data['t'][step] = t\n",
    "        data['q'][step] = q_true\n",
    "        data['v'][step] = v_true\n",
    "        data['q_wheel'][step] = q_wheel_true\n",
    "        data['v_wheel'][step] = v_wheel_true\n",
    "        data['q_meas'][step] = q_meas\n",
    "        data['tau'][step] = tau\n",
    "\n",
    "        # Send the actuator commands to robot and go forward one time\n",
    "        # step (this is where the actual simulation happens)\n",
    "        robot.set_actuator_commands(tau)\n",
    "        robot.step(t=(start_time + (robot.dt * (step + 1))))\n",
    "\n",
    "    # Extract estimates of q and v\n",
    "    q_est = data['xhat'][0, :] + controller.q_e\n",
    "    v_est = data['xhat'][1, :] + controller.v_e\n",
    "\n",
    "    # # Compare estimates to real values\n",
    "    # fig, (ax_q, ax_v, ax_tau) = plt.subplots(3, 1, figsize=(9, 12), sharex=True)\n",
    "\n",
    "    # ax_q.plot(data['t'], data['q'], label='q', linewidth=4)\n",
    "    # ax_q.plot(data['t'], q_est, '--', label='q (estimate)', linewidth=3)\n",
    "    # ax_q.plot(data['t'], data['q_meas'], '.', label='q (measured)', markersize=2)\n",
    "    # ax_q.grid()\n",
    "    # ax_q.legend(fontsize=16)\n",
    "    # ax_q.tick_params(labelsize=14)\n",
    "    # ax_q.set_ylim(-2., 2.)\n",
    "\n",
    "    # ax_v.plot(data['t'], data['v'], label='v', linewidth=4)\n",
    "    # ax_v.plot(data['t'], v_est, '--', label='v (estimate)', linewidth=3)\n",
    "    # ax_v.grid()\n",
    "    # ax_v.legend(fontsize=16)\n",
    "    # ax_v.tick_params(labelsize=14)\n",
    "    # ax_v.set_ylim(-2., 2.)\n",
    "\n",
    "    # # take the negative of data['tau'] to plot torque on platform, not wheel\n",
    "    # ax_tau.plot(data['t'], -data['tau'], label='commanded torque on platform (N-m)', linewidth=4)\n",
    "    # ax_tau.plot(data['t'], np.ones_like(data['t']) * robot.tau_max, '--', label='max torque', linewidth=4, color='C1')\n",
    "    # ax_tau.plot(data['t'], -np.ones_like(data['t']) * robot.tau_max, '--', linewidth=4, color='C1')\n",
    "    # ax_tau.grid()\n",
    "    # ax_tau.legend(fontsize=16, loc='upper right')\n",
    "    # ax_tau.tick_params(labelsize=14)\n",
    "    # ax_tau.set_ylim(-1.2 * robot.tau_max, 1.2 * robot.tau_max)\n",
    "\n",
    "    # ax_tau.set_xlabel('time (s)', fontsize=20)\n",
    "    # ax_tau.set_xlim([data['t'][0], data['t'][-1]])\n",
    "\n",
    "\n",
    "    for i in range(num_steps):\n",
    "        if (np.abs(data['q'][i:]) < 0.1).all():\n",
    "            settling_time = data['t'][i]\n",
    "            break\n",
    "\n",
    "    settling_times.append(settling_time)\n",
    "    \n",
    "    if (trial + 1) % 10 == 0:\n",
    "        print(f' {trial + 1} / {num_trials}')\n",
    "#     print(settling_time)\n"
   ]
  },
  {
   "cell_type": "code",
   "execution_count": null,
   "id": "large-month",
   "metadata": {},
   "outputs": [],
   "source": [
    "settling_times"
   ]
  },
  {
   "cell_type": "code",
   "execution_count": null,
   "id": "piano-financing",
   "metadata": {},
   "outputs": [],
   "source": [
    "plt.hist(settling_times)"
   ]
  },
  {
   "cell_type": "code",
   "execution_count": null,
   "id": "numerical-assumption",
   "metadata": {},
   "outputs": [],
   "source": [
    "np.mean(settling_times)"
   ]
  },
  {
   "cell_type": "code",
   "execution_count": null,
   "id": "sitting-budapest",
   "metadata": {},
   "outputs": [],
   "source": [
    "np.max(settling_times)"
   ]
  },
  {
   "cell_type": "code",
   "execution_count": null,
   "id": "regular-interview",
   "metadata": {},
   "outputs": [],
   "source": [
    "np.min(settling_times)"
   ]
  },
  {
   "cell_type": "code",
   "execution_count": null,
   "id": "wound-trial",
   "metadata": {},
   "outputs": [],
   "source": [
    "np.std(settling_times)"
   ]
  },
  {
   "cell_type": "code",
   "execution_count": null,
   "id": "coated-scheme",
   "metadata": {},
   "outputs": [],
   "source": [
    "np.median(settling_times)"
   ]
  },
  {
   "cell_type": "code",
   "execution_count": null,
   "id": "bizarre-seminar",
   "metadata": {},
   "outputs": [],
   "source": []
  }
 ],
 "metadata": {
  "kernelspec": {
   "display_name": "Python 3",
   "language": "python",
   "name": "python3"
  },
  "language_info": {
   "codemirror_mode": {
    "name": "ipython",
    "version": 3
   },
   "file_extension": ".py",
   "mimetype": "text/x-python",
   "name": "python",
   "nbconvert_exporter": "python",
   "pygments_lexer": "ipython3",
   "version": "3.9.1"
  }
 },
 "nbformat": 4,
 "nbformat_minor": 5
}
