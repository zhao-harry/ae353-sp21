{
 "cells": [
  {
   "cell_type": "markdown",
   "id": "middle-acoustic",
   "metadata": {},
   "source": [
    "# Control of a \"spacecraft\" platform with a reaction wheel"
   ]
  },
  {
   "cell_type": "markdown",
   "id": "cathedral-estate",
   "metadata": {},
   "source": [
    "## Set up simulation"
   ]
  },
  {
   "cell_type": "markdown",
   "id": "working-minority",
   "metadata": {},
   "source": [
    "Import modules and configure the notebook."
   ]
  },
  {
   "cell_type": "code",
   "execution_count": null,
   "id": "dimensional-contamination",
   "metadata": {},
   "outputs": [],
   "source": [
    "# This module is part of the python standard library\n",
    "import time\n",
    "\n",
    "# These modules are part of other existing libraries\n",
    "import numpy as np\n",
    "from scipy import linalg\n",
    "import sympy as sym\n",
    "import matplotlib.pyplot as plt\n",
    "\n",
    "# This is my own script (it is an interface to the pybullet simulator)\n",
    "import ae353_platform\n",
    "\n",
    "# I often go back and forth between making changes to my scripts and to\n",
    "# the notebook in which they are used. One \"gotcha\" is that notebooks only\n",
    "# import modules or scripts ONCE. Subsequent imports don't do anything, and\n",
    "# in particular won't reflect any changes I've made to my scripts. To make\n",
    "# sure that I'm working with the latest version of my code, I use this bit\n",
    "# of magic, which forces the notebook to \"reload\" my script:\n",
    "import importlib\n",
    "importlib.reload(ae353_platform)\n",
    "\n",
    "# Suppress the use of scientific notation when printing small numbers\n",
    "np.set_printoptions(suppress=True)"
   ]
  },
  {
   "cell_type": "markdown",
   "id": "protective-retreat",
   "metadata": {},
   "source": [
    "Create an instance of the robot simulator. This will open a window in which you should see the reaction wheel.\n",
    "\n",
    "There are four optional parameters:\n",
    "\n",
    "* `damping` is the coefficient of viscous friction at each joint (the default value is `0.`)\n",
    "* `pitch` is the angle of the ground in radians (the default value is `0.`)\n",
    "* `dt` is the length of each time step in the simulator (the default value is `0.001`)\n",
    "* `display` is a flag that says whether or not to open the GUI (the default value is `True`)\n",
    "\n",
    "The `display` parameter, in particular, is likely to be of use to you. If you set `display=True`, then you will run the simulator in real-time with a GUI. If you set `display=False`, then you will run the simulator as fast as possible (faster than real-time) without a GUI. This is convenient when all you want is the data.\n",
    "\n",
    "**NOTE:** it is still necessary to reset the kernel (see the \"Kernel\" menu above) before creating a new instance of the robot simulator, even when running without a GUI - if you don't, then you'll notice that simulation slows way down."
   ]
  },
  {
   "cell_type": "code",
   "execution_count": null,
   "id": "placed-messenger",
   "metadata": {},
   "outputs": [],
   "source": [
    "robot = ae353_platform.RobotSimulator(damping=0., pitch=0., dt=0.01, display=True)"
   ]
  },
  {
   "cell_type": "markdown",
   "id": "administrative-oakland",
   "metadata": {},
   "source": [
    "## Do control design and analysis"
   ]
  },
  {
   "cell_type": "markdown",
   "id": "english-documentary",
   "metadata": {},
   "source": [
    "Define state space model:\n",
    "\n",
    "$$\n",
    "A = \\begin{bmatrix} 0 & 1 \\\\ 0 & 0 \\end{bmatrix}\n",
    "\\qquad\n",
    "B = \\begin{bmatrix} 0 \\\\ 1 \\end{bmatrix}\n",
    "$$\n",
    "\n",
    "This assumes the state and input are defined as\n",
    "\n",
    "$$\n",
    "x = \\begin{bmatrix} q - q_e \\\\ v - v_e \\end{bmatrix}\n",
    "\\qquad\n",
    "u = \\begin{bmatrix} \\tau_{\\text{platform}} - \\tau_{\\text{platform}, e} \\end{bmatrix}\n",
    "$$\n",
    "\n",
    "where $\\tau$ is the torque applied to the wheel and $\\tau_{\\text{platform}} = -\\tau$ is the equivalent torque applied to the platform."
   ]
  },
  {
   "cell_type": "code",
   "execution_count": null,
   "id": "identical-console",
   "metadata": {},
   "outputs": [],
   "source": [
    "A = np.array([[0., 1.], [0., 0.]])\n",
    "B = np.array([[0.], [1.]])"
   ]
  },
  {
   "cell_type": "markdown",
   "id": "detailed-spouse",
   "metadata": {},
   "source": [
    "Choose $K$:"
   ]
  },
  {
   "cell_type": "code",
   "execution_count": null,
   "id": "divided-ontario",
   "metadata": {},
   "outputs": [],
   "source": [
    "K = np.array([[0., 0.]])\n",
    "# K = np.array([[10., 7.]])\n",
    "# K = np.array([[169., 10.]])\n",
    "# K = np.array([[-6., 1.]])\n",
    "# K = np.array([[1., 2.]])"
   ]
  },
  {
   "cell_type": "markdown",
   "id": "vocational-writing",
   "metadata": {},
   "source": [
    "Find closed-loop system:\n",
    "\n",
    "$$ F = A - B K $$"
   ]
  },
  {
   "cell_type": "code",
   "execution_count": null,
   "id": "activated-fleece",
   "metadata": {},
   "outputs": [],
   "source": [
    "F = A - B @ K\n",
    "print(F)"
   ]
  },
  {
   "cell_type": "markdown",
   "id": "sixth-collapse",
   "metadata": {},
   "source": [
    "Find eigenvalues of closed-loop system:"
   ]
  },
  {
   "cell_type": "code",
   "execution_count": null,
   "id": "senior-tokyo",
   "metadata": {},
   "outputs": [],
   "source": [
    "s = linalg.eigvals(F)\n",
    "print(s)"
   ]
  },
  {
   "cell_type": "markdown",
   "id": "gentle-dallas",
   "metadata": {},
   "source": [
    "Find:\n",
    "\n",
    "* a matrix $S$ with eigenvalues in each diagonal entry\n",
    "* a matrix $V$ with the corresponding eigenvectors in each column"
   ]
  },
  {
   "cell_type": "code",
   "execution_count": null,
   "id": "interesting-payday",
   "metadata": {},
   "outputs": [],
   "source": [
    "s, V = linalg.eig(F)\n",
    "S = np.diag(s)\n",
    "print(S)\n",
    "print(V)"
   ]
  },
  {
   "cell_type": "markdown",
   "id": "continued-awareness",
   "metadata": {},
   "source": [
    "Show that\n",
    "\n",
    "$$V^{-1} F V = S = \\text{diag}(s_1, s_2)$$"
   ]
  },
  {
   "cell_type": "code",
   "execution_count": null,
   "id": "driven-preliminary",
   "metadata": {},
   "outputs": [],
   "source": [
    "print(linalg.inv(V) @ F @ V)"
   ]
  },
  {
   "cell_type": "markdown",
   "id": "quality-great",
   "metadata": {},
   "source": [
    "Show that\n",
    "\n",
    "$$e^{Ft}x_0 = V e^{V^{-1}FVt} V^{-1} x_0$$"
   ]
  },
  {
   "cell_type": "code",
   "execution_count": null,
   "id": "hundred-enough",
   "metadata": {},
   "outputs": [],
   "source": [
    "# Choose a time and an initial condition for this example\n",
    "t = 0.1\n",
    "x0 = np.array([[1.], [-2.]])\n",
    "\n",
    "# Compute solution the normal way\n",
    "print(linalg.expm(F * t) @ x0)\n",
    "\n",
    "# Compute solution by diagonalization\n",
    "print(V @ linalg.expm(linalg.inv(V) @ F @ V * t) @ linalg.inv(V) @ x0)\n",
    "# print((V @ linalg.expm(linalg.inv(V) @ F @ V * t) @ linalg.inv(V) @ x0).real)"
   ]
  },
  {
   "cell_type": "markdown",
   "id": "upset-visitor",
   "metadata": {},
   "source": [
    "Find solution at arbitrary time for arbitrary initial condition:\n",
    "\n",
    "$$ x(t) = e^{Ft} x(0) $$"
   ]
  },
  {
   "cell_type": "code",
   "execution_count": null,
   "id": "cleared-pearl",
   "metadata": {},
   "outputs": [],
   "source": [
    "# Symbolic variables\n",
    "t, x1_0, x2_0 = sym.symbols('t, x1_0, x2_0', real=True)\n",
    "\n",
    "# Closed-loop system (symbolic)\n",
    "F = sym.nsimplify(sym.Matrix(F), rational=True)\n",
    "\n",
    "# Initial condition (symbolic)\n",
    "x0 = sym.Matrix([[x1_0], [x2_0]])\n",
    "\n",
    "# Solution (symbolic)\n",
    "sym.exp(F * t) @ x0\n",
    "# sym.simplify(sym.exp(F * t) @ x0)\n",
    "# sym.simplify(sym.exp(F * t) @ x0).expand()"
   ]
  },
  {
   "cell_type": "markdown",
   "id": "guilty-degree",
   "metadata": {},
   "source": [
    "## Do implementation"
   ]
  },
  {
   "cell_type": "markdown",
   "id": "starting-entity",
   "metadata": {},
   "source": [
    "Define and create an instance of the robot controller. By default, it chooses to apply zero torque to the wheel. Modify the `run` function - or anything else in the class definition - to make the controller behave differently."
   ]
  },
  {
   "cell_type": "code",
   "execution_count": null,
   "id": "controlling-healing",
   "metadata": {},
   "outputs": [],
   "source": [
    "class RobotController:\n",
    "    def __init__(self, dt=0.01, K=np.array([[0., 0.]])):\n",
    "        self.dt = dt\n",
    "        \n",
    "        # Choose equilibrium point\n",
    "        self.q_e = 0.5 * np.pi\n",
    "        self.v_e = 0.\n",
    "        self.tau_e = 0.\n",
    "        \n",
    "        # Choose state feedback gains\n",
    "        self.K = K\n",
    "        \n",
    "    \n",
    "    def run(self, q, v, q_wheel, v_wheel):\n",
    "        \"\"\"\n",
    "        INPUTS\n",
    "         q = angle of platform (rad)\n",
    "         v = angular velocity of platform (rad/s)\n",
    "         q_wheel = angle of wheel with respect to platform (rad)\n",
    "         v_wheel = angular velocity of wheel with respect to platform (rad/s)\n",
    "        \n",
    "        OUTPUTS\n",
    "         tau = torque applied to wheel by motor on platform (N m)\n",
    "        \"\"\"\n",
    "        \n",
    "        # find x\n",
    "        x = np.array([[q - self.q_e], [v - self.v_e]])\n",
    "        \n",
    "        # find u\n",
    "        u = - self.K @ x\n",
    "        \n",
    "        # find the torque that we want applied to the platform\n",
    "        tau_on_platform = u[0, 0] + self.tau_e\n",
    "        \n",
    "        # find the torque that would have to be applied to the wheel\n",
    "        tau = - tau_on_platform\n",
    "        \n",
    "        return tau\n",
    "\n",
    "controller = RobotController(dt=robot.dt, K=K)"
   ]
  },
  {
   "cell_type": "markdown",
   "id": "relative-aquarium",
   "metadata": {},
   "source": [
    "Run the simulation. It is a loop. At each iteration, we:\n",
    "* get a sensor measurement\n",
    "* choose an actuator command\n",
    "* go forward one time step\n",
    "\n",
    "We also log data so that we can plot it later, if we want."
   ]
  },
  {
   "cell_type": "code",
   "execution_count": null,
   "id": "professional-dayton",
   "metadata": {},
   "outputs": [],
   "source": [
    "# Restore the simulation to its initial state\n",
    "#\n",
    "# - could also use:\n",
    "#\n",
    "#       robot.set_state(np.array([q_platform, q_wheel]), np.array([v_platform, v_wheel]))\n",
    "#\n",
    "#   for some choice of initial joint angles q_platform and q_wheel\n",
    "#   and initial joint velocities v_platform and v_wheel\n",
    "#\n",
    "robot.reset()\n",
    "\n",
    "# Choose how long we want to run the simulation, and\n",
    "# compute the corresponding number of time steps\n",
    "run_time = 10.\n",
    "num_steps = int(run_time/robot.dt)\n",
    "\n",
    "# Create a dictionary in which to store results\n",
    "data = {\n",
    "    't': np.empty(num_steps, dtype=float),\n",
    "    'q': np.empty(num_steps, dtype=float),\n",
    "    'v': np.empty(num_steps, dtype=float),\n",
    "    'q_wheel': np.empty(num_steps, dtype=float),\n",
    "    'v_wheel': np.empty(num_steps, dtype=float),\n",
    "    'tau': np.empty(num_steps, dtype=float),\n",
    "}\n",
    "\n",
    "# Run the simulation loop\n",
    "start_time = time.time()\n",
    "for step in range(num_steps):\n",
    "    # Get the current time\n",
    "    t = robot.dt * step\n",
    "    \n",
    "    # Get the sensor measurements\n",
    "    q, v, q_wheel, v_wheel = robot.get_sensor_measurements()\n",
    "    \n",
    "    # Choose the actuator command (by running the controller)\n",
    "    tau = controller.run(q, v, q_wheel, v_wheel)\n",
    "    \n",
    "    # Log the data from this time step\n",
    "    data['t'][step] = t\n",
    "    data['q'][step] = q\n",
    "    data['v'][step] = v\n",
    "    data['q_wheel'][step] = q_wheel\n",
    "    data['v_wheel'][step] = v_wheel\n",
    "    data['tau'][step] = tau\n",
    "    \n",
    "    # Send the actuator commands to robot and go forward one time\n",
    "    # step (this is where the actual simulation happens)\n",
    "    robot.set_actuator_commands(tau)\n",
    "    robot.step(t=(start_time + (robot.dt * (step + 1))))"
   ]
  },
  {
   "cell_type": "markdown",
   "id": "alternate-pregnancy",
   "metadata": {},
   "source": [
    "Plot the results."
   ]
  },
  {
   "cell_type": "code",
   "execution_count": null,
   "id": "divine-inspection",
   "metadata": {},
   "outputs": [],
   "source": [
    "# Create a figure with four subplots, all of which share the same x-axis\n",
    "fig, ax = plt.subplots(4, 1, figsize=(9, 12), sharex=True)\n",
    "\n",
    "# Plot joint angle of platform on first subplot\n",
    "ax[0].plot(data['t'], data['q'], label='joint angle of platform (rad)', linewidth=4)\n",
    "ax[0].plot(data['t'], np.ones_like(data['t']) * controller.q_e, '--', label='desired joint angle of platform (rad)', linewidth=4)\n",
    "ax[0].grid()\n",
    "ax[0].legend(fontsize=16)\n",
    "ax[0].tick_params(labelsize=14)\n",
    "\n",
    "# Plot joint velocity of platform on second subplot\n",
    "ax[1].plot(data['t'], data['v'], label='joint velocity of platform (rad / s)', linewidth=4)\n",
    "ax[1].grid()\n",
    "ax[1].legend(fontsize=16)\n",
    "ax[1].tick_params(labelsize=14)\n",
    "\n",
    "# Plot joint velocity of wheel on third subplot\n",
    "ax[2].plot(data['t'], data['v_wheel'], label='joint velocity of wheel (rad / s)', linewidth=4)\n",
    "ax[2].grid()\n",
    "ax[2].legend(fontsize=16)\n",
    "ax[2].tick_params(labelsize=14)\n",
    "\n",
    "# Plot joint torque on fourth subplot\n",
    "ax[3].plot(data['t'], data['tau'], label='joint torque command (N-m)', linewidth=4)\n",
    "ax[3].plot(data['t'], np.ones_like(data['t']) * robot.tau_max, '--', label='max joint torque', linewidth=4, color='C1')\n",
    "ax[3].plot(data['t'], -np.ones_like(data['t']) * robot.tau_max, '--', linewidth=4, color='C1')\n",
    "ax[3].grid()\n",
    "ax[3].legend(fontsize=16)\n",
    "ax[3].tick_params(labelsize=14)\n",
    "\n",
    "# Set x-axis properties (only need to do this on the fourth\n",
    "# subplot since all four subplots share the same x-axis)\n",
    "ax[3].set_xlabel('time (s)', fontsize=20)\n",
    "ax[3].set_xlim([data['t'][0], data['t'][-1]])\n",
    "\n",
    "# Make the arrangement of subplots look nice\n",
    "fig.tight_layout()"
   ]
  },
  {
   "cell_type": "markdown",
   "id": "noble-jonathan",
   "metadata": {},
   "source": [
    "# Calculations"
   ]
  },
  {
   "cell_type": "markdown",
   "id": "decimal-circus",
   "metadata": {},
   "source": [
    "Choose platform mass so the state space model is simple."
   ]
  },
  {
   "cell_type": "code",
   "execution_count": null,
   "id": "unknown-insertion",
   "metadata": {},
   "outputs": [],
   "source": [
    "# distance from platform axis to wheel axis\n",
    "l = 1.\n",
    "\n",
    "# radius of wheel\n",
    "rw = 0.5\n",
    "\n",
    "# mass of wheel\n",
    "mw = 0.25\n",
    "\n",
    "# moi of wheel\n",
    "Jw = 0.5 * mw * rw**2\n",
    "\n",
    "# mass of platform\n",
    "mp = 12. * (1. - mw * l**2) / (3.**2 + 2.**2)\n",
    "\n",
    "# moment of inertia of platform\n",
    "Jp = (1. / 12.) * mp * (3.**2 + 2.**2)\n",
    "\n",
    "print(f'mp = {mp}')\n",
    "print(f'Jp = {Jp} ({(1. / 12.) * mp * (3.**2 + 0.2**2)}, {(1. / 12.) * mp * (2.**2 + 0.2**2)})')\n",
    "print(f'mw = {mw}')\n",
    "print(f'Jw = {Jw} ({(1. / 12.) * mw * (3. * rw**2 + 0.2**2)})')\n",
    "print(f'Jp + mw * l**2 = {Jp + mw * l**2}')"
   ]
  },
  {
   "cell_type": "code",
   "execution_count": null,
   "id": "fatty-queue",
   "metadata": {},
   "outputs": [],
   "source": []
  }
 ],
 "metadata": {
  "kernelspec": {
   "display_name": "Python 3",
   "language": "python",
   "name": "python3"
  },
  "language_info": {
   "codemirror_mode": {
    "name": "ipython",
    "version": 3
   },
   "file_extension": ".py",
   "mimetype": "text/x-python",
   "name": "python",
   "nbconvert_exporter": "python",
   "pygments_lexer": "ipython3",
   "version": "3.9.1"
  }
 },
 "nbformat": 4,
 "nbformat_minor": 5
}
