{
 "cells": [
  {
   "cell_type": "markdown",
   "id": "middle-acoustic",
   "metadata": {},
   "source": [
    "# Differential drive robot (a.k.a., the \"segbot\")"
   ]
  },
  {
   "cell_type": "markdown",
   "id": "working-minority",
   "metadata": {},
   "source": [
    "Import modules and configure the notebook."
   ]
  },
  {
   "cell_type": "code",
   "execution_count": null,
   "id": "dimensional-contamination",
   "metadata": {},
   "outputs": [],
   "source": [
    "# This module is part of the python standard library\n",
    "import time\n",
    "\n",
    "# These modules are part of other existing libraries\n",
    "import numpy as np\n",
    "import matplotlib.pyplot as plt\n",
    "\n",
    "# This is my own script (it is an interface to the pybullet simulator)\n",
    "import ae353_segbot\n",
    "\n",
    "# I often go back and forth between making changes to my scripts and to\n",
    "# the notebook in which they are used. One \"gotcha\" is that notebooks only\n",
    "# import modules or scripts ONCE. Subsequent imports don't do anything, and\n",
    "# in particular won't reflect any changes I've made to my scripts. To make\n",
    "# sure that I'm working with the latest version of my code, I use this bit\n",
    "# of magic, which forces the notebook to \"reload\" my script:\n",
    "import importlib\n",
    "importlib.reload(ae353_segbot)"
   ]
  },
  {
   "cell_type": "markdown",
   "id": "protective-retreat",
   "metadata": {},
   "source": [
    "Create an instance of the robot simulator. This will open a window in which you should see the segbot.\n",
    "\n",
    "There are three optional parameters:\n",
    "\n",
    "* `damping` is the coefficient of viscous friction at each wheel joint (the default value is `0.`)\n",
    "* `dt` is the length of each time step in the simulator (the default value is `0.01`)\n",
    "* `display` is a flag that says whether or not to open the GUI (the default value is `True`)\n",
    "\n",
    "The `display` parameter, in particular, is likely to be of use to you. If you set `display=True`, then you will run the simulator in real-time with a GUI. If you set `display=False`, then you will run the simulator as fast as possible (faster than real-time) without a GUI. This is convenient when all you want is the data.\n",
    "\n",
    "**NOTE:** it is still necessary to reset the kernel (see the \"Kernel\" menu above) before creating a new instance of the robot simulator, even when running without a GUI - if you don't, then you'll notice that simulation slows way down."
   ]
  },
  {
   "cell_type": "code",
   "execution_count": null,
   "id": "placed-messenger",
   "metadata": {},
   "outputs": [],
   "source": [
    "robot = ae353_segbot.RobotSimulator(damping=0., dt=0.01, display=True)"
   ]
  },
  {
   "cell_type": "markdown",
   "id": "accepting-peeing",
   "metadata": {},
   "source": [
    "Define and create an instance of the robot controller. By default, it chooses to apply zero torque both to the gimbal and to the rotor. Modify the `run` function - or anything else in the class definition - to make the controller behave differently."
   ]
  },
  {
   "cell_type": "code",
   "execution_count": null,
   "id": "dietary-syracuse",
   "metadata": {},
   "outputs": [],
   "source": [
    "class RobotController:\n",
    "    def __init__(self, dt=0.01):\n",
    "        self.dt = dt    \n",
    "    \n",
    "    def run(self, lateral_error, heading_error, forward_speed, turning_rate, pitch_angle, pitch_rate):\n",
    "        tau_left = 0.  # <--- torque applied to left wheel (positive means rolling forward)\n",
    "        tau_right = 0. # <--- torque applied to right wheel (positive means rolling forward)\n",
    "        return tau_left, tau_right\n",
    "\n",
    "controller = RobotController(dt=robot.dt)"
   ]
  },
  {
   "cell_type": "markdown",
   "id": "relative-aquarium",
   "metadata": {},
   "source": [
    "Run the simulation. It is a loop. At each iteration, we:\n",
    "* get sensor measurements\n",
    "* choose actuator commands\n",
    "* go forward one time step\n",
    "\n",
    "We also log data so that we can plot it later, if we want."
   ]
  },
  {
   "cell_type": "code",
   "execution_count": null,
   "id": "professional-dayton",
   "metadata": {},
   "outputs": [],
   "source": [
    "# Restore the simulation to its initial state\n",
    "robot.reset(turn_left=False,            # does the robot turn left or right around the track\n",
    "            ground_pitch=0.,            # angle that the track is sloped (rad)\n",
    "            initial_speed=0.,           # initial forward speed of segbot (m/s)\n",
    "            initial_lateral_error=0.,   # initial lateral error of segbot (m)\n",
    "            initial_heading_error=0.,   # initial heading error of segbot (rad)\n",
    "            initial_pitch=0.)           # initial pitch angle of chassis (rad)\n",
    "\n",
    "# Choose a camera view\n",
    "robot.camera_sideview()\n",
    "# robot.camera_topview()\n",
    "# robot.camera_chaseview(yaw=270.)\n",
    "\n",
    "# Choose how long we want to run the simulation, and\n",
    "# compute the corresponding number of time steps\n",
    "run_time = 5.\n",
    "num_steps = int(run_time/robot.dt)\n",
    "\n",
    "# Create a dictionary in which to store results\n",
    "data = {\n",
    "    't': np.empty(num_steps, dtype=float),\n",
    "    'lateral_error': np.empty(num_steps, dtype=float),\n",
    "    'heading_error': np.empty(num_steps, dtype=float),\n",
    "    'forward_speed': np.empty(num_steps, dtype=float),\n",
    "    'turning_rate': np.empty(num_steps, dtype=float),\n",
    "    'pitch_angle': np.empty(num_steps, dtype=float),\n",
    "    'pitch_rate': np.empty(num_steps, dtype=float),\n",
    "    'tau_left_command': np.empty(num_steps, dtype=float),\n",
    "    'tau_right_command': np.empty(num_steps, dtype=float),\n",
    "    'tau_left': np.empty(num_steps, dtype=float),\n",
    "    'tau_right': np.empty(num_steps, dtype=float),\n",
    "}\n",
    "\n",
    "# Run the simulation loop\n",
    "start_time = time.time()\n",
    "for step in range(num_steps):\n",
    "    # Get the current time\n",
    "    t = robot.dt * step\n",
    "    \n",
    "    # Get the sensor measurements\n",
    "    (lateral_error,\n",
    "     heading_error,\n",
    "     forward_speed,\n",
    "     turning_rate,\n",
    "     pitch_angle,\n",
    "     pitch_rate) = robot.get_sensor_measurements()\n",
    "    \n",
    "    # Choose the actuator command (by running the controller)\n",
    "    tau_left_command, tau_right_command = controller.run(lateral_error,\n",
    "                                                         heading_error,\n",
    "                                                         forward_speed,\n",
    "                                                         turning_rate,\n",
    "                                                         pitch_angle,\n",
    "                                                         pitch_rate)\n",
    "    \n",
    "    # Apply the actuator commands\n",
    "    tau_left, tau_right = robot.set_actuator_commands(tau_left_command, tau_right_command)\n",
    "    \n",
    "    # Log the data from this time step\n",
    "    data['t'][step] = t\n",
    "    data['lateral_error'][step] = lateral_error\n",
    "    data['heading_error'][step] = heading_error\n",
    "    data['forward_speed'][step] = forward_speed\n",
    "    data['turning_rate'][step] = turning_rate\n",
    "    data['pitch_angle'][step] = pitch_angle\n",
    "    data['pitch_rate'][step] = pitch_rate\n",
    "    data['tau_left_command'][step] = tau_left_command\n",
    "    data['tau_right_command'][step] = tau_right_command\n",
    "    data['tau_left'][step] = tau_left\n",
    "    data['tau_right'][step] = tau_right\n",
    "    \n",
    "    # Simulate one time step\n",
    "    robot.step(t=(start_time + (robot.dt * (step + 1))))"
   ]
  },
  {
   "cell_type": "markdown",
   "id": "alternate-pregnancy",
   "metadata": {},
   "source": [
    "An example of how to plot results. This is just an example!"
   ]
  },
  {
   "cell_type": "code",
   "execution_count": null,
   "id": "divine-inspection",
   "metadata": {},
   "outputs": [],
   "source": [
    "# Create a figure with four subplots, all of which share the same x-axis\n",
    "fig, ax = plt.subplots(4, 1, figsize=(9, 12), sharex=True)\n",
    "\n",
    "# First subplot\n",
    "ax[0].plot(data['t'], data['lateral_error'], label='lateral error (m)', linewidth=2)\n",
    "ax[0].plot(data['t'], data['heading_error'], label='heading error (rad)', linewidth=2)\n",
    "ax[0].grid()\n",
    "ax[0].legend(fontsize=16)\n",
    "ax[0].tick_params(labelsize=14)\n",
    "\n",
    "# Second subplot\n",
    "ax[1].plot(data['t'], data['forward_speed'], label='forward speed (m/s)', linewidth=2)\n",
    "ax[1].plot(data['t'], data['turning_rate'], label='turning rate (rad/s)', linewidth=2)\n",
    "ax[1].grid()\n",
    "ax[1].legend(fontsize=16)\n",
    "ax[1].tick_params(labelsize=14)\n",
    "\n",
    "# Third subplot\n",
    "ax[2].plot(data['t'], data['pitch_angle'], label='pitch angle (rad)', linewidth=2)\n",
    "ax[2].plot(data['t'], data['pitch_rate'], label='pitch rate (rad/s)', linewidth=2)\n",
    "ax[2].grid()\n",
    "ax[2].legend(fontsize=16)\n",
    "ax[2].tick_params(labelsize=14)\n",
    "\n",
    "# Fourth subplot\n",
    "ax[3].plot(data['t'], data['tau_left'], label='left wheel torque (N-m)', linewidth=4)\n",
    "ax[3].plot(data['t'], data['tau_right'], label='right wheel torque (N-m)', linewidth=4)\n",
    "ax[3].plot(data['t'], np.ones_like(data['t']) * robot.tau_max, '--', label='max torque', linewidth=4, color='C2')\n",
    "ax[3].plot(data['t'], -np.ones_like(data['t']) * robot.tau_max, '--', linewidth=4, color='C2')\n",
    "ax[3].grid()\n",
    "ax[3].legend(fontsize=16)\n",
    "ax[3].tick_params(labelsize=14)\n",
    "ax[3].set_ylim(-1.2 * robot.tau_max, 1.2 * robot.tau_max)\n",
    "\n",
    "# Set x-axis properties (only need to do this on the fourth\n",
    "# subplot since all four subplots share the same x-axis)\n",
    "ax[3].set_xlabel('time (s)', fontsize=20)\n",
    "ax[3].set_xlim([data['t'][0], data['t'][-1]])\n",
    "\n",
    "# Make the arrangement of subplots look nice\n",
    "fig.tight_layout()"
   ]
  },
  {
   "cell_type": "code",
   "execution_count": null,
   "id": "demographic-fetish",
   "metadata": {},
   "outputs": [],
   "source": []
  }
 ],
 "metadata": {
  "kernelspec": {
   "display_name": "Python 3",
   "language": "python",
   "name": "python3"
  },
  "language_info": {
   "codemirror_mode": {
    "name": "ipython",
    "version": 3
   },
   "file_extension": ".py",
   "mimetype": "text/x-python",
   "name": "python",
   "nbconvert_exporter": "python",
   "pygments_lexer": "ipython3",
   "version": "3.9.1"
  }
 },
 "nbformat": 4,
 "nbformat_minor": 5
}
