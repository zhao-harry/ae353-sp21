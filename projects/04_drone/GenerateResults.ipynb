{
 "cells": [
  {
   "cell_type": "markdown",
   "metadata": {},
   "source": [
    "# Controller and Observer for Quadrotor Drone and Motion Capture System – Harry Zhao"
   ]
  },
  {
   "cell_type": "markdown",
   "metadata": {},
   "source": [
    "Import libraries"
   ]
  },
  {
   "cell_type": "code",
   "execution_count": 1,
   "metadata": {},
   "outputs": [],
   "source": [
    "import os\n",
    "import time\n",
    "import matplotlib.pyplot as plt\n",
    "import numpy as np\n",
    "from scipy import linalg, interpolate, spatial\n",
    "import sympy as sym\n",
    "import ae353_drone"
   ]
  },
  {
   "cell_type": "markdown",
   "metadata": {},
   "source": [
    "Set print options for printing matrices"
   ]
  },
  {
   "cell_type": "code",
   "execution_count": 2,
   "metadata": {},
   "outputs": [],
   "source": [
    "np.set_printoptions(precision=4)\n",
    "np.set_printoptions(suppress=True)"
   ]
  },
  {
   "cell_type": "markdown",
   "metadata": {},
   "source": [
    "## 1. Dynamic Model and Controller Design"
   ]
  },
  {
   "cell_type": "markdown",
   "metadata": {},
   "source": [
    "**A. Equations of Motion**\n",
    "\n",
    "The following code block includes the physical parameters of the drone and the calculation of the equations of motion, contained in matrix `f` and which are linearized to create the state-space form of the system. This code is taken from `DeriveEOM.ipynb`."
   ]
  },
  {
   "cell_type": "code",
   "execution_count": 3,
   "metadata": {},
   "outputs": [
    {
     "data": {
      "text/latex": [
       "$\\displaystyle \\left[\\begin{matrix}v_{x}\\\\v_{y}\\\\v_{z}\\\\\\frac{w_{x} \\cos{\\left(\\psi \\right)} - w_{y} \\sin{\\left(\\psi \\right)}}{\\cos{\\left(\\theta \\right)}}\\\\w_{x} \\sin{\\left(\\psi \\right)} + w_{y} \\cos{\\left(\\psi \\right)}\\\\- w_{x} \\cos{\\left(\\psi \\right)} \\tan{\\left(\\theta \\right)} + w_{y} \\sin{\\left(\\psi \\right)} \\tan{\\left(\\theta \\right)} + w_{z}\\\\2 f_{z} \\sin{\\left(\\theta \\right)}\\\\- 2 f_{z} \\sin{\\left(\\phi \\right)} \\cos{\\left(\\theta \\right)}\\\\2 f_{z} \\cos{\\left(\\phi \\right)} \\cos{\\left(\\theta \\right)} - \\frac{981}{100}\\\\\\frac{10000 \\tau_{x}}{23} - \\frac{17 w_{y} w_{z}}{23}\\\\\\frac{10000 \\tau_{y}}{23} + \\frac{17 w_{x} w_{z}}{23}\\\\250 \\tau_{z}\\end{matrix}\\right]$"
      ],
      "text/plain": [
       "Matrix([\n",
       "[                                                     v_x],\n",
       "[                                                     v_y],\n",
       "[                                                     v_z],\n",
       "[                (w_x*cos(psi) - w_y*sin(psi))/cos(theta)],\n",
       "[                             w_x*sin(psi) + w_y*cos(psi)],\n",
       "[-w_x*cos(psi)*tan(theta) + w_y*sin(psi)*tan(theta) + w_z],\n",
       "[                                        2*f_z*sin(theta)],\n",
       "[                              -2*f_z*sin(phi)*cos(theta)],\n",
       "[                     2*f_z*cos(phi)*cos(theta) - 981/100],\n",
       "[                          10000*tau_x/23 - 17*w_y*w_z/23],\n",
       "[                          10000*tau_y/23 + 17*w_x*w_z/23],\n",
       "[                                               250*tau_z]])"
      ]
     },
     "execution_count": 3,
     "metadata": {},
     "output_type": "execute_result"
    }
   ],
   "source": [
    "m = sym.nsimplify(0.5)\n",
    "J1 = sym.nsimplify(0.0023)\n",
    "J2 = sym.nsimplify(0.0023)\n",
    "J3 = sym.nsimplify(0.0040)\n",
    "l = sym.nsimplify(0.175)\n",
    "g = sym.nsimplify(9.81)\n",
    "\n",
    "# components of position (meters)\n",
    "p_x, p_y, p_z = sym.symbols('p_x, p_y, p_z')\n",
    "\n",
    "# roll, pitch, yaw angles (radians)\n",
    "phi, theta, psi = sym.symbols('phi, theta, psi')\n",
    "\n",
    "# components of linear velocity (meters / second)\n",
    "v_x, v_y, v_z = sym.symbols('v_x, v_y, v_z')\n",
    "\n",
    "# components of angular velocity (radians / second)\n",
    "w_x, w_y, w_z = sym.symbols('w_x, w_y, w_z')\n",
    "\n",
    "# components of net rotor torque\n",
    "tau_x, tau_y, tau_z = sym.symbols('tau_x, tau_y, tau_z')\n",
    "\n",
    "# net rotor force\n",
    "f_z = sym.symbols('f_z')\n",
    "\n",
    "# parameters\n",
    "m = sym.nsimplify(0.5)\n",
    "Jx = sym.nsimplify(0.0023)\n",
    "Jy = sym.nsimplify(0.0023)\n",
    "Jz = sym.nsimplify(0.0040)\n",
    "l = sym.nsimplify(0.175)\n",
    "g = sym.nsimplify(9.81)\n",
    "\n",
    "# rotation matrices\n",
    "Rx = sym.Matrix([[1, 0, 0], [0, sym.cos(phi), -sym.sin(phi)], [0, sym.sin(phi), sym.cos(phi)]])\n",
    "Ry = sym.Matrix([[sym.cos(theta), 0, sym.sin(theta)], [0, 1, 0], [-sym.sin(theta), 0, sym.cos(theta)]])\n",
    "Rz = sym.Matrix([[sym.cos(psi), -sym.sin(psi), 0], [sym.sin(psi), sym.cos(psi), 0], [0, 0, 1]])\n",
    "Rxyz = Rx * Ry * Rz\n",
    "\n",
    "# angular velocity to angular rates\n",
    "ex = sym.Matrix([[1], [0], [0]])\n",
    "ey = sym.Matrix([[0], [1], [0]])\n",
    "ez = sym.Matrix([[0], [0], [1]])\n",
    "M = sym.simplify(sym.Matrix.hstack((Ry * Rz).T * ex, Rz.T * ey, ez).inv(), full=True)\n",
    "\n",
    "# applied forces\n",
    "forces = sym.Matrix([[0], [0], [-m * g]]) + Rxyz * sym.Matrix([[0], [0], [f_z]])\n",
    "\n",
    "# euler's equations\n",
    "euler = sym.Matrix([[(1 / Jx) * (tau_x + (Jy - Jz) * w_y * w_z)],\n",
    "                   [(1 / Jy) * (tau_y + (Jz - Jx) * w_z * w_x)],\n",
    "                   [(1 / Jz) * (tau_z + (Jx - Jy) * w_x * w_y)]])\n",
    "\n",
    "# equations of motion\n",
    "f = sym.Matrix.vstack(sym.Matrix([[v_x], [v_y], [v_z]]),\n",
    "                      M * sym.Matrix([[w_x], [w_y], [w_z]]),\n",
    "                      (1 / m) * forces,\n",
    "                      euler)\n",
    "f = sym.simplify(f, full=True)\n",
    "f"
   ]
  },
  {
   "cell_type": "markdown",
   "metadata": {},
   "source": [
    "**B. Linearization**\n",
    "\n",
    "`f` is linearized to create state matrix `A` and input matrix `B`. `A` is the Jacobian of `f` with respect to the state variables, and `B` is the Jacobian of `f` with respect to the input variables. Equilibrium values for each variable are name with the suffix `_e`. All equilibrium values are zero, with the exception of `f_z_e`, which is chosen to be the weight of the drone. `A` and `B` are intended to satisfy the following relationship.\n",
    "\n",
    "$$\\dot x = Ax + Bu$$"
   ]
  },
  {
   "cell_type": "code",
   "execution_count": 4,
   "metadata": {},
   "outputs": [
    {
     "name": "stdout",
     "output_type": "stream",
     "text": [
      "\n",
      "State Matrix (A)\n",
      "\n",
      "[[ 0.    0.    0.    0.    0.    0.    1.    0.    0.    0.    0.    0.  ]\n",
      " [ 0.    0.    0.    0.    0.    0.    0.    1.    0.    0.    0.    0.  ]\n",
      " [ 0.    0.    0.    0.    0.    0.    0.    0.    1.    0.    0.    0.  ]\n",
      " [ 0.    0.    0.    0.    0.   -0.    0.    0.    0.    1.   -0.    0.  ]\n",
      " [ 0.    0.    0.    0.    0.    0.    0.    0.    0.    0.    1.    0.  ]\n",
      " [ 0.    0.    0.    0.    0.    0.    0.    0.    0.   -0.    0.    1.  ]\n",
      " [ 0.    0.    0.    0.    9.81  0.    0.    0.    0.    0.    0.    0.  ]\n",
      " [ 0.    0.    0.   -9.81  0.    0.    0.    0.    0.    0.    0.    0.  ]\n",
      " [ 0.    0.    0.   -0.   -0.    0.    0.    0.    0.    0.    0.    0.  ]\n",
      " [ 0.    0.    0.    0.    0.    0.    0.    0.    0.    0.   -0.   -0.  ]\n",
      " [ 0.    0.    0.    0.    0.    0.    0.    0.    0.    0.    0.    0.  ]\n",
      " [ 0.    0.    0.    0.    0.    0.    0.    0.    0.    0.    0.    0.  ]]\n",
      "\n",
      "Input Matrix (B)\n",
      "\n",
      "[[  0.       0.       0.       0.    ]\n",
      " [  0.       0.       0.       0.    ]\n",
      " [  0.       0.       0.       0.    ]\n",
      " [  0.       0.       0.       0.    ]\n",
      " [  0.       0.       0.       0.    ]\n",
      " [  0.       0.       0.       0.    ]\n",
      " [  0.       0.       0.       0.    ]\n",
      " [  0.       0.       0.      -0.    ]\n",
      " [  0.       0.       0.       2.    ]\n",
      " [434.7826   0.       0.       0.    ]\n",
      " [  0.     434.7826   0.       0.    ]\n",
      " [  0.       0.     250.       0.    ]]\n"
     ]
    }
   ],
   "source": [
    "# Equilibrium values\n",
    "p_x_e = 0.\n",
    "p_y_e = 0.\n",
    "p_z_e = 0.\n",
    "phi_e = 0.\n",
    "theta_e = 0.\n",
    "psi_e = 0.\n",
    "v_x_e = 0.\n",
    "v_y_e = 0.\n",
    "v_z_e = 0.\n",
    "w_x_e = 0.\n",
    "w_y_e = 0.\n",
    "w_z_e = 0.\n",
    "tau_x_e = 0.\n",
    "tau_y_e = 0.\n",
    "tau_z_e = 0.\n",
    "f_z_e = float(m * g)\n",
    "\n",
    "# Find A and B\n",
    "A_num = sym.lambdify((p_x, p_y, p_z, phi, theta, psi, v_x, v_y, v_z, w_x, w_y, w_z, f_z, tau_x, tau_y, tau_z), f.jacobian([p_x, p_y, p_z, phi, theta, psi, v_x, v_y, v_z, w_x, w_y, w_z]))\n",
    "A = A_num(p_x_e, p_y_e, p_z_e, phi_e, theta_e, psi_e, v_x_e, v_y_e, v_z_e, w_x_e, w_y_e, w_z_e, f_z_e, tau_x_e, tau_y_e, tau_z_e)\n",
    "print('\\nState Matrix (A)\\n')\n",
    "print(A)\n",
    "\n",
    "B_num = sym.lambdify((p_x, p_y, p_z, phi, theta, psi, v_x, v_y, v_z, w_x, w_y, w_z, f_z, tau_x, tau_y, tau_z), f.jacobian([tau_x, tau_y, tau_z, f_z]))\n",
    "B = B_num(p_x_e, p_y_e, p_z_e, phi_e, theta_e, psi_e, v_x_e, v_y_e, v_z_e, w_x_e, w_y_e, w_z_e, f_z_e, tau_x_e, tau_y_e, tau_z_e)\n",
    "print('\\nInput Matrix (B)\\n')\n",
    "print(B)"
   ]
  },
  {
   "cell_type": "markdown",
   "metadata": {},
   "source": [
    "**C. Controllability**\n",
    "\n",
    "In this section, the system described by `A` and `B` is checked for controllability using the controllability matrix `W`. Should `W` be full rank, the system is controllable. The dimensions and rank of the matrix, as well as the matrix itself, are printed. The controllability matrix is a block matrix as shown below.\n",
    "\n",
    "$$W = [B \\quad AB \\quad AB^2 \\quad ... \\quad A^{n_{x} - 1}]$$"
   ]
  },
  {
   "cell_type": "code",
   "execution_count": 5,
   "metadata": {},
   "outputs": [
    {
     "name": "stdout",
     "output_type": "stream",
     "text": [
      "\n",
      "Rank for controllability matrix (W): 12\n",
      "\n",
      "Shape of controllability matrix (W): 12 x 48\n",
      "\n",
      "[[    0.         0.         0.         0.         0.         0.\n",
      "      0.         0.         0.         0.         0.         0.\n",
      "      0.      4265.2174     0.         0.         0.         0.\n",
      "      0.         0.         0.         0.         0.         0.\n",
      "      0.         0.         0.         0.         0.         0.\n",
      "      0.         0.         0.         0.         0.         0.\n",
      "      0.         0.         0.         0.         0.         0.\n",
      "      0.         0.         0.         0.         0.         0.    ]\n",
      " [    0.         0.         0.         0.         0.         0.\n",
      "      0.         0.         0.         0.         0.         0.\n",
      "  -4265.2174     0.         0.         0.         0.         0.\n",
      "      0.         0.         0.         0.         0.         0.\n",
      "      0.         0.         0.         0.         0.         0.\n",
      "      0.         0.         0.         0.         0.         0.\n",
      "      0.         0.         0.         0.         0.         0.\n",
      "      0.         0.         0.         0.         0.         0.    ]\n",
      " [    0.         0.         0.         0.         0.         0.\n",
      "      0.         2.         0.         0.         0.         0.\n",
      "      0.         0.         0.         0.         0.         0.\n",
      "      0.         0.         0.         0.         0.         0.\n",
      "      0.         0.         0.         0.         0.         0.\n",
      "      0.         0.         0.         0.         0.         0.\n",
      "      0.         0.         0.         0.         0.         0.\n",
      "      0.         0.         0.         0.         0.         0.    ]\n",
      " [    0.         0.         0.         0.       434.7826     0.\n",
      "      0.         0.         0.         0.         0.         0.\n",
      "      0.         0.         0.         0.         0.         0.\n",
      "      0.         0.         0.         0.         0.         0.\n",
      "      0.         0.         0.         0.         0.         0.\n",
      "      0.         0.         0.         0.         0.         0.\n",
      "      0.         0.         0.         0.         0.         0.\n",
      "      0.         0.         0.         0.         0.         0.    ]\n",
      " [    0.         0.         0.         0.         0.       434.7826\n",
      "      0.         0.         0.         0.         0.         0.\n",
      "      0.         0.         0.         0.         0.         0.\n",
      "      0.         0.         0.         0.         0.         0.\n",
      "      0.         0.         0.         0.         0.         0.\n",
      "      0.         0.         0.         0.         0.         0.\n",
      "      0.         0.         0.         0.         0.         0.\n",
      "      0.         0.         0.         0.         0.         0.    ]\n",
      " [    0.         0.         0.         0.         0.         0.\n",
      "    250.         0.         0.         0.         0.         0.\n",
      "      0.         0.         0.         0.         0.         0.\n",
      "      0.         0.         0.         0.         0.         0.\n",
      "      0.         0.         0.         0.         0.         0.\n",
      "      0.         0.         0.         0.         0.         0.\n",
      "      0.         0.         0.         0.         0.         0.\n",
      "      0.         0.         0.         0.         0.         0.    ]\n",
      " [    0.         0.         0.         0.         0.         0.\n",
      "      0.         0.         0.      4265.2174     0.         0.\n",
      "      0.         0.         0.         0.         0.         0.\n",
      "      0.         0.         0.         0.         0.         0.\n",
      "      0.         0.         0.         0.         0.         0.\n",
      "      0.         0.         0.         0.         0.         0.\n",
      "      0.         0.         0.         0.         0.         0.\n",
      "      0.         0.         0.         0.         0.         0.    ]\n",
      " [    0.         0.         0.        -0.         0.         0.\n",
      "      0.         0.     -4265.2174     0.         0.         0.\n",
      "      0.         0.         0.         0.         0.         0.\n",
      "      0.         0.         0.         0.         0.         0.\n",
      "      0.         0.         0.         0.         0.         0.\n",
      "      0.         0.         0.         0.         0.         0.\n",
      "      0.         0.         0.         0.         0.         0.\n",
      "      0.         0.         0.         0.         0.         0.    ]\n",
      " [    0.         0.         0.         2.         0.         0.\n",
      "      0.         0.         0.         0.         0.         0.\n",
      "      0.         0.         0.         0.         0.         0.\n",
      "      0.         0.         0.         0.         0.         0.\n",
      "      0.         0.         0.         0.         0.         0.\n",
      "      0.         0.         0.         0.         0.         0.\n",
      "      0.         0.         0.         0.         0.         0.\n",
      "      0.         0.         0.         0.         0.         0.    ]\n",
      " [  434.7826     0.         0.         0.         0.         0.\n",
      "      0.         0.         0.         0.         0.         0.\n",
      "      0.         0.         0.         0.         0.         0.\n",
      "      0.         0.         0.         0.         0.         0.\n",
      "      0.         0.         0.         0.         0.         0.\n",
      "      0.         0.         0.         0.         0.         0.\n",
      "      0.         0.         0.         0.         0.         0.\n",
      "      0.         0.         0.         0.         0.         0.    ]\n",
      " [    0.       434.7826     0.         0.         0.         0.\n",
      "      0.         0.         0.         0.         0.         0.\n",
      "      0.         0.         0.         0.         0.         0.\n",
      "      0.         0.         0.         0.         0.         0.\n",
      "      0.         0.         0.         0.         0.         0.\n",
      "      0.         0.         0.         0.         0.         0.\n",
      "      0.         0.         0.         0.         0.         0.\n",
      "      0.         0.         0.         0.         0.         0.    ]\n",
      " [    0.         0.       250.         0.         0.         0.\n",
      "      0.         0.         0.         0.         0.         0.\n",
      "      0.         0.         0.         0.         0.         0.\n",
      "      0.         0.         0.         0.         0.         0.\n",
      "      0.         0.         0.         0.         0.         0.\n",
      "      0.         0.         0.         0.         0.         0.\n",
      "      0.         0.         0.         0.         0.         0.\n",
      "      0.         0.         0.         0.         0.         0.    ]]\n"
     ]
    }
   ],
   "source": [
    "n = A.shape[0]\n",
    "W = B\n",
    "for i in range(1, n):\n",
    "    col = np.linalg.matrix_power(A, i) @ B\n",
    "    W = np.block([W, col])\n",
    "rank = np.linalg.matrix_rank(W)\n",
    "print('\\nRank for controllability matrix (W): {}'.format(rank))\n",
    "print('\\nShape of controllability matrix (W): {} x {}\\n'.format(W.shape[0], W.shape[1]))\n",
    "print(W)"
   ]
  },
  {
   "cell_type": "markdown",
   "metadata": {},
   "source": [
    "**D. Optimal Controller Design**\n",
    "\n",
    "The infinite horizon LQR problem is solved to minimize the following cost function.\n",
    "\n",
    "$$\\int_{t_0}^{∞} (x(t)^T Q_c x(t) + u(t)^T R_c u(t))\\,dt$$\n",
    "\n",
    "The chosen weight matrices are diagonal matrices, with diagonal values indicated below in the code.\n",
    "\n",
    "This yields the optimal cost matrix `P`, which is then used to calculate the optimal controller gain matrix `K` with the following formula.\n",
    "\n",
    "$$K=R_{c}^{-1} B^T P$$"
   ]
  },
  {
   "cell_type": "code",
   "execution_count": 6,
   "metadata": {},
   "outputs": [
    {
     "name": "stdout",
     "output_type": "stream",
     "text": [
      "\n",
      "Gain Matrix (K)\n",
      "\n",
      "[[-0.     -1.2613  0.      3.0504 -0.     -0.     -0.     -0.8942 -0.      0.4593 -0.     -0.    ]\n",
      " [ 0.7282 -0.     -0.      0.      2.646  -0.      0.6387 -0.      0.     -0.      0.4573 -0.    ]\n",
      " [-0.      0.      0.     -0.     -0.      1.1415  0.      0.      0.     -0.     -0.      0.454 ]\n",
      " [ 0.      0.     10.247  -0.      0.      0.      0.      0.      3.3536 -0.      0.      0.    ]]\n"
     ]
    }
   ],
   "source": [
    "Q_c = np.diag([35, 105, 105, 86, 86, 86, 1, 1, 1, 13, 13, 13])\n",
    "R_c = np.diag([66, 66, 66, 1])\n",
    "P = linalg.solve_continuous_are(A, B, Q_c, R_c)\n",
    "K = linalg.inv(R_c) @  B.T @ P\n",
    "print('\\nGain Matrix (K)\\n')\n",
    "print(np.array2string(K, max_line_width=np.inf))"
   ]
  },
  {
   "cell_type": "markdown",
   "metadata": {},
   "source": [
    "**E. Stability**\n",
    "\n",
    "Examine the eigenvalues of the following equation.\n",
    "\n",
    "$$A-BK$$\n",
    "\n",
    "Should all eigenvalues have negative real parts, as shown below, the controller is stable, and the system will converge to equilibrium."
   ]
  },
  {
   "cell_type": "code",
   "execution_count": 7,
   "metadata": {},
   "outputs": [
    {
     "name": "stdout",
     "output_type": "stream",
     "text": [
      "(12, 12)\n",
      "[(-1.4452045022901296+1.810665227040146j), (-1.4452045022901296-1.810665227040146j), (-2.999357709291349+0j), (-192.94489081497971+0j), (-192.94489081401093+0j), (-110.92333892034307+0j), (-1.6771050344662681+2.311982614897156j), (-1.6771050344662681-2.311982614897156j), (-3.3536473824717437+3.040879932841743j), (-3.3536473824717437-3.040879932841743j), (-3.417824841955144+0j), (-2.5727307221698124+0j)]\n"
     ]
    }
   ],
   "source": [
    "F = A - B @ K\n",
    "print(F.shape)\n",
    "p = linalg.eigvals(F)\n",
    "print(p.tolist())"
   ]
  },
  {
   "cell_type": "markdown",
   "metadata": {},
   "source": [
    "## 2. Sensor Model and Observer Design"
   ]
  },
  {
   "cell_type": "markdown",
   "metadata": {},
   "source": [
    "**A. Sensor Model**\n",
    "\n",
    "The sensor model `g` is trivially determined as the available sensor measurements from the motion capture system. These variables are all shared with the state."
   ]
  },
  {
   "cell_type": "code",
   "execution_count": 8,
   "metadata": {},
   "outputs": [
    {
     "data": {
      "text/latex": [
       "$\\displaystyle \\left[\\begin{matrix}p_{x}\\\\p_{y}\\\\p_{z}\\\\\\phi\\\\\\theta\\\\\\psi\\end{matrix}\\right]$"
      ],
      "text/plain": [
       "Matrix([\n",
       "[  p_x],\n",
       "[  p_y],\n",
       "[  p_z],\n",
       "[  phi],\n",
       "[theta],\n",
       "[  psi]])"
      ]
     },
     "execution_count": 8,
     "metadata": {},
     "output_type": "execute_result"
    }
   ],
   "source": [
    "g = sym.Matrix([[p_x], [p_y], [p_z], [phi], [theta], [psi]])\n",
    "g"
   ]
  },
  {
   "cell_type": "markdown",
   "metadata": {},
   "source": [
    "**B. Linearization**\n",
    "\n",
    "`g` is linearized to create matrix state-output coefficient matrix `C`. `C` is the Jacobian of `g` with respect to the state variables. `C` is intended to satisfy the following relationship.\n",
    "\n",
    "$$y=Cx$$"
   ]
  },
  {
   "cell_type": "code",
   "execution_count": 9,
   "metadata": {},
   "outputs": [
    {
     "name": "stdout",
     "output_type": "stream",
     "text": [
      "\n",
      "State-Output Coefficient Matrix (C)\n",
      "\n",
      "[[1. 0. 0. 0. 0. 0. 0. 0. 0. 0. 0. 0.]\n",
      " [0. 1. 0. 0. 0. 0. 0. 0. 0. 0. 0. 0.]\n",
      " [0. 0. 1. 0. 0. 0. 0. 0. 0. 0. 0. 0.]\n",
      " [0. 0. 0. 1. 0. 0. 0. 0. 0. 0. 0. 0.]\n",
      " [0. 0. 0. 0. 1. 0. 0. 0. 0. 0. 0. 0.]\n",
      " [0. 0. 0. 0. 0. 1. 0. 0. 0. 0. 0. 0.]]\n"
     ]
    }
   ],
   "source": [
    "C_num = sym.lambdify((p_x, p_y, p_z, phi, theta, psi), g.jacobian([p_x, p_y, p_z, phi, theta, psi, v_x, v_y, v_z, w_x, w_y, w_z]))\n",
    "C = C_num(p_x_e, p_y_e, p_z_e, phi_e, theta_e, psi_e).astype(float)\n",
    "print('\\nState-Output Coefficient Matrix (C)\\n')\n",
    "print(C)"
   ]
  },
  {
   "cell_type": "markdown",
   "metadata": {},
   "source": [
    "**C. Observability**\n",
    "\n",
    "This section checks the observability of the system described by `A` and `C` using observability matrix `O`. Should `O` be full rank, the system is observable. The observability matrix is a block matrix as shown below.\n",
    "\n",
    "$$O = \\begin{bmatrix} C \\\\ CA \\\\ CA^2 \\\\ ... \\\\ CA^{n_{x} - 1} \\end{bmatrix}$$"
   ]
  },
  {
   "cell_type": "code",
   "execution_count": 10,
   "metadata": {},
   "outputs": [
    {
     "name": "stdout",
     "output_type": "stream",
     "text": [
      "\n",
      "Rank for observability matrix (O): 12\n",
      "\n",
      "Shape of observability matrix (O): 36 x 12\n",
      "\n",
      "[[ 1.    0.    0.    0.    0.    0.    0.    0.    0.    0.    0.    0.  ]\n",
      " [ 0.    1.    0.    0.    0.    0.    0.    0.    0.    0.    0.    0.  ]\n",
      " [ 0.    0.    1.    0.    0.    0.    0.    0.    0.    0.    0.    0.  ]\n",
      " [ 0.    0.    0.    1.    0.    0.    0.    0.    0.    0.    0.    0.  ]\n",
      " [ 0.    0.    0.    0.    1.    0.    0.    0.    0.    0.    0.    0.  ]\n",
      " [ 0.    0.    0.    0.    0.    1.    0.    0.    0.    0.    0.    0.  ]\n",
      " [ 0.    0.    0.    0.    0.    0.    1.    0.    0.    0.    0.    0.  ]\n",
      " [ 0.    0.    0.    0.    0.    0.    0.    1.    0.    0.    0.    0.  ]\n",
      " [ 0.    0.    0.    0.    0.    0.    0.    0.    1.    0.    0.    0.  ]\n",
      " [ 0.    0.    0.    0.    0.    0.    0.    0.    0.    1.    0.    0.  ]\n",
      " [ 0.    0.    0.    0.    0.    0.    0.    0.    0.    0.    1.    0.  ]\n",
      " [ 0.    0.    0.    0.    0.    0.    0.    0.    0.    0.    0.    1.  ]\n",
      " [ 0.    0.    0.    0.    9.81  0.    0.    0.    0.    0.    0.    0.  ]\n",
      " [ 0.    0.    0.   -9.81  0.    0.    0.    0.    0.    0.    0.    0.  ]\n",
      " [ 0.    0.    0.    0.    0.    0.    0.    0.    0.    0.    0.    0.  ]\n",
      " [ 0.    0.    0.    0.    0.    0.    0.    0.    0.    0.    0.    0.  ]\n",
      " [ 0.    0.    0.    0.    0.    0.    0.    0.    0.    0.    0.    0.  ]\n",
      " [ 0.    0.    0.    0.    0.    0.    0.    0.    0.    0.    0.    0.  ]\n",
      " [ 0.    0.    0.    0.    0.    0.    0.    0.    0.    0.    9.81  0.  ]\n",
      " [ 0.    0.    0.    0.    0.    0.    0.    0.    0.   -9.81  0.    0.  ]\n",
      " [ 0.    0.    0.    0.    0.    0.    0.    0.    0.    0.    0.    0.  ]\n",
      " [ 0.    0.    0.    0.    0.    0.    0.    0.    0.    0.    0.    0.  ]\n",
      " [ 0.    0.    0.    0.    0.    0.    0.    0.    0.    0.    0.    0.  ]\n",
      " [ 0.    0.    0.    0.    0.    0.    0.    0.    0.    0.    0.    0.  ]\n",
      " [ 0.    0.    0.    0.    0.    0.    0.    0.    0.    0.    0.    0.  ]\n",
      " [ 0.    0.    0.    0.    0.    0.    0.    0.    0.    0.    0.    0.  ]\n",
      " [ 0.    0.    0.    0.    0.    0.    0.    0.    0.    0.    0.    0.  ]\n",
      " [ 0.    0.    0.    0.    0.    0.    0.    0.    0.    0.    0.    0.  ]\n",
      " [ 0.    0.    0.    0.    0.    0.    0.    0.    0.    0.    0.    0.  ]\n",
      " [ 0.    0.    0.    0.    0.    0.    0.    0.    0.    0.    0.    0.  ]\n",
      " [ 0.    0.    0.    0.    0.    0.    0.    0.    0.    0.    0.    0.  ]\n",
      " [ 0.    0.    0.    0.    0.    0.    0.    0.    0.    0.    0.    0.  ]\n",
      " [ 0.    0.    0.    0.    0.    0.    0.    0.    0.    0.    0.    0.  ]\n",
      " [ 0.    0.    0.    0.    0.    0.    0.    0.    0.    0.    0.    0.  ]\n",
      " [ 0.    0.    0.    0.    0.    0.    0.    0.    0.    0.    0.    0.  ]\n",
      " [ 0.    0.    0.    0.    0.    0.    0.    0.    0.    0.    0.    0.  ]]\n"
     ]
    }
   ],
   "source": [
    "mp = np.linalg.matrix_power\n",
    "O = np.block([[C], [C @ A], [C @ mp(A, 2)], [C @ mp(A, 3)], [C @ mp(A, 4)], [C @ mp(A, 5)]])\n",
    "rank = np.linalg.matrix_rank(O)\n",
    "print('\\nRank for observability matrix (O): {}'.format(rank))\n",
    "print('\\nShape of observability matrix (O): {} x {}\\n'.format(O.shape[0], O.shape[1]))\n",
    "print(O)"
   ]
  },
  {
   "cell_type": "markdown",
   "metadata": {},
   "source": [
    "**D. Optimal Observer Design**\n",
    "\n",
    "The infinite horizon LQR problem is solved to minimize the following cost function.\n",
    "\n",
    "$$\\int_{-∞}^{t_1} (n(t)^T Q_o n(t) + d(t)^T R_o d(t))\\,dt$$\n",
    "\n",
    "The chosen weight matrices are diagonal matrices, with diagonal values indicated below in the code.\n",
    "\n",
    "This yields the optimal cost matrix `P`, which is then used to calculate the optimal observer gain matrix `L` with the following formula.\n",
    "\n",
    "$$L=P C^T Q_o$$"
   ]
  },
  {
   "cell_type": "code",
   "execution_count": 11,
   "metadata": {},
   "outputs": [
    {
     "name": "stdout",
     "output_type": "stream",
     "text": [
      "\n",
      "Observer gain matrix (L)\n",
      "\n",
      "[[-0.     -1.2613  0.      3.0504 -0.     -0.     -0.     -0.8942 -0.      0.4593 -0.     -0.    ]\n",
      " [ 0.7282 -0.     -0.      0.      2.646  -0.      0.6387 -0.      0.     -0.      0.4573 -0.    ]\n",
      " [-0.      0.      0.     -0.     -0.      1.1415  0.      0.      0.     -0.     -0.      0.454 ]\n",
      " [ 0.      0.     10.247  -0.      0.      0.      0.      0.      3.3536 -0.      0.      0.    ]]\n"
     ]
    }
   ],
   "source": [
    "Q_o = np.diag([80, 80, 80, 80, 80, 80])\n",
    "R_o = np.diag([1, 1, 1, 1, 1, 1, 1, 1, 1, 1, 1, 1])\n",
    "P = linalg.solve_continuous_are(A.T, C.T, linalg.inv(R_o), linalg.inv(Q_o))\n",
    "L = P @ C.T @ Q_o\n",
    "print('\\nObserver gain matrix (L)\\n')\n",
    "print(np.array2string(K, max_line_width=np.inf))"
   ]
  },
  {
   "cell_type": "markdown",
   "metadata": {},
   "source": [
    "**E. Stability**\n",
    "\n",
    "Examine the eigenvalues of the following equation.\n",
    "\n",
    "$$A-LC$$\n",
    "\n",
    "Should all eigenvalues have negative real parts, as shown below, the observer is stable, and the state estimate will converge to the true state."
   ]
  },
  {
   "cell_type": "code",
   "execution_count": 12,
   "metadata": {},
   "outputs": [
    {
     "name": "stdout",
     "output_type": "stream",
     "text": [
      "(12, 12)\n",
      "[(-9.400818864279646+0j), (-8.263691684832015+0j), (-1.5283576470248283+0j), (-1.0000636588852265+0j), (-9.400818864279646+0j), (-8.26369168483202+0j), (-1.5283576470248283+0j), (-1.0000636588852292+0j), (-8.887473059269164+0j), (-8.887473059269166+0j), (-1.0063908886531863+0j), (-1.0063908886531872+0j)]\n"
     ]
    }
   ],
   "source": [
    "F = A - L @ C\n",
    "print(F.shape)\n",
    "p = linalg.eigvals(F)\n",
    "print(p.tolist())"
   ]
  },
  {
   "cell_type": "markdown",
   "metadata": {},
   "source": [
    "## 3. Controllers"
   ]
  },
  {
   "cell_type": "markdown",
   "metadata": {},
   "source": [
    "**A. Standard Controller**\n",
    "\n",
    "This is the base controller, as used for aggregate data collection and which the multiple drone controller builds upon. This is also the framework for the competitive controller entered in the drone race.\n",
    "\n",
    "The main principles used in this controller are state feedback control with tracking and state estimation using observer design. Below is the formulation for these principles, respectively.\n",
    "\n",
    "$$u=-K(\\hat x - x_{des})$$\n",
    "\n",
    "$$\\hat x(t + \\Delta t) = \\hat x(t) + \\Delta t (A \\hat x(t) + Bu(t) - L (C \\hat x(t) - y(t)))$$"
   ]
  },
  {
   "cell_type": "code",
   "execution_count": 13,
   "metadata": {},
   "outputs": [],
   "source": [
    "class RobotController:\n",
    "    def __init__(self, limiter=None, A=A, B=B, C=C, K=K, L=L, f_z_e=f_z_e):\n",
    "        self.dt = 0.01\n",
    "        self.limiter = limiter\n",
    "        self.A = A\n",
    "        self.B = B\n",
    "        self.C = C\n",
    "        self.K = K\n",
    "        self.L = L\n",
    "        self.f_z_e = f_z_e\n",
    "        self.pos_vector = [2.875, 3.125, 3.125]\n",
    "        self.ring = None\n",
    "        self.before = None\n",
    "        self.after = None\n",
    "        self.target = None\n",
    "        \n",
    "\n",
    "    def get_color(self):\n",
    "        return np.random.rand(3,).tolist()\n",
    "\n",
    "    def reset(self, pos):\n",
    "        self.xhat = np.zeros((12, 1))\n",
    "\n",
    "    def run(self, pos, rpy, pos_ring, is_last_ring, pos_others):     \n",
    "        \n",
    "        # Last ring\n",
    "        if is_last_ring:\n",
    "            if np.linalg.norm(pos_ring + np.array([0., 0., 1.25]) - pos) > 1.75:\n",
    "                pos_des = pos_ring + np.array([0., 0., 1.25])\n",
    "            else:\n",
    "                pos_des = pos_ring\n",
    "        # Other rings\n",
    "        else:\n",
    "            pos_des = []\n",
    "            # Get ring data and create offset points\n",
    "            if not np.array_equal(self.ring, pos_ring):\n",
    "                self.ring = pos_ring\n",
    "                self.before = self.ring - np.array([2., 0., 0.])\n",
    "                self.after = self.ring + np.array([2., 0., 0.])\n",
    "                self.target = self.before\n",
    "            # If passed ring\n",
    "            if pos[0] > pos_ring[0]:\n",
    "                self.target = self.before\n",
    "            # Else if close to targeted position\n",
    "            elif np.linalg.norm(self.target - pos) < 0.75:\n",
    "                self.target = self.after\n",
    "            # Set desired point for trajectory tracking\n",
    "            for i in range(0, pos.shape[0]):\n",
    "                if np.abs(self.target[i] - self.xhat[i, :].item()) > 0.5 or i == 0:\n",
    "                    i_des = self.xhat[i, :].item() + self.pos_vector[i] * (self.target[i] - self.xhat[i, :].item()) / np.linalg.norm(self.target - self.xhat[0:3, :].T)\n",
    "                else:\n",
    "                    i_des = self.target[i]\n",
    "                pos_des.append(i_des)\n",
    "\n",
    "        # Trajectory tracking\n",
    "        x_des = np.block([[np.array(pos_des), np.zeros(9)]]).T\n",
    "        u = -self.K @ (self.xhat - x_des)\n",
    "\n",
    "        tau_x = u[0, 0]\n",
    "        tau_y = u[1, 0]\n",
    "        tau_z = u[2, 0]\n",
    "        f_z = u[3, 0] + self.f_z_e\n",
    "        \n",
    "        if self.limiter is not None:\n",
    "            tau_x, tau_y, tau_z, f_z = self.limiter(tau_x, tau_y, tau_z, f_z)\n",
    "            u = np.array([[tau_x], [tau_y], [tau_z], [f_z - self.f_z_e]])\n",
    "        \n",
    "        y = np.block([[pos, rpy]]).T\n",
    "        self.xhat += self.dt * (self.A @ self.xhat + self.B @ u - self.L @ (self.C @ self.xhat - y))\n",
    "\n",
    "        return tau_x, tau_y, tau_z, f_z"
   ]
  },
  {
   "cell_type": "markdown",
   "metadata": {},
   "source": [
    "**B. Multiple Drone Controller**\n",
    "\n",
    "This controller inherits from the standard controller, with the additional implementation of code to determine a drone's order and code to enable waiting in `run()` and modifications to `reset()` to accomodate this functionality. This controller framework is used for the cooperative drone race."
   ]
  },
  {
   "cell_type": "code",
   "execution_count": 14,
   "metadata": {},
   "outputs": [],
   "source": [
    "class MultiController(RobotController):\n",
    "    def __init__(self, limiter=None):\n",
    "        super().__init__(limiter)\n",
    "        self.counter = 0\n",
    "        self.wait = 0\n",
    "        self.order = None\n",
    "        self.spacing = 2\n",
    "        \n",
    "    def reset(self, pos):\n",
    "        self.counter = 0\n",
    "        self.order = None\n",
    "        RobotController.reset(self, pos)\n",
    "    \n",
    "    def run(self, pos, rpy, pos_ring, is_last_ring, pos_others):\n",
    "        \n",
    "        if self.order is None:\n",
    "            self.order = 0\n",
    "            x_pos = pos[0]\n",
    "            y_pos = pos[1]\n",
    "            for pos_other in pos_others:\n",
    "                x_other = pos_other[0]\n",
    "                y_other = pos_other[1]\n",
    "                if x_pos < x_other:\n",
    "                    self.order += 1\n",
    "                elif x_pos == x_other:\n",
    "                    if y_pos < y_other:\n",
    "                        self.order += 1\n",
    "            self.wait = self.order * self.spacing / self.dt\n",
    "        \n",
    "        if self.counter > self.wait:\n",
    "            tau_x, tau_y, tau_z, f_z = RobotController.run(self, pos, rpy, pos_ring, is_last_ring, pos_others)\n",
    "        else:\n",
    "            self.counter += 1\n",
    "            tau_x, tau_y, tau_z, f_z = 0., 0., 0., 0.\n",
    "        \n",
    "        return tau_x, tau_y, tau_z, f_z"
   ]
  },
  {
   "cell_type": "markdown",
   "metadata": {},
   "source": [
    "**C. Controller Gain Example**\n",
    "\n",
    "This controller uses identical `Q_c` gains corresponding to x, y, and z positions to create results discussed in the paper."
   ]
  },
  {
   "cell_type": "code",
   "execution_count": 15,
   "metadata": {},
   "outputs": [],
   "source": [
    "class KController(RobotController):\n",
    "    def __init__(self, limiter=None):\n",
    "        super().__init__(limiter)\n",
    "        Q_c = np.diag([105, 105, 105, 86, 86, 86, 1, 1, 1, 13, 13, 13])\n",
    "        P = linalg.solve_continuous_are(A, B, Q_c, R_c)\n",
    "        self.K = linalg.inv(R_c) @  B.T @ P"
   ]
  },
  {
   "cell_type": "markdown",
   "metadata": {},
   "source": [
    "**D. Observer Gain Example**\n",
    "\n",
    "This controller uses lesser `Q_o` gains than the standard controller to create results discussed in the paper."
   ]
  },
  {
   "cell_type": "code",
   "execution_count": 16,
   "metadata": {},
   "outputs": [],
   "source": [
    "class LController(RobotController):\n",
    "    def __init__(self, limiter=None):\n",
    "        super().__init__(limiter)\n",
    "        Q_o = np.diag([5, 5, 5, 5, 5, 5])\n",
    "        P = linalg.solve_continuous_are(A.T, C.T, linalg.inv(R_o), linalg.inv(Q_o))\n",
    "        self.L = P @ C.T @ Q_o"
   ]
  },
  {
   "cell_type": "markdown",
   "metadata": {},
   "source": [
    "**E. Last Ring Adjustment Example**\n",
    "\n",
    "This controller lacks an adjustment for the final ring, which is used in the standard controller to reach a point above the center of the ring before landing. Otherwise, it is identical to the standard controller."
   ]
  },
  {
   "cell_type": "code",
   "execution_count": 17,
   "metadata": {},
   "outputs": [],
   "source": [
    "class LastController:\n",
    "    def __init__(self, limiter=None, A=A, B=B, C=C, K=K, L=L, f_z_e=f_z_e):\n",
    "        self.dt = 0.01\n",
    "        self.limiter = limiter\n",
    "        self.A = A\n",
    "        self.B = B\n",
    "        self.C = C\n",
    "        self.K = K\n",
    "        self.L = L\n",
    "        self.f_z_e = f_z_e\n",
    "        self.pos_vector = [2.875, 3.125, 3.125]\n",
    "        self.ring = None\n",
    "        self.before = None\n",
    "        self.after = None\n",
    "        self.target = None\n",
    "        \n",
    "\n",
    "    def get_color(self):\n",
    "        return np.random.rand(3,).tolist()\n",
    "\n",
    "    def reset(self, pos):\n",
    "        self.xhat = np.zeros((12, 1))\n",
    "\n",
    "    def run(self, pos, rpy, pos_ring, is_last_ring, pos_others):     \n",
    "        \n",
    "        # Last ring\n",
    "        if is_last_ring:\n",
    "            pos_des = pos_ring\n",
    "        # Other rings\n",
    "        else:\n",
    "            pos_des = []\n",
    "            # Get ring data and create offset points\n",
    "            if not np.array_equal(self.ring, pos_ring):\n",
    "                self.ring = pos_ring\n",
    "                self.before = self.ring - np.array([2., 0., 0.])\n",
    "                self.after = self.ring + np.array([2., 0., 0.])\n",
    "                self.target = self.before\n",
    "            # If passed ring\n",
    "            if pos[0] > pos_ring[0]:\n",
    "                self.target = self.before\n",
    "            # Else if close to targeted position\n",
    "            elif np.linalg.norm(self.target - pos) < 0.75:\n",
    "                self.target = self.after\n",
    "            # Set desired point for trajectory tracking\n",
    "            for i in range(0, pos.shape[0]):\n",
    "                if np.abs(self.target[i] - self.xhat[i, :].item()) > 0.5 or i == 0:\n",
    "                    i_des = self.xhat[i, :].item() + self.pos_vector[i] * (self.target[i] - self.xhat[i, :].item()) / np.linalg.norm(self.target - self.xhat[0:3, :].T)\n",
    "                else:\n",
    "                    i_des = self.target[i]\n",
    "                pos_des.append(i_des)\n",
    "\n",
    "        # Trajectory tracking\n",
    "        x_des = np.block([[np.array(pos_des), np.zeros(9)]]).T\n",
    "        u = -self.K @ (self.xhat - x_des)\n",
    "\n",
    "        tau_x = u[0, 0]\n",
    "        tau_y = u[1, 0]\n",
    "        tau_z = u[2, 0]\n",
    "        f_z = u[3, 0] + self.f_z_e\n",
    "        \n",
    "        if self.limiter is not None:\n",
    "            tau_x, tau_y, tau_z, f_z = self.limiter(tau_x, tau_y, tau_z, f_z)\n",
    "            u = np.array([[tau_x], [tau_y], [tau_z], [f_z - self.f_z_e]])\n",
    "        \n",
    "        y = np.block([[pos, rpy]]).T\n",
    "        self.xhat += self.dt * (self.A @ self.xhat + self.B @ u - self.L @ (self.C @ self.xhat - y))\n",
    "\n",
    "        return tau_x, tau_y, tau_z, f_z"
   ]
  },
  {
   "cell_type": "markdown",
   "metadata": {},
   "source": [
    "## 4. Results"
   ]
  },
  {
   "cell_type": "markdown",
   "metadata": {},
   "source": [
    "**A. Simulation for Single Drone Controller**\n",
    "\n",
    "This performs 200 trials, according to the stipulations of the verification."
   ]
  },
  {
   "cell_type": "code",
   "execution_count": 18,
   "metadata": {},
   "outputs": [
    {
     "name": "stdout",
     "output_type": "stream",
     "text": [
      "Iterations: 200, Failures: 0\r"
     ]
    }
   ],
   "source": [
    "simulator = ae353_drone.Simulator(display=False, seed=0)\n",
    "simulator.add_drone(RobotController, 'drone1', 'harryz2.png')\n",
    "trials = 200\n",
    "times = list()\n",
    "failures = 0\n",
    "\n",
    "for i in range(trials):\n",
    "    simulator.move_rings()\n",
    "    simulator.reset()\n",
    "    simulator.run(max_time=60.0)\n",
    "    if simulator.drones[0]['finish_time'] is not None:\n",
    "        times.append(simulator.drones[0]['finish_time'])\n",
    "    else:\n",
    "        failures += 1\n",
    "    print('Iterations: {}, Failures: {}'.format(i + 1, failures), end='\\r')\n",
    "\n",
    "simulator.disconnect()"
   ]
  },
  {
   "cell_type": "markdown",
   "metadata": {},
   "source": [
    "**B. Results and Plot for Single Drone Controller**\n",
    "\n",
    "The average times and failure rate is calculated, and a histogram is plotted."
   ]
  },
  {
   "cell_type": "code",
   "execution_count": 19,
   "metadata": {},
   "outputs": [
    {
     "name": "stdout",
     "output_type": "stream",
     "text": [
      "\n",
      "Mean finish time: 14.585899999999999\n",
      "Failure rate: 0.0%\n",
      "\n"
     ]
    },
    {
     "data": {
      "image/png": "[encoded data removed]",
      "text/plain": [
       "<Figure size 432x288 with 1 Axes>"
      ]
     },
     "metadata": {
      "needs_background": "light"
     },
     "output_type": "display_data"
    }
   ],
   "source": [
    "print('\\nMean finish time: {}'.format(np.mean(times)))\n",
    "print('Failure rate: {}%\\n'.format(failures / trials * 100))\n",
    "minimum = np.min(times)\n",
    "maximum = np.max(times)\n",
    "bins = np.linspace(minimum, maximum, 15)\n",
    "plt.hist(times, bins)\n",
    "plt.title('Single Drone Finish Time')\n",
    "plt.xlabel('Finish time (s)')\n",
    "plt.ylabel('Number of trials')\n",
    "plt.show()"
   ]
  },
  {
   "cell_type": "markdown",
   "metadata": {},
   "source": [
    "**C. Simulation for Multiple Drone Controller**\n",
    "\n",
    "Due to the time it takes to simulate more than one drone, this performs 100 trials, following similar stipulations to the verification. The overall finish time is measured as the time of the slowest drone to finish."
   ]
  },
  {
   "cell_type": "code",
   "execution_count": 20,
   "metadata": {},
   "outputs": [
    {
     "name": "stdout",
     "output_type": "stream",
     "text": [
      "Iterations: 100, Failures: 5\r"
     ]
    }
   ],
   "source": [
    "simulator = ae353_drone.Simulator(display=False, seed=0)\n",
    "simulator.add_drone(MultiController, 'drone1', 'harryz2.png')\n",
    "simulator.add_drone(MultiController, 'drone2', 'harryz2.png')\n",
    "simulator.add_drone(MultiController, 'drone3', 'harryz2.png')\n",
    "multi_trials = 100\n",
    "multi_times = list()\n",
    "multi_failures = 0\n",
    "\n",
    "for i in range(multi_trials):\n",
    "    simulator.move_rings()\n",
    "    simulator.reset()\n",
    "    simulator.run(max_time=60.0)\n",
    "    drone_times = list()\n",
    "    for drone in simulator.drones:\n",
    "        if drone['finish_time'] is not None:\n",
    "            drone_times.append(drone['finish_time'])\n",
    "    if len(drone_times) != 3:\n",
    "        multi_failures += 1\n",
    "    else:\n",
    "        multi_times.append(max(drone_times))\n",
    "    print('Iterations: {}, Failures: {}'.format(i + 1, multi_failures), end='\\r')\n",
    "\n",
    "simulator.disconnect()"
   ]
  },
  {
   "cell_type": "markdown",
   "metadata": {},
   "source": [
    "**D. Results and Plot for Multiple Drone Controller**\n",
    "\n",
    "The average times and failure rate is calculated, and a histogram is plotted."
   ]
  },
  {
   "cell_type": "code",
   "execution_count": 21,
   "metadata": {},
   "outputs": [
    {
     "name": "stdout",
     "output_type": "stream",
     "text": [
      "\n",
      "Mean finish time: 18.213368421052635\n",
      "Failure rate: 5.0%\n",
      "\n"
     ]
    },
    {
     "data": {
      "image/png": "[encoded data removed]",
      "text/plain": [
       "<Figure size 432x288 with 1 Axes>"
      ]
     },
     "metadata": {
      "needs_background": "light"
     },
     "output_type": "display_data"
    }
   ],
   "source": [
    "print('\\nMean finish time: {}'.format(np.mean(multi_times)))\n",
    "print('Failure rate: {}%\\n'.format(multi_failures / multi_trials * 100))\n",
    "minimum = np.min(multi_times)\n",
    "maximum = np.max(multi_times)\n",
    "bins = np.linspace(minimum, maximum, 10)\n",
    "plt.hist(multi_times, bins)\n",
    "plt.title('Group Finish Time')\n",
    "plt.xlabel('Finish time (s)')\n",
    "plt.ylabel('Number of trials')\n",
    "plt.show()"
   ]
  },
  {
   "cell_type": "markdown",
   "metadata": {},
   "source": [
    "**E. Failure Case 1: Simulation and Results for Different Controller Gains**\n",
    "\n",
    "This is the same as the verification simulation, just with an older (worse) controller version."
   ]
  },
  {
   "cell_type": "code",
   "execution_count": 22,
   "metadata": {},
   "outputs": [
    {
     "name": "stdout",
     "output_type": "stream",
     "text": [
      "Iterations: 200, Failures: 39\n",
      "Mean finish time: 14.293416149068321\n",
      "Failure rate: 19.5%\n",
      "\n"
     ]
    },
    {
     "data": {
      "image/png": "[encoded data removed]",
      "text/plain": [
       "<Figure size 432x288 with 1 Axes>"
      ]
     },
     "metadata": {
      "needs_background": "light"
     },
     "output_type": "display_data"
    }
   ],
   "source": [
    "simulator = ae353_drone.Simulator(display=False, seed=0)\n",
    "simulator.add_drone(KController, 'drone1', 'harryz2.png')\n",
    "K_trials = 200\n",
    "K_times = list()\n",
    "K_failures = 0\n",
    "\n",
    "for i in range(K_trials):\n",
    "    simulator.move_rings()\n",
    "    simulator.reset()\n",
    "    simulator.run(max_time=60.0)\n",
    "    if simulator.drones[0]['finish_time'] is not None:\n",
    "        K_times.append(simulator.drones[0]['finish_time'])\n",
    "    else:\n",
    "        K_failures += 1\n",
    "    print('Iterations: {}, Failures: {}'.format(i + 1, K_failures), end='\\r')\n",
    "\n",
    "simulator.disconnect()\n",
    "\n",
    "print('\\nMean finish time: {}'.format(np.mean(K_times)))\n",
    "print('Failure rate: {}%\\n'.format(K_failures / K_trials * 100))\n",
    "minimum = np.min(K_times)\n",
    "maximum = np.max(K_times)\n",
    "bins = np.linspace(minimum, maximum, 15)\n",
    "plt.hist(K_times, bins)\n",
    "plt.title('Different Controller Gains Finish Time')\n",
    "plt.xlabel('Finish time (s)')\n",
    "plt.ylabel('Number of trials')\n",
    "plt.show()"
   ]
  },
  {
   "cell_type": "markdown",
   "metadata": {},
   "source": [
    "**F. Failure Case 2: Simulation and Results for Different Observer Gains**\n",
    "\n",
    "This is the same as the verification simulation, just with an older (worse) observer version."
   ]
  },
  {
   "cell_type": "code",
   "execution_count": 23,
   "metadata": {},
   "outputs": [
    {
     "name": "stdout",
     "output_type": "stream",
     "text": [
      "Iterations: 200, Failures: 73\n",
      "Mean finish time: 21.69433070866142\n",
      "Failure rate: 36.5%\n",
      "\n"
     ]
    },
    {
     "data": {
      "image/png": "[encoded data removed]",
      "text/plain": [
       "<Figure size 432x288 with 1 Axes>"
      ]
     },
     "metadata": {
      "needs_background": "light"
     },
     "output_type": "display_data"
    }
   ],
   "source": [
    "simulator = ae353_drone.Simulator(display=False, seed=0)\n",
    "simulator.add_drone(LController, 'drone1', 'harryz2.png')\n",
    "L_trials = 200\n",
    "L_times = list()\n",
    "L_failures = 0\n",
    "\n",
    "for i in range(L_trials):\n",
    "    simulator.move_rings()\n",
    "    simulator.reset()\n",
    "    simulator.run(max_time=60.0)\n",
    "    if simulator.drones[0]['finish_time'] is not None:\n",
    "        L_times.append(simulator.drones[0]['finish_time'])\n",
    "    else:\n",
    "        L_failures += 1\n",
    "    print('Iterations: {}, Failures: {}'.format(i + 1, L_failures), end='\\r')\n",
    "\n",
    "simulator.disconnect()\n",
    "\n",
    "print('\\nMean finish time: {}'.format(np.mean(L_times)))\n",
    "print('Failure rate: {}%\\n'.format(L_failures / L_trials * 100))\n",
    "minimum = np.min(L_times)\n",
    "maximum = np.max(L_times)\n",
    "bins = np.linspace(minimum, maximum, 15)\n",
    "plt.hist(L_times, bins)\n",
    "plt.title('Different Observer Gains Finish Time')\n",
    "plt.xlabel('Finish time (s)')\n",
    "plt.ylabel('Number of trials')\n",
    "plt.show()"
   ]
  },
  {
   "cell_type": "markdown",
   "metadata": {},
   "source": [
    "**G. Failure Case 3: Simulation and Results Without Last Ring Adjustment**\n",
    "\n",
    "The following code runs the verification to measure failure rate without the last ring adjustment."
   ]
  },
  {
   "cell_type": "code",
   "execution_count": 24,
   "metadata": {},
   "outputs": [
    {
     "name": "stdout",
     "output_type": "stream",
     "text": [
      "Iterations: 200, Failures: 184\n",
      "Mean finish time: 13.69\n",
      "Failure rate: 92.0%\n",
      "\n"
     ]
    }
   ],
   "source": [
    "simulator = ae353_drone.Simulator(display=False, seed=0)\n",
    "simulator.add_drone(LastController, 'drone1', 'harryz2.png')\n",
    "last_trials = 200\n",
    "last_times = list()\n",
    "last_failures = 0\n",
    "\n",
    "for i in range(last_trials):\n",
    "    simulator.move_rings()\n",
    "    simulator.reset()\n",
    "    simulator.run(max_time=60.0)\n",
    "    if simulator.drones[0]['finish_time'] is not None:\n",
    "        last_times.append(simulator.drones[0]['finish_time'])\n",
    "    else:\n",
    "        last_failures += 1\n",
    "    print('Iterations: {}, Failures: {}'.format(i + 1, last_failures), end='\\r')\n",
    "\n",
    "simulator.disconnect()\n",
    "\n",
    "print('\\nMean finish time: {}'.format(np.mean(last_times)))\n",
    "print('Failure rate: {}%\\n'.format(last_failures / last_trials * 100))"
   ]
  },
  {
   "cell_type": "markdown",
   "metadata": {},
   "source": [
    "**H. Video**\n",
    "\n",
    "The following code runs the simulation shown in the video for this submission."
   ]
  },
  {
   "cell_type": "code",
   "execution_count": null,
   "metadata": {},
   "outputs": [],
   "source": [
    "simulator = ae353_drone.Simulator(display=True, seed=0)\n",
    "simulator.add_drone(MultiController, 'drone1', 'harryz2.png')\n",
    "simulator.camera_droneview('drone1')\n",
    "simulator.reset()\n",
    "simulator.run(max_time=60.0)\n",
    "simulator.add_drone(MultiController, 'drone2', 'harryz2.png')\n",
    "simulator.add_drone(MultiController, 'drone3', 'harryz2.png')\n",
    "simulator.camera_startview()\n",
    "simulator.reset()\n",
    "simulator.run(max_time=60.0)\n",
    "simulator.clear_drones()"
   ]
  }
 ],
 "metadata": {
  "kernelspec": {
   "display_name": "Python 3",
   "language": "python",
   "name": "python3"
  },
  "language_info": {
   "codemirror_mode": {
    "name": "ipython",
    "version": 3
   },
   "file_extension": ".py",
   "mimetype": "text/x-python",
   "name": "python",
   "nbconvert_exporter": "python",
   "pygments_lexer": "ipython3",
   "version": "3.8.5"
  }
 },
 "nbformat": 4,
 "nbformat_minor": 5
}
