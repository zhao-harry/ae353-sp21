{
 "cells": [
  {
   "cell_type": "code",
   "execution_count": 1,
   "metadata": {},
   "outputs": [
    {
     "data": {
      "text/plain": [
       "<module 'ae353_cmg' from '/home/harry/Documents/ae353-sp21/projects/01_cmg/ae353_cmg.py'>"
      ]
     },
     "execution_count": 1,
     "metadata": {},
     "output_type": "execute_result"
    }
   ],
   "source": [
    "import time\n",
    "import numpy as np\n",
    "import matplotlib.pyplot as plt\n",
    "import ae353_cmg\n",
    "import importlib\n",
    "importlib.reload(ae353_cmg)"
   ]
  },
  {
   "cell_type": "code",
   "execution_count": 2,
   "metadata": {},
   "outputs": [],
   "source": [
    "robot = ae353_cmg.RobotSimulator(damping=0., dt=0.001, display=True)"
   ]
  },
  {
   "cell_type": "code",
   "execution_count": 3,
   "metadata": {},
   "outputs": [],
   "source": [
    "class RobotController:\n",
    "    def __init__(self, dt=0.001):\n",
    "        self.dt = dt\n",
    "    \n",
    "    def run(self, q_1, v_1, q_2, v_2, q_3, v_3):\n",
    "        tau_2 = 0.5 # <-- torque applied to gimbal\n",
    "        tau_3 = 0.5 # <-- torque applied to rotor\n",
    "        return tau_2, tau_3\n",
    "\n",
    "controller = RobotController(dt=robot.dt)"
   ]
  },
  {
   "cell_type": "code",
   "execution_count": 5,
   "metadata": {},
   "outputs": [],
   "source": [
    "# Restore the simulation to its initial state\n",
    "robot.reset(rotor_rpm=100.)\n",
    "\n",
    "# Choose how long we want to run the simulation, and\n",
    "# compute the corresponding number of time steps\n",
    "run_time = 10.\n",
    "num_steps = int(run_time/robot.dt)\n",
    "\n",
    "# Create a dictionary in which to store results\n",
    "data = {\n",
    "    't': np.empty(num_steps, dtype=float),\n",
    "    'q_1': np.empty(num_steps, dtype=float),\n",
    "    'v_1': np.empty(num_steps, dtype=float),\n",
    "    'q_2': np.empty(num_steps, dtype=float),\n",
    "    'v_2': np.empty(num_steps, dtype=float),\n",
    "    'q_3': np.empty(num_steps, dtype=float),\n",
    "    'v_3': np.empty(num_steps, dtype=float),\n",
    "    'tau_2': np.empty(num_steps, dtype=float),\n",
    "    'tau_3': np.empty(num_steps, dtype=float),\n",
    "}\n",
    "\n",
    "# Run the simulation loop\n",
    "start_time = time.time()\n",
    "for step in range(num_steps):\n",
    "    # Get the current time\n",
    "    t = robot.dt * step\n",
    "    \n",
    "    # Get the sensor measurements\n",
    "    q_1, v_1, q_2, v_2, q_3, v_3 = robot.get_sensor_measurements()\n",
    "    \n",
    "    # Choose the actuator command (by running the controller)\n",
    "    tau_2, tau_3 = controller.run(q_1, v_1, q_2, v_2, q_3, v_3)\n",
    "    \n",
    "    # Log the data from this time step\n",
    "    data['t'][step] = t\n",
    "    data['q_1'][step] = q_1\n",
    "    data['v_1'][step] = v_1\n",
    "    data['q_2'][step] = q_2\n",
    "    data['v_2'][step] = v_2\n",
    "    data['q_3'][step] = q_3\n",
    "    data['v_3'][step] = v_3\n",
    "    data['tau_2'][step] = tau_2\n",
    "    data['tau_3'][step] = tau_3\n",
    "    \n",
    "    # Send the actuator commands to robot and go forward one time\n",
    "    # step (this is where the actual simulation happens)\n",
    "    robot.set_actuator_commands(tau_2, tau_3)\n",
    "    robot.step(t=(start_time + (robot.dt * (step + 1))))"
   ]
  },
  {
   "cell_type": "code",
   "execution_count": null,
   "metadata": {},
   "outputs": [],
   "source": [
    "# Create a figure with three subplots, all of which share the same x-axis\n",
    "fig, ax = plt.subplots(3, 1, figsize=(9, 12), sharex=True)\n",
    "\n",
    "# Plot angle of outer gimbal on first subplot\n",
    "ax[0].plot(data['t'], data['q_1'], label='outer angle (rad)', linewidth=4)\n",
    "ax[0].grid()\n",
    "ax[0].legend(fontsize=16)\n",
    "ax[0].tick_params(labelsize=14)\n",
    "\n",
    "# Plot angular velocity of outer gimbal on second subplot\n",
    "ax[1].plot(data['t'], data['v_1'], label='outer angular velocity (rad / s)', linewidth=4)\n",
    "ax[1].grid()\n",
    "ax[1].legend(fontsize=16)\n",
    "ax[1].tick_params(labelsize=14)\n",
    "\n",
    "# Plot torques on third subplot\n",
    "ax[2].plot(data['t'], data['tau_2'], label='gimbal torque command (N-m)', linewidth=4)\n",
    "ax[2].plot(data['t'], data['tau_3'], label='rotor torque command (N-m)', linewidth=4)\n",
    "ax[2].plot(data['t'], np.ones_like(data['t']) * robot.tau_max, '--', label='max joint torque', linewidth=4, color='C2')\n",
    "ax[2].plot(data['t'], -np.ones_like(data['t']) * robot.tau_max, '--', linewidth=4, color='C2')\n",
    "ax[2].grid()\n",
    "ax[2].legend(fontsize=16)\n",
    "ax[2].tick_params(labelsize=14)\n",
    "ax[2].set_ylim(-1.2 * robot.tau_max, 1.2 * robot.tau_max)\n",
    "\n",
    "# Set x-axis properties (only need to do this on the fourth\n",
    "# subplot since all four subplots share the same x-axis)\n",
    "ax[2].set_xlabel('time (s)', fontsize=20)\n",
    "ax[2].set_xlim([data['t'][0], data['t'][-1]])\n",
    "\n",
    "# Make the arrangement of subplots look nice\n",
    "fig.tight_layout()"
   ]
  },
  {
   "cell_type": "code",
   "execution_count": null,
   "metadata": {},
   "outputs": [],
   "source": []
  }
 ],
 "metadata": {
  "kernelspec": {
   "display_name": "Python 3",
   "language": "python",
   "name": "python3"
  },
  "language_info": {
   "codemirror_mode": {
    "name": "ipython",
    "version": 3
   },
   "file_extension": ".py",
   "mimetype": "text/x-python",
   "name": "python",
   "nbconvert_exporter": "python",
   "pygments_lexer": "ipython3",
   "version": "3.8.5"
  }
 },
 "nbformat": 4,
 "nbformat_minor": 4
}
