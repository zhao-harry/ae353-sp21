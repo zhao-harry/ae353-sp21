{
 "cells": [
  {
   "cell_type": "markdown",
   "metadata": {},
   "source": [
    "# Control moment gyroscope"
   ]
  },
  {
   "cell_type": "markdown",
   "metadata": {},
   "source": [
    "Import modules and configure the notebook."
   ]
  },
  {
   "cell_type": "code",
   "execution_count": null,
   "metadata": {},
   "outputs": [],
   "source": [
    "# This module is part of the python standard library\n",
    "import time\n",
    "\n",
    "# These modules are part of other existing libraries\n",
    "import numpy as np\n",
    "import matplotlib.pyplot as plt\n",
    "\n",
    "# This is my own script (it is an interface to the pybullet simulator)\n",
    "import ae353_cmg\n",
    "\n",
    "# I often go back and forth between making changes to my scripts and to\n",
    "# the notebook in which they are used. One \"gotcha\" is that notebooks only\n",
    "# import modules or scripts ONCE. Subsequent imports don't do anything, and\n",
    "# in particular won't reflect any changes I've made to my scripts. To make\n",
    "# sure that I'm working with the latest version of my code, I use this bit\n",
    "# of magic, which forces the notebook to \"reload\" my script:\n",
    "import importlib\n",
    "importlib.reload(ae353_cmg)"
   ]
  },
  {
   "cell_type": "markdown",
   "metadata": {},
   "source": [
    "Create an instance of the robot simulator. This will open a window in which you should see the platform with a single-gimbal control moment gyroscope.\n",
    "\n",
    "There are three optional parameters:\n",
    "\n",
    "* `damping` is the coefficient of viscouse friction at each joint (the default value is `0.`)\n",
    "* `dt` is the length of each time step in the simulator (the default value is `0.001`)\n",
    "* `display` is a flag that says whether or not to open the GUI (the default value is `True`)\n",
    "\n",
    "The `display` parameter, in particular, is likely to be of use to you. If you set `display=True`, then you will run the simulator in real-time with a GUI. If you set `display=False`, then you will run the simulator as fast as possible (faster than real-time) without a GUI. This is convenient when all you want is the data.\n",
    "\n",
    "**NOTE:** it is still necessary to reset the kernel (see the \"Kernel\" menu above) before creating a new instance of the robot simulator, even when running without a GUI - if you don't, then you'll notice that simulation slows way down."
   ]
  },
  {
   "cell_type": "code",
   "execution_count": null,
   "metadata": {},
   "outputs": [],
   "source": [
    "robot = ae353_cmg.RobotSimulator(damping=0., dt=0.001, display=True)"
   ]
  },
  {
   "cell_type": "markdown",
   "metadata": {},
   "source": [
    "Define and create an instance of the robot controller. By default, it chooses to apply zero torque both to the gimbal and to the rotor. Modify the `run` function - or anything else in the class definition - to make the controller behave differently."
   ]
  },
  {
   "cell_type": "code",
   "execution_count": null,
   "metadata": {},
   "outputs": [],
   "source": [
    "class RobotController:\n",
    "    def __init__(self, dt=0.001):\n",
    "        self.dt = dt\n",
    "    \n",
    "    def run(self, q_1, v_1, q_2, v_2, q_3, v_3):\n",
    "        tau_2 = 0. # <-- torque applied to gimbal\n",
    "        tau_3 = 0. # <-- torque applied to rotor\n",
    "        return tau_2, tau_3\n",
    "\n",
    "controller = RobotController(dt=robot.dt)"
   ]
  },
  {
   "cell_type": "markdown",
   "metadata": {},
   "source": [
    "Run the simulation. It is a loop. At each iteration, we:\n",
    "* get sensor measurements\n",
    "* choose actuator commands\n",
    "* go forward one time step\n",
    "\n",
    "We also log data so that we can plot it later, if we want."
   ]
  },
  {
   "cell_type": "code",
   "execution_count": null,
   "metadata": {},
   "outputs": [],
   "source": [
    "# Restore the simulation to its initial state\n",
    "robot.reset(rotor_rpm=100.)\n",
    "\n",
    "# Choose how long we want to run the simulation, and\n",
    "# compute the corresponding number of time steps\n",
    "run_time = 10.\n",
    "num_steps = int(run_time/robot.dt)\n",
    "\n",
    "# Create a dictionary in which to store results\n",
    "data = {\n",
    "    't': np.empty(num_steps, dtype=float),\n",
    "    'q_1': np.empty(num_steps, dtype=float),\n",
    "    'v_1': np.empty(num_steps, dtype=float),\n",
    "    'q_2': np.empty(num_steps, dtype=float),\n",
    "    'v_2': np.empty(num_steps, dtype=float),\n",
    "    'q_3': np.empty(num_steps, dtype=float),\n",
    "    'v_3': np.empty(num_steps, dtype=float),\n",
    "    'tau_2': np.empty(num_steps, dtype=float),\n",
    "    'tau_3': np.empty(num_steps, dtype=float),\n",
    "}\n",
    "\n",
    "# Run the simulation loop\n",
    "start_time = time.time()\n",
    "for step in range(num_steps):\n",
    "    # Get the current time\n",
    "    t = robot.dt * step\n",
    "    \n",
    "    # Get the sensor measurements\n",
    "    q_1, v_1, q_2, v_2, q_3, v_3 = robot.get_sensor_measurements()\n",
    "    \n",
    "    # Choose the actuator command (by running the controller)\n",
    "    tau_2, tau_3 = controller.run(q_1, v_1, q_2, v_2, q_3, v_3)\n",
    "    \n",
    "    # Log the data from this time step\n",
    "    data['t'][step] = t\n",
    "    data['q_1'][step] = q_1\n",
    "    data['v_1'][step] = v_1\n",
    "    data['q_2'][step] = q_2\n",
    "    data['v_2'][step] = v_2\n",
    "    data['q_3'][step] = q_3\n",
    "    data['v_3'][step] = v_3\n",
    "    data['tau_2'][step] = tau_2\n",
    "    data['tau_3'][step] = tau_3\n",
    "    \n",
    "    # Send the actuator commands to robot and go forward one time\n",
    "    # step (this is where the actual simulation happens)\n",
    "    robot.set_actuator_commands(tau_2, tau_3)\n",
    "    robot.step(t=(start_time + (robot.dt * (step + 1))))"
   ]
  },
  {
   "cell_type": "markdown",
   "metadata": {},
   "source": [
    "An example of how to plot results. This is just an example!"
   ]
  },
  {
   "cell_type": "code",
   "execution_count": null,
   "metadata": {},
   "outputs": [],
   "source": [
    "# Create a figure with three subplots, all of which share the same x-axis\n",
    "fig, ax = plt.subplots(3, 1, figsize=(9, 12), sharex=True)\n",
    "\n",
    "# Plot angle of outer gimbal on first subplot\n",
    "ax[0].plot(data['t'], data['q_1'], label='outer angle (rad)', linewidth=4)\n",
    "ax[0].grid()\n",
    "ax[0].legend(fontsize=16)\n",
    "ax[0].tick_params(labelsize=14)\n",
    "\n",
    "# Plot angular velocity of outer gimbal on second subplot\n",
    "ax[1].plot(data['t'], data['v_1'], label='outer angular velocity (rad / s)', linewidth=4)\n",
    "ax[1].grid()\n",
    "ax[1].legend(fontsize=16)\n",
    "ax[1].tick_params(labelsize=14)\n",
    "\n",
    "# Plot torques on third subplot\n",
    "ax[2].plot(data['t'], data['tau_2'], label='gimbal torque command (N-m)', linewidth=4)\n",
    "ax[2].plot(data['t'], data['tau_3'], label='rotor torque command (N-m)', linewidth=4)\n",
    "ax[2].plot(data['t'], np.ones_like(data['t']) * robot.tau_max, '--', label='max joint torque', linewidth=4, color='C2')\n",
    "ax[2].plot(data['t'], -np.ones_like(data['t']) * robot.tau_max, '--', linewidth=4, color='C2')\n",
    "ax[2].grid()\n",
    "ax[2].legend(fontsize=16)\n",
    "ax[2].tick_params(labelsize=14)\n",
    "ax[2].set_ylim(-1.2 * robot.tau_max, 1.2 * robot.tau_max)\n",
    "\n",
    "# Set x-axis properties (only need to do this on the fourth\n",
    "# subplot since all four subplots share the same x-axis)\n",
    "ax[2].set_xlabel('time (s)', fontsize=20)\n",
    "ax[2].set_xlim([data['t'][0], data['t'][-1]])\n",
    "\n",
    "# Make the arrangement of subplots look nice\n",
    "fig.tight_layout()"
   ]
  },
  {
   "cell_type": "code",
   "execution_count": null,
   "metadata": {},
   "outputs": [],
   "source": []
  }
 ],
 "metadata": {
  "kernelspec": {
   "display_name": "Python 3",
   "language": "python",
   "name": "python3"
  },
  "language_info": {
   "codemirror_mode": {
    "name": "ipython",
    "version": 3
   },
   "file_extension": ".py",
   "mimetype": "text/x-python",
   "name": "python",
   "nbconvert_exporter": "python",
   "pygments_lexer": "ipython3",
   "version": "3.8.5"
  }
 },
 "nbformat": 4,
 "nbformat_minor": 5
}
