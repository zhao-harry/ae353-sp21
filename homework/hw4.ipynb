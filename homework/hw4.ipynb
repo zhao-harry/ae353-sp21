{
 "cells": [
  {
   "cell_type": "code",
   "execution_count": null,
   "metadata": {},
   "outputs": [],
   "source": [
    "import numpy as np\n",
    "from scipy import linalg"
   ]
  },
  {
   "cell_type": "markdown",
   "metadata": {},
   "source": [
    "**Q2**"
   ]
  },
  {
   "cell_type": "code",
   "execution_count": null,
   "metadata": {},
   "outputs": [],
   "source": [
    "A = np.array([[ 7, -2,  1, -9], [ 1, -5, -1, -6], [ 2, -1, -6, -4], [-1, -8,  6, -1]])\n",
    "B = np.array([[ 3, -4,  3, -7], [ 9,  4,  8,  8], [-3, -9, -6,  6], [-6,  6,  1, -8]])\n",
    "C = np.array([[-7,  2,  2,  9], [ 6, -4, -7,  8], [-4,  0, -5, -9], [-1,  2, -8, -4]])\n",
    "D = np.array([[0, 0, 0, 0], [0, 0, 0, 0], [0, 0, 0, 0], [0, 0, 0, 0]])\n",
    "K = np.array([[ 8, -1, -3,  5], [ 4,  9,  1,  3], [ 2,  4, -8,  9], [ 8, -7, -8,  9]])\n",
    "\n",
    "F = A + (B @ -K)\n",
    "print(F.tolist())\n",
    "\n",
    "G = C + (D @ -K)\n",
    "print(G.tolist())"
   ]
  },
  {
   "cell_type": "markdown",
   "metadata": {},
   "source": [
    "**Q3**"
   ]
  },
  {
   "cell_type": "code",
   "execution_count": null,
   "metadata": {},
   "outputs": [],
   "source": [
    "A = np.array([[-0.3, -0.2], [0.1, -0.7]])\n",
    "B = np.array([[-0.2], [0.9]])\n",
    "C = np.array([[0.6, 0.0]])\n",
    "D = np.array([[0.0]])\n",
    "K = np.array([[-0.3, 0.9]])\n",
    "t0 = 0.2\n",
    "x0 = np.array([[-0.9], [0.7]])\n",
    "t1 = 0.7\n",
    "\n",
    "t = t1 - t0\n",
    "\n",
    "F = A + (B @ -K)\n",
    "x1 = linalg.expm(F * t) @ x0\n",
    "print(x1.tolist())\n",
    "\n",
    "G = C + (D @ -K)\n",
    "y1 = G @ x1\n",
    "print(y1.tolist())"
   ]
  },
  {
   "cell_type": "markdown",
   "metadata": {},
   "source": [
    "**Q5**"
   ]
  },
  {
   "cell_type": "code",
   "execution_count": null,
   "metadata": {},
   "outputs": [],
   "source": [
    "B = np.array([[0.1, -0.4, -0.8], [-0.9, -0.2, -0.5], [0.4, -0.6, 0.5]])\n",
    "sigma = linalg.expm(B)\n",
    "print(sigma.tolist())"
   ]
  },
  {
   "cell_type": "code",
   "execution_count": null,
   "metadata": {},
   "outputs": [],
   "source": []
  }
 ],
 "metadata": {
  "kernelspec": {
   "display_name": "Python 3",
   "language": "python",
   "name": "python3"
  },
  "language_info": {
   "codemirror_mode": {
    "name": "ipython",
    "version": 3
   },
   "file_extension": ".py",
   "mimetype": "text/x-python",
   "name": "python",
   "nbconvert_exporter": "python",
   "pygments_lexer": "ipython3",
   "version": "3.8.5"
  }
 },
 "nbformat": 4,
 "nbformat_minor": 4
}
