{
 "cells": [
  {
   "cell_type": "code",
   "execution_count": null,
   "metadata": {},
   "outputs": [],
   "source": [
    "import numpy as np\n",
    "import sympy as sym"
   ]
  },
  {
   "cell_type": "markdown",
   "metadata": {},
   "source": [
    "**Q2**"
   ]
  },
  {
   "cell_type": "code",
   "execution_count": null,
   "metadata": {},
   "outputs": [],
   "source": [
    "# m_dot = n\n",
    "m, n, b = sym.symbols('m, n, b')\n",
    "\n",
    "# Equilibrium\n",
    "m_e = 4.\n",
    "n_e = 0.\n",
    "b_e = 37.\n",
    "\n",
    "# Functions\n",
    "F = sym.Matrix([[(b + 10 * n - 9 * m - 1) / 8], [n]])\n",
    "F_num = sym.lambdify((m, n, b), F)\n",
    "print(F_num(m_e, n_e, b_e))\n",
    "\n",
    "A_num = sym.lambdify((m, n, b), F.jacobian([n, m]))\n",
    "A = A_num(m_e, n_e, b_e)\n",
    "print(A.tolist())\n",
    "\n",
    "B_num = sym.lambdify((m, n, b), F.jacobian([b]))\n",
    "B = B_num(m_e, n_e, b_e)\n",
    "print(B.tolist())"
   ]
  },
  {
   "cell_type": "markdown",
   "metadata": {},
   "source": [
    "**Q5**"
   ]
  },
  {
   "cell_type": "code",
   "execution_count": null,
   "metadata": {},
   "outputs": [],
   "source": [
    "w1, w2, w3, t2, t3 = sym.symbols('w1, w2, w3, t2, t3')\n",
    "\n",
    "# Given\n",
    "j1 = 8.\n",
    "j2 = 15.\n",
    "j3 = 6.\n",
    "w1_e = 0.\n",
    "w2_e = -2.\n",
    "w3_e = 0.\n",
    "\n",
    "# Equilibrium\n",
    "t2_e = 0.\n",
    "t3_e = 0.\n",
    "\n",
    "m_e = [[w1_e], [w2_e], [w3_e]]\n",
    "print(m_e)\n",
    "n_e = [[t2_e], [t3_e]]\n",
    "print(n_e)\n",
    "o_e = [[w3_e]]\n",
    "print(o_e)\n",
    "\n",
    "# Functions\n",
    "F = sym.Matrix([[((j2 - j3) * w2 * w3) / j1], [((j3 - j1) * w3 * w1 + t2) / j2], [((j1 - j2) * w1 * w2 + t3) / j3]])\n",
    "F_num = sym.lambdify((w1, w2, w3, t2, t3), F)\n",
    "# print(F_num(w1_e, w2_e, w3_e, t2_e, t3_e))\n",
    "\n",
    "A_num = sym.lambdify((w1, w2, w3, t2, t3), F.jacobian([w1, w2, w3]))\n",
    "A = A_num(w1_e, w2_e, w3_e, t2_e, t3_e)\n",
    "print(A.tolist())\n",
    "\n",
    "B_num = sym.lambdify((w1, w2, w3, t2, t3), F.jacobian([t2, t3]))\n",
    "B = B_num(w1_e, w2_e, w3_e, t2_e, t3_e)\n",
    "print(B.tolist())"
   ]
  },
  {
   "cell_type": "code",
   "execution_count": null,
   "metadata": {},
   "outputs": [],
   "source": []
  }
 ],
 "metadata": {
  "kernelspec": {
   "display_name": "Python 3",
   "language": "python",
   "name": "python3"
  },
  "language_info": {
   "codemirror_mode": {
    "name": "ipython",
    "version": 3
   },
   "file_extension": ".py",
   "mimetype": "text/x-python",
   "name": "python",
   "nbconvert_exporter": "python",
   "pygments_lexer": "ipython3",
   "version": "3.8.5"
  }
 },
 "nbformat": 4,
 "nbformat_minor": 4
}
